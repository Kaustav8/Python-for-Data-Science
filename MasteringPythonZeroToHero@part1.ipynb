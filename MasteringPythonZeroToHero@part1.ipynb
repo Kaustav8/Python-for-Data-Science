{
 "cells": [
  {
   "cell_type": "markdown",
   "id": "163fde25",
   "metadata": {},
   "source": [
    "# This is a Python Tutorial"
   ]
  },
  {
   "cell_type": "markdown",
   "id": "dab66f1e",
   "metadata": {},
   "source": [
    "Suppose the Jupyter notebook gets stuck while working, then Go-to Kernel --> Restart & Clear Output / Restart"
   ]
  },
  {
   "cell_type": "markdown",
   "id": "d21437d7",
   "metadata": {},
   "source": [
    "This is our first program in Python. We have started this here."
   ]
  },
  {
   "cell_type": "code",
   "execution_count": 1,
   "id": "9181ad15",
   "metadata": {},
   "outputs": [
    {
     "name": "stdout",
     "output_type": "stream",
     "text": [
      "Hello World\n"
     ]
    }
   ],
   "source": [
    "print(\"Hello World\")"
   ]
  },
  {
   "cell_type": "markdown",
   "id": "e9ab9e4a",
   "metadata": {},
   "source": [
    "We can write mathematical expressions using latex as markdown(not code) : here we have used---> $a=b+c$"
   ]
  },
  {
   "cell_type": "markdown",
   "id": "b6201888",
   "metadata": {},
   "source": [
    "$a=b+c$"
   ]
  },
  {
   "cell_type": "markdown",
   "id": "276213bd",
   "metadata": {},
   "source": [
    "# Variables"
   ]
  },
  {
   "cell_type": "code",
   "execution_count": 1,
   "id": "440b5554",
   "metadata": {},
   "outputs": [],
   "source": [
    "x=3"
   ]
  },
  {
   "cell_type": "markdown",
   "id": "09533bd5",
   "metadata": {},
   "source": [
    "If we want to know how many variables are there right now in the memory, then we should follow the below syntax. Now to explicitly check the type of the variable x we have to write the syntax in line 3"
   ]
  },
  {
   "cell_type": "code",
   "execution_count": 2,
   "id": "5ae06ff3",
   "metadata": {},
   "outputs": [
    {
     "name": "stdout",
     "output_type": "stream",
     "text": [
      "Variable   Type    Data/Info\n",
      "----------------------------\n",
      "x          int     3\n"
     ]
    }
   ],
   "source": [
    "%whos"
   ]
  },
  {
   "cell_type": "code",
   "execution_count": 3,
   "id": "9ea78449",
   "metadata": {},
   "outputs": [
    {
     "name": "stdout",
     "output_type": "stream",
     "text": [
      "<class 'int'>\n"
     ]
    }
   ],
   "source": [
    "print(type(x))"
   ]
  },
  {
   "cell_type": "code",
   "execution_count": 4,
   "id": "82ac2e88",
   "metadata": {},
   "outputs": [],
   "source": [
    "x=5.7"
   ]
  },
  {
   "cell_type": "code",
   "execution_count": 5,
   "id": "080853c3",
   "metadata": {},
   "outputs": [
    {
     "name": "stdout",
     "output_type": "stream",
     "text": [
      "Variable   Type     Data/Info\n",
      "-----------------------------\n",
      "x          float    5.7\n"
     ]
    }
   ],
   "source": [
    "%whos"
   ]
  },
  {
   "cell_type": "code",
   "execution_count": 6,
   "id": "26feaab4",
   "metadata": {},
   "outputs": [
    {
     "name": "stdout",
     "output_type": "stream",
     "text": [
      "<class 'float'>\n"
     ]
    }
   ],
   "source": [
    "print(type(x))"
   ]
  },
  {
   "cell_type": "code",
   "execution_count": 7,
   "id": "0b5add78",
   "metadata": {},
   "outputs": [],
   "source": [
    "abcd=556.32"
   ]
  },
  {
   "cell_type": "code",
   "execution_count": 8,
   "id": "6256ed94",
   "metadata": {},
   "outputs": [
    {
     "name": "stdout",
     "output_type": "stream",
     "text": [
      "Variable   Type     Data/Info\n",
      "-----------------------------\n",
      "abcd       float    556.32\n",
      "x          float    5.7\n"
     ]
    }
   ],
   "source": [
    "%whos"
   ]
  },
  {
   "cell_type": "code",
   "execution_count": 9,
   "id": "54089b92",
   "metadata": {},
   "outputs": [],
   "source": [
    "a,b,c,d,f = 3,5,6.0,7.2,-3"
   ]
  },
  {
   "cell_type": "code",
   "execution_count": 10,
   "id": "42d9f517",
   "metadata": {},
   "outputs": [
    {
     "name": "stdout",
     "output_type": "stream",
     "text": [
      "Variable   Type     Data/Info\n",
      "-----------------------------\n",
      "a          int      3\n",
      "abcd       float    556.32\n",
      "b          int      5\n",
      "c          float    6.0\n",
      "d          float    7.2\n",
      "f          int      -3\n",
      "x          float    5.7\n"
     ]
    }
   ],
   "source": [
    "%whos"
   ]
  },
  {
   "cell_type": "markdown",
   "id": "07e3ea2f",
   "metadata": {},
   "source": [
    "Here we should notice that the value assigned to variable c is float because we have used a \".0\" after the integer 6"
   ]
  },
  {
   "cell_type": "code",
   "execution_count": 11,
   "id": "89bc35d8",
   "metadata": {},
   "outputs": [],
   "source": [
    "del abcd"
   ]
  },
  {
   "cell_type": "code",
   "execution_count": 12,
   "id": "3c06c840",
   "metadata": {},
   "outputs": [
    {
     "name": "stdout",
     "output_type": "stream",
     "text": [
      "Variable   Type     Data/Info\n",
      "-----------------------------\n",
      "a          int      3\n",
      "b          int      5\n",
      "c          float    6.0\n",
      "d          float    7.2\n",
      "f          int      -3\n",
      "x          float    5.7\n"
     ]
    }
   ],
   "source": [
    "%whos"
   ]
  },
  {
   "cell_type": "markdown",
   "id": "1defc9f6",
   "metadata": {},
   "source": [
    "So here we have deleted the variable abcd from the memory and if we run this variable as print(abcd) it will give an error"
   ]
  },
  {
   "cell_type": "code",
   "execution_count": 13,
   "id": "eca10556",
   "metadata": {},
   "outputs": [],
   "source": [
    "c=2+4j"
   ]
  },
  {
   "cell_type": "code",
   "execution_count": 14,
   "id": "a9e1cf4e",
   "metadata": {},
   "outputs": [
    {
     "name": "stdout",
     "output_type": "stream",
     "text": [
      "<class 'complex'>\n"
     ]
    }
   ],
   "source": [
    "print(type(c))"
   ]
  },
  {
   "cell_type": "code",
   "execution_count": 15,
   "id": "42941a16",
   "metadata": {},
   "outputs": [],
   "source": [
    "s= \"hello how are you\""
   ]
  },
  {
   "cell_type": "code",
   "execution_count": 16,
   "id": "27e29029",
   "metadata": {},
   "outputs": [
    {
     "name": "stdout",
     "output_type": "stream",
     "text": [
      "<class 'str'>\n"
     ]
    }
   ],
   "source": [
    "print(type(s))"
   ]
  },
  {
   "cell_type": "markdown",
   "id": "e8961c09",
   "metadata": {},
   "source": [
    "# Operators"
   ]
  },
  {
   "cell_type": "code",
   "execution_count": 17,
   "id": "c289c325",
   "metadata": {},
   "outputs": [
    {
     "name": "stdout",
     "output_type": "stream",
     "text": [
      "Variable   Type       Data/Info\n",
      "-------------------------------\n",
      "a          int        3\n",
      "b          int        5\n",
      "c          complex    (2+4j)\n",
      "d          float      7.2\n",
      "f          int        -3\n",
      "s          str        hello how are you\n",
      "x          float      5.7\n"
     ]
    }
   ],
   "source": [
    "%whos"
   ]
  },
  {
   "cell_type": "code",
   "execution_count": 18,
   "id": "0b73867b",
   "metadata": {},
   "outputs": [],
   "source": [
    "Sum_a_b = a+b"
   ]
  },
  {
   "cell_type": "code",
   "execution_count": 19,
   "id": "e132eb7e",
   "metadata": {},
   "outputs": [
    {
     "name": "stdout",
     "output_type": "stream",
     "text": [
      "8\n"
     ]
    }
   ],
   "source": [
    "print(Sum_a_b)"
   ]
  },
  {
   "cell_type": "code",
   "execution_count": 20,
   "id": "b0c9acd9",
   "metadata": {},
   "outputs": [
    {
     "data": {
      "text/plain": [
       "int"
      ]
     },
     "execution_count": 20,
     "metadata": {},
     "output_type": "execute_result"
    }
   ],
   "source": [
    "type(Sum_a_b)"
   ]
  },
  {
   "cell_type": "code",
   "execution_count": 21,
   "id": "6bdc67d5",
   "metadata": {},
   "outputs": [
    {
     "data": {
      "text/plain": [
       "float"
      ]
     },
     "execution_count": 21,
     "metadata": {},
     "output_type": "execute_result"
    }
   ],
   "source": [
    "type(a+d)"
   ]
  },
  {
   "cell_type": "code",
   "execution_count": 22,
   "id": "8153e92f",
   "metadata": {},
   "outputs": [],
   "source": [
    "v = ((a+d)**3)/4"
   ]
  },
  {
   "cell_type": "code",
   "execution_count": 23,
   "id": "6460e208",
   "metadata": {},
   "outputs": [
    {
     "name": "stdout",
     "output_type": "stream",
     "text": [
      "265.30199999999996\n"
     ]
    }
   ],
   "source": [
    "print(v)"
   ]
  },
  {
   "cell_type": "code",
   "execution_count": 24,
   "id": "1379cdea",
   "metadata": {},
   "outputs": [
    {
     "name": "stdout",
     "output_type": "stream",
     "text": [
      "helloworld\n"
     ]
    }
   ],
   "source": [
    "s1 = \"hello\"\n",
    "s2 = \"world\"\n",
    "s = s1+s2\n",
    "print(s)"
   ]
  },
  {
   "cell_type": "markdown",
   "id": "e33b37dc",
   "metadata": {},
   "source": [
    "So the individual strings get concatenated."
   ]
  },
  {
   "cell_type": "code",
   "execution_count": 2,
   "id": "4e4fbe7c",
   "metadata": {},
   "outputs": [
    {
     "data": {
      "text/plain": [
       "3"
      ]
     },
     "execution_count": 2,
     "metadata": {},
     "output_type": "execute_result"
    }
   ],
   "source": [
    "(10//3)     "
   ]
  },
  {
   "cell_type": "code",
   "execution_count": 26,
   "id": "5e424a25",
   "metadata": {},
   "outputs": [
    {
     "data": {
      "text/plain": [
       "3.3333333333333335"
      ]
     },
     "execution_count": 26,
     "metadata": {},
     "output_type": "execute_result"
    }
   ],
   "source": [
    "10/3"
   ]
  },
  {
   "cell_type": "markdown",
   "id": "9677b7b6",
   "metadata": {},
   "source": [
    "If we do not store the result explicitly in a variable, there is default variable \"_\" (underscore) which contains the last result which is not stored explicitly and hence we should not assign any values to _ because then its default properties will change."
   ]
  },
  {
   "cell_type": "code",
   "execution_count": 27,
   "id": "26c6dd64",
   "metadata": {},
   "outputs": [
    {
     "data": {
      "text/plain": [
       "3.3333333333333335"
      ]
     },
     "execution_count": 27,
     "metadata": {},
     "output_type": "execute_result"
    }
   ],
   "source": [
    "_"
   ]
  },
  {
   "cell_type": "markdown",
   "id": "f993ab3b",
   "metadata": {},
   "source": [
    "A variable name cannot start with a digit. for example ---> not with 3x, @2 but it can start with _"
   ]
  },
  {
   "cell_type": "code",
   "execution_count": 28,
   "id": "856dc49e",
   "metadata": {},
   "outputs": [
    {
     "ename": "SyntaxError",
     "evalue": "invalid syntax (Temp/ipykernel_6520/1671370663.py, line 1)",
     "output_type": "error",
     "traceback": [
      "\u001b[1;36m  File \u001b[1;32m\"C:\\Users\\TK3ED7~1.DAS\\AppData\\Local\\Temp/ipykernel_6520/1671370663.py\"\u001b[1;36m, line \u001b[1;32m1\u001b[0m\n\u001b[1;33m    3x = 5\u001b[0m\n\u001b[1;37m     ^\u001b[0m\n\u001b[1;31mSyntaxError\u001b[0m\u001b[1;31m:\u001b[0m invalid syntax\n"
     ]
    }
   ],
   "source": [
    "3x = 5"
   ]
  },
  {
   "cell_type": "code",
   "execution_count": 29,
   "id": "a8217227",
   "metadata": {},
   "outputs": [
    {
     "ename": "SyntaxError",
     "evalue": "invalid syntax (Temp/ipykernel_6520/1883568809.py, line 1)",
     "output_type": "error",
     "traceback": [
      "\u001b[1;36m  File \u001b[1;32m\"C:\\Users\\TK3ED7~1.DAS\\AppData\\Local\\Temp/ipykernel_6520/1883568809.py\"\u001b[1;36m, line \u001b[1;32m1\u001b[0m\n\u001b[1;33m    @y = 4\u001b[0m\n\u001b[1;37m       ^\u001b[0m\n\u001b[1;31mSyntaxError\u001b[0m\u001b[1;31m:\u001b[0m invalid syntax\n"
     ]
    }
   ],
   "source": [
    "@y = 4"
   ]
  },
  {
   "cell_type": "code",
   "execution_count": 30,
   "id": "1c879b26",
   "metadata": {},
   "outputs": [],
   "source": [
    "_e = 6"
   ]
  },
  {
   "cell_type": "code",
   "execution_count": 31,
   "id": "ef277a8d",
   "metadata": {},
   "outputs": [],
   "source": [
    "startingTimeOfTheCourse = 2.0"
   ]
  },
  {
   "cell_type": "code",
   "execution_count": 32,
   "id": "ade1bff7",
   "metadata": {},
   "outputs": [
    {
     "name": "stdout",
     "output_type": "stream",
     "text": [
      "Variable                  Type       Data/Info\n",
      "----------------------------------------------\n",
      "Sum_a_b                   int        8\n",
      "a                         int        3\n",
      "b                         int        5\n",
      "c                         complex    (2+4j)\n",
      "d                         float      7.2\n",
      "f                         int        -3\n",
      "s                         str        helloworld\n",
      "s1                        str        hello\n",
      "s2                        str        world\n",
      "startingTimeOfTheCourse   float      2.0\n",
      "v                         float      265.30199999999996\n",
      "x                         float      5.7\n"
     ]
    }
   ],
   "source": [
    "%whos"
   ]
  },
  {
   "cell_type": "markdown",
   "id": "fa25f691",
   "metadata": {},
   "source": [
    "A very popular notation that is \"camel\" notation can be used to define variables. It is widely used by Java developers."
   ]
  },
  {
   "cell_type": "markdown",
   "id": "2c95ca7c",
   "metadata": {},
   "source": [
    "# Bool"
   ]
  },
  {
   "cell_type": "code",
   "execution_count": 33,
   "id": "6bc9b158",
   "metadata": {},
   "outputs": [],
   "source": [
    "a = True\n",
    "b = True\n",
    "c = False"
   ]
  },
  {
   "cell_type": "code",
   "execution_count": 34,
   "id": "e969fcad",
   "metadata": {},
   "outputs": [
    {
     "name": "stdout",
     "output_type": "stream",
     "text": [
      "Variable                  Type     Data/Info\n",
      "--------------------------------------------\n",
      "Sum_a_b                   int      8\n",
      "a                         bool     True\n",
      "b                         bool     True\n",
      "c                         bool     False\n",
      "d                         float    7.2\n",
      "f                         int      -3\n",
      "s                         str      helloworld\n",
      "s1                        str      hello\n",
      "s2                        str      world\n",
      "startingTimeOfTheCourse   float    2.0\n",
      "v                         float    265.30199999999996\n",
      "x                         float    5.7\n"
     ]
    }
   ],
   "source": [
    "%whos"
   ]
  },
  {
   "cell_type": "code",
   "execution_count": 35,
   "id": "99350a28",
   "metadata": {},
   "outputs": [
    {
     "name": "stdout",
     "output_type": "stream",
     "text": [
      "True\n",
      "False\n",
      "False\n"
     ]
    }
   ],
   "source": [
    "print(a and b)\n",
    "print(a and c)\n",
    "print(c and a)"
   ]
  },
  {
   "cell_type": "code",
   "execution_count": 36,
   "id": "490e4abf",
   "metadata": {},
   "outputs": [
    {
     "name": "stdout",
     "output_type": "stream",
     "text": [
      "True\n"
     ]
    }
   ],
   "source": [
    "d = a or c\n",
    "print(d)"
   ]
  },
  {
   "cell_type": "code",
   "execution_count": 37,
   "id": "77a43c5e",
   "metadata": {},
   "outputs": [
    {
     "data": {
      "text/plain": [
       "False"
      ]
     },
     "execution_count": 37,
     "metadata": {},
     "output_type": "execute_result"
    }
   ],
   "source": [
    "not(a)"
   ]
  },
  {
   "cell_type": "code",
   "execution_count": 38,
   "id": "3820db49",
   "metadata": {},
   "outputs": [
    {
     "data": {
      "text/plain": [
       "False"
      ]
     },
     "execution_count": 38,
     "metadata": {},
     "output_type": "execute_result"
    }
   ],
   "source": [
    "not(b)"
   ]
  },
  {
   "cell_type": "code",
   "execution_count": 39,
   "id": "6c0e0d07",
   "metadata": {},
   "outputs": [
    {
     "data": {
      "text/plain": [
       "True"
      ]
     },
     "execution_count": 39,
     "metadata": {},
     "output_type": "execute_result"
    }
   ],
   "source": [
    "not(c)"
   ]
  },
  {
   "cell_type": "code",
   "execution_count": 40,
   "id": "8eebe761",
   "metadata": {},
   "outputs": [
    {
     "name": "stdout",
     "output_type": "stream",
     "text": [
      "<class 'bool'>\n"
     ]
    }
   ],
   "source": [
    "t = not(d)\n",
    "print(type(t))"
   ]
  },
  {
   "cell_type": "code",
   "execution_count": 41,
   "id": "5d86281c",
   "metadata": {},
   "outputs": [
    {
     "data": {
      "text/plain": [
       "False"
      ]
     },
     "execution_count": 41,
     "metadata": {},
     "output_type": "execute_result"
    }
   ],
   "source": [
    "not((a and b) or (c or d))"
   ]
  },
  {
   "cell_type": "markdown",
   "id": "7161ef73",
   "metadata": {},
   "source": [
    "# Comparisons"
   ]
  },
  {
   "cell_type": "code",
   "execution_count": 42,
   "id": "092ee5df",
   "metadata": {},
   "outputs": [
    {
     "name": "stdout",
     "output_type": "stream",
     "text": [
      "True\n"
     ]
    }
   ],
   "source": [
    "print(2<3)"
   ]
  },
  {
   "cell_type": "code",
   "execution_count": 43,
   "id": "a93b69a2",
   "metadata": {},
   "outputs": [
    {
     "name": "stdout",
     "output_type": "stream",
     "text": [
      "<class 'bool'>\n",
      "True\n"
     ]
    }
   ],
   "source": [
    "c = 2<3\n",
    "print(type(c))\n",
    "print(c)"
   ]
  },
  {
   "cell_type": "code",
   "execution_count": 44,
   "id": "1de52f43",
   "metadata": {},
   "outputs": [
    {
     "data": {
      "text/plain": [
       "False"
      ]
     },
     "execution_count": 44,
     "metadata": {},
     "output_type": "execute_result"
    }
   ],
   "source": [
    "3==4"
   ]
  },
  {
   "cell_type": "code",
   "execution_count": 45,
   "id": "1d8460da",
   "metadata": {},
   "outputs": [],
   "source": [
    "d = 3==4"
   ]
  },
  {
   "cell_type": "code",
   "execution_count": 46,
   "id": "d956f145",
   "metadata": {},
   "outputs": [
    {
     "name": "stdout",
     "output_type": "stream",
     "text": [
      "False\n"
     ]
    }
   ],
   "source": [
    "print(d)"
   ]
  },
  {
   "cell_type": "code",
   "execution_count": 47,
   "id": "ab781feb",
   "metadata": {},
   "outputs": [
    {
     "data": {
      "text/plain": [
       "True"
      ]
     },
     "execution_count": 47,
     "metadata": {},
     "output_type": "execute_result"
    }
   ],
   "source": [
    "3==3.0"
   ]
  },
  {
   "cell_type": "code",
   "execution_count": 48,
   "id": "a6e101db",
   "metadata": {},
   "outputs": [],
   "source": [
    "x = 4\n",
    "y = 9\n",
    "z =8.3\n",
    "r = -3"
   ]
  },
  {
   "cell_type": "code",
   "execution_count": 49,
   "id": "af4de1a3",
   "metadata": {},
   "outputs": [
    {
     "data": {
      "text/plain": [
       "True"
      ]
     },
     "execution_count": 49,
     "metadata": {},
     "output_type": "execute_result"
    }
   ],
   "source": [
    "(x<y) and (z<y) or (r==x)"
   ]
  },
  {
   "cell_type": "code",
   "execution_count": 50,
   "id": "2988bc35",
   "metadata": {},
   "outputs": [
    {
     "data": {
      "text/plain": [
       "False"
      ]
     },
     "execution_count": 50,
     "metadata": {},
     "output_type": "execute_result"
    }
   ],
   "source": [
    "(r==x) and (x<y) or (z>y)"
   ]
  },
  {
   "cell_type": "markdown",
   "id": "4b9ad5e0",
   "metadata": {},
   "source": [
    "Use parentheses for better interpretability like --->  (True or False) and True"
   ]
  },
  {
   "cell_type": "code",
   "execution_count": 1,
   "id": "aac3b9f1",
   "metadata": {},
   "outputs": [
    {
     "name": "stdout",
     "output_type": "stream",
     "text": [
      "False\n"
     ]
    }
   ],
   "source": [
    "print((not(2!=3) and True) or (False and True))"
   ]
  },
  {
   "cell_type": "code",
   "execution_count": 2,
   "id": "6679b2db",
   "metadata": {},
   "outputs": [
    {
     "name": "stdout",
     "output_type": "stream",
     "text": [
      "5\n"
     ]
    }
   ],
   "source": [
    "print(round(4.556))"
   ]
  },
  {
   "cell_type": "code",
   "execution_count": 3,
   "id": "96459502",
   "metadata": {},
   "outputs": [
    {
     "name": "stdout",
     "output_type": "stream",
     "text": [
      "4\n"
     ]
    }
   ],
   "source": [
    "print(round(4.345))"
   ]
  },
  {
   "cell_type": "code",
   "execution_count": 5,
   "id": "5ceba3b2",
   "metadata": {},
   "outputs": [
    {
     "name": "stdout",
     "output_type": "stream",
     "text": [
      "4.557\n"
     ]
    }
   ],
   "source": [
    "print(round(4.556789,3))"
   ]
  },
  {
   "cell_type": "code",
   "execution_count": 10,
   "id": "934d92c1",
   "metadata": {},
   "outputs": [],
   "source": [
    "G = divmod(34,9)"
   ]
  },
  {
   "cell_type": "code",
   "execution_count": 11,
   "id": "4fe7bdb1",
   "metadata": {},
   "outputs": [
    {
     "data": {
      "text/plain": [
       "tuple"
      ]
     },
     "execution_count": 11,
     "metadata": {},
     "output_type": "execute_result"
    }
   ],
   "source": [
    "type(G)"
   ]
  },
  {
   "cell_type": "code",
   "execution_count": 12,
   "id": "14f68186",
   "metadata": {},
   "outputs": [
    {
     "name": "stdout",
     "output_type": "stream",
     "text": [
      "(3, 7)\n"
     ]
    }
   ],
   "source": [
    "print(G)"
   ]
  },
  {
   "cell_type": "code",
   "execution_count": 13,
   "id": "81070c0a",
   "metadata": {},
   "outputs": [
    {
     "data": {
      "text/plain": [
       "3"
      ]
     },
     "execution_count": 13,
     "metadata": {},
     "output_type": "execute_result"
    }
   ],
   "source": [
    "G[0]"
   ]
  },
  {
   "cell_type": "code",
   "execution_count": 14,
   "id": "a2ec6fd6",
   "metadata": {},
   "outputs": [
    {
     "data": {
      "text/plain": [
       "7"
      ]
     },
     "execution_count": 14,
     "metadata": {},
     "output_type": "execute_result"
    }
   ],
   "source": [
    "G[1]"
   ]
  },
  {
   "cell_type": "code",
   "execution_count": 1,
   "id": "340ea724",
   "metadata": {},
   "outputs": [
    {
     "data": {
      "text/plain": [
       "True"
      ]
     },
     "execution_count": 1,
     "metadata": {},
     "output_type": "execute_result"
    }
   ],
   "source": [
    "isinstance(3,int)"
   ]
  },
  {
   "cell_type": "code",
   "execution_count": 4,
   "id": "61a58f21",
   "metadata": {},
   "outputs": [
    {
     "data": {
      "text/plain": [
       "True"
      ]
     },
     "execution_count": 4,
     "metadata": {},
     "output_type": "execute_result"
    }
   ],
   "source": [
    "isinstance(3.4,(float,int))"
   ]
  },
  {
   "cell_type": "code",
   "execution_count": 5,
   "id": "b26dc2a6",
   "metadata": {},
   "outputs": [
    {
     "data": {
      "text/plain": [
       "True"
      ]
     },
     "execution_count": 5,
     "metadata": {},
     "output_type": "execute_result"
    }
   ],
   "source": [
    "isinstance(2+3j,(float,int,complex,str))"
   ]
  },
  {
   "cell_type": "code",
   "execution_count": 6,
   "id": "7c5e01ca",
   "metadata": {},
   "outputs": [
    {
     "data": {
      "text/plain": [
       "16"
      ]
     },
     "execution_count": 6,
     "metadata": {},
     "output_type": "execute_result"
    }
   ],
   "source": [
    "pow(2,4)"
   ]
  },
  {
   "cell_type": "code",
   "execution_count": 7,
   "id": "abd27b7c",
   "metadata": {},
   "outputs": [
    {
     "data": {
      "text/plain": [
       "16"
      ]
     },
     "execution_count": 7,
     "metadata": {},
     "output_type": "execute_result"
    }
   ],
   "source": [
    "2**4"
   ]
  },
  {
   "cell_type": "code",
   "execution_count": 8,
   "id": "0937c79a",
   "metadata": {},
   "outputs": [
    {
     "data": {
      "text/plain": [
       "2"
      ]
     },
     "execution_count": 8,
     "metadata": {},
     "output_type": "execute_result"
    }
   ],
   "source": [
    "pow(2,4,7)"
   ]
  },
  {
   "cell_type": "markdown",
   "id": "8a6ac029",
   "metadata": {},
   "source": [
    "The above function gives the remainder of 2 raise to the power 4 and divided by 7"
   ]
  },
  {
   "cell_type": "code",
   "execution_count": 9,
   "id": "89f5940b",
   "metadata": {},
   "outputs": [
    {
     "name": "stdout",
     "output_type": "stream",
     "text": [
      "Enter a number :56\n"
     ]
    }
   ],
   "source": [
    "x = input(\"Enter a number :\")"
   ]
  },
  {
   "cell_type": "code",
   "execution_count": 10,
   "id": "9f3d0555",
   "metadata": {},
   "outputs": [
    {
     "data": {
      "text/plain": [
       "str"
      ]
     },
     "execution_count": 10,
     "metadata": {},
     "output_type": "execute_result"
    }
   ],
   "source": [
    "type(x)"
   ]
  },
  {
   "cell_type": "code",
   "execution_count": 11,
   "id": "d6b599d5",
   "metadata": {},
   "outputs": [],
   "source": [
    "x = int(x)"
   ]
  },
  {
   "cell_type": "code",
   "execution_count": 12,
   "id": "3651f68b",
   "metadata": {},
   "outputs": [
    {
     "data": {
      "text/plain": [
       "int"
      ]
     },
     "execution_count": 12,
     "metadata": {},
     "output_type": "execute_result"
    }
   ],
   "source": [
    "type(x)"
   ]
  },
  {
   "cell_type": "code",
   "execution_count": 13,
   "id": "4b873777",
   "metadata": {},
   "outputs": [
    {
     "name": "stdout",
     "output_type": "stream",
     "text": [
      "22\n"
     ]
    }
   ],
   "source": [
    "print(x-34)"
   ]
  },
  {
   "cell_type": "code",
   "execution_count": 14,
   "id": "245a472c",
   "metadata": {},
   "outputs": [
    {
     "name": "stdout",
     "output_type": "stream",
     "text": [
      "Enter a number :12.56\n"
     ]
    }
   ],
   "source": [
    "a = float(input(\"Enter a number :\"))"
   ]
  },
  {
   "cell_type": "code",
   "execution_count": 15,
   "id": "bc91c3cf",
   "metadata": {},
   "outputs": [
    {
     "data": {
      "text/plain": [
       "float"
      ]
     },
     "execution_count": 15,
     "metadata": {},
     "output_type": "execute_result"
    }
   ],
   "source": [
    "type(a)"
   ]
  },
  {
   "cell_type": "code",
   "execution_count": 17,
   "id": "608cc07d",
   "metadata": {},
   "outputs": [
    {
     "name": "stdout",
     "output_type": "stream",
     "text": [
      "Enter a real number :abc\n"
     ]
    },
    {
     "ename": "ValueError",
     "evalue": "could not convert string to float: 'abc'",
     "output_type": "error",
     "traceback": [
      "\u001b[1;31m---------------------------------------------------------------------------\u001b[0m",
      "\u001b[1;31mValueError\u001b[0m                                Traceback (most recent call last)",
      "\u001b[1;32mC:\\Users\\TK3ED7~1.DAS\\AppData\\Local\\Temp/ipykernel_6288/2444362433.py\u001b[0m in \u001b[0;36m<module>\u001b[1;34m\u001b[0m\n\u001b[1;32m----> 1\u001b[1;33m \u001b[0mb\u001b[0m \u001b[1;33m=\u001b[0m \u001b[0mfloat\u001b[0m\u001b[1;33m(\u001b[0m\u001b[0minput\u001b[0m\u001b[1;33m(\u001b[0m\u001b[1;34m\"Enter a real number :\"\u001b[0m\u001b[1;33m)\u001b[0m\u001b[1;33m)\u001b[0m\u001b[1;33m\u001b[0m\u001b[1;33m\u001b[0m\u001b[0m\n\u001b[0m",
      "\u001b[1;31mValueError\u001b[0m: could not convert string to float: 'abc'"
     ]
    }
   ],
   "source": [
    "b = float(input(\"Enter a real number :\"))"
   ]
  },
  {
   "cell_type": "markdown",
   "id": "80fb54a8",
   "metadata": {},
   "source": [
    "If we know the function name but do not remember the syntax or how to use that function the we should write down the \"function_name\"? to use the help and to see the implementation we should use ?? instaead of ? and also can be used by writing \"help(pow)\""
   ]
  },
  {
   "cell_type": "code",
   "execution_count": 20,
   "id": "1fb41550",
   "metadata": {},
   "outputs": [],
   "source": [
    "pow??"
   ]
  },
  {
   "cell_type": "markdown",
   "id": "249b1f09",
   "metadata": {},
   "source": [
    "# Control Flow (if condition)"
   ]
  },
  {
   "cell_type": "code",
   "execution_count": 21,
   "id": "707f3ac3",
   "metadata": {},
   "outputs": [
    {
     "name": "stdout",
     "output_type": "stream",
     "text": [
      "45\n",
      "10\n",
      "45\n",
      "I am still inside the if condition\n",
      "I am outside the if condition\n"
     ]
    }
   ],
   "source": [
    "a = int(input())\n",
    "b = int(input())\n",
    "if a>b:\n",
    "    print(a)\n",
    "    print(\"I am still inside the if condition\")\n",
    "    \n",
    "print(\"I am outside the if condition\")"
   ]
  },
  {
   "cell_type": "code",
   "execution_count": 2,
   "id": "4646e2ef",
   "metadata": {},
   "outputs": [
    {
     "name": "stdout",
     "output_type": "stream",
     "text": [
      "32\n",
      "21\n",
      "32\n"
     ]
    }
   ],
   "source": [
    "a = int(input())\n",
    "b = int(input())\n",
    "if a>b:\n",
    "    print(a)\n",
    "if b>a:\n",
    "    print(b)\n"
   ]
  },
  {
   "cell_type": "markdown",
   "id": "fa60dfc6",
   "metadata": {},
   "source": [
    "# Control Flow (if-else)"
   ]
  },
  {
   "cell_type": "code",
   "execution_count": 5,
   "id": "a86780ca",
   "metadata": {},
   "outputs": [
    {
     "name": "stdout",
     "output_type": "stream",
     "text": [
      "10\n",
      "10\n",
      "a is not greater than b\n"
     ]
    }
   ],
   "source": [
    "a = int(input())\n",
    "b = int(input())\n",
    "if a>b:\n",
    "    print(\"a is greater than b\")\n",
    "else:\n",
    "    print(\"a is not greater than b\")\n"
   ]
  },
  {
   "cell_type": "markdown",
   "id": "1bd3b986",
   "metadata": {},
   "source": [
    "# Control Flow (if-elif-else)"
   ]
  },
  {
   "cell_type": "code",
   "execution_count": 10,
   "id": "cb885efe",
   "metadata": {},
   "outputs": [
    {
     "name": "stdout",
     "output_type": "stream",
     "text": [
      "Enter first number: 348547.6454\n",
      "Enter second number: 222222222.56\n",
      "Second number is greater than the first\n"
     ]
    }
   ],
   "source": [
    "a = float(input(\"Enter first number: \"))\n",
    "b = float(input(\"Enter second number: \"))\n",
    "if a>b:\n",
    "    print(\"First number is greater than the second\")\n",
    "elif a==b:\n",
    "    print(\"Two numbers are equal\")\n",
    "else:\n",
    "    print(\"Second number is greater than the first\")\n"
   ]
  },
  {
   "cell_type": "markdown",
   "id": "139a9066",
   "metadata": {},
   "source": [
    "# Control Flow (short hand if)"
   ]
  },
  {
   "cell_type": "code",
   "execution_count": 13,
   "id": "02cf375c",
   "metadata": {},
   "outputs": [
    {
     "name": "stdout",
     "output_type": "stream",
     "text": [
      "Enter marks :64\n",
      "Below Average\n"
     ]
    }
   ],
   "source": [
    "a = int(input(\"Enter marks :\"))\n",
    "if a>=85:\n",
    "    print(\"Grade A\")\n",
    "elif (a<85) and (a>=80):\n",
    "    print(\"Grade A-\")\n",
    "elif (a<80) and (a>=75):\n",
    "    print(\"Grade B\")\n",
    "elif (a<75) and (a>=70):\n",
    "    print(\"Grade B-\")\n",
    "else:\n",
    "    print(\"Below Average\")"
   ]
  },
  {
   "cell_type": "code",
   "execution_count": 21,
   "id": "432285c6",
   "metadata": {},
   "outputs": [
    {
     "name": "stdout",
     "output_type": "stream",
     "text": [
      "Enter marks :80\n",
      "Grade A\n"
     ]
    }
   ],
   "source": [
    "a = float(input(\"Enter marks :\"))\n",
    "print(\"Grade A+\") if a>=85 else print(\"Grade A\") if (a<85) and (a>=80) else print(\"Grade A\") if (a<80) and (a>=75) else print(\"Grade B\") if (a<75) and (a>=70) else print(\"Below Average\")\n"
   ]
  },
  {
   "cell_type": "markdown",
   "id": "c1d3f5c1",
   "metadata": {},
   "source": [
    "Now else can be replace by using elif like the one shown in the following code."
   ]
  },
  {
   "cell_type": "code",
   "execution_count": 25,
   "id": "8a04fc3a",
   "metadata": {},
   "outputs": [
    {
     "name": "stdout",
     "output_type": "stream",
     "text": [
      "8\n",
      "The given number is < or = 10\n"
     ]
    }
   ],
   "source": [
    "a = float(input())\n",
    "if a>10:\n",
    "    print(\"The given number is >10\")\n",
    "elif not(a>10):\n",
    "    print(\"The given number is < or = 10\")"
   ]
  },
  {
   "cell_type": "markdown",
   "id": "3209cd63",
   "metadata": {},
   "source": [
    "# Control Flow (Nested if)"
   ]
  },
  {
   "cell_type": "code",
   "execution_count": 27,
   "id": "3ee2ff46",
   "metadata": {},
   "outputs": [
    {
     "name": "stdout",
     "output_type": "stream",
     "text": [
      "8\n",
      "Outside all ifs\n"
     ]
    }
   ],
   "source": [
    "a = int(input())\n",
    "if a>10:\n",
    "    print(\">10\")\n",
    "    print(\"Inside the top if\")\n",
    "    if a>20:\n",
    "        print(\">20\")\n",
    "        print(\"Inside the nested if\")\n",
    "    else:\n",
    "        print(\"<=20\")\n",
    "        print(\"Inside the else part of nested if\")\n",
    "print(\"Outside all ifs\")"
   ]
  },
  {
   "cell_type": "code",
   "execution_count": 40,
   "id": "222a9a77",
   "metadata": {},
   "outputs": [
    {
     "name": "stdout",
     "output_type": "stream",
     "text": [
      "Enter a real number :238.915\n",
      "The number is even\n"
     ]
    }
   ],
   "source": [
    "# single line comment\n",
    "\"\"\"\n",
    "User will enter a floating point number lets say 238.915. Your task\n",
    "is to find out the integer portion before the point (in this case 238) and check\n",
    "if that integer portion is and even number or not\n",
    "\"\"\"\n",
    "\n",
    "x = float(input(\"Enter a real number :\"))\n",
    "y = int(x)\n",
    "if y%2==0:\n",
    "    print(\"The number is even\")\n",
    "else:\n",
    "    print(\"The number is odd\")"
   ]
  },
  {
   "cell_type": "markdown",
   "id": "284b3cc7",
   "metadata": {},
   "source": [
    "# Control Flow (Loops)"
   ]
  },
  {
   "cell_type": "code",
   "execution_count": 3,
   "id": "e42f0944",
   "metadata": {},
   "outputs": [
    {
     "name": "stdout",
     "output_type": "stream",
     "text": [
      "Max Iterations :5\n",
      "Iteration 1 : 1\n",
      "Iteration 2 : 4\n",
      "Iteration 3 : 9\n",
      "Iteration 4 : 16\n",
      "Loop Done\n"
     ]
    }
   ],
   "source": [
    "n = int(input('Max Iterations :'))\n",
    "i=1\n",
    "while (i<n):\n",
    "    print(\"Iteration\",i,\":\",i**2)\n",
    "    i+=1 # i = i+1\n",
    "print(\"Loop Done\")\n"
   ]
  },
  {
   "cell_type": "code",
   "execution_count": 5,
   "id": "542dba8e",
   "metadata": {},
   "outputs": [
    {
     "name": "stdout",
     "output_type": "stream",
     "text": [
      "Max Iterations :5\n",
      "2\n",
      "4\n",
      "Loop Done\n"
     ]
    }
   ],
   "source": [
    "n = int(input('Max Iterations :'))\n",
    "i=1\n",
    "while (i<n):\n",
    "    if i%2 == 0:\n",
    "        print(i)\n",
    "    else:\n",
    "        pass\n",
    "    i+=1 # i = i+1\n",
    "print(\"Loop Done\")"
   ]
  },
  {
   "cell_type": "code",
   "execution_count": 7,
   "id": "465c6e7e",
   "metadata": {},
   "outputs": [
    {
     "name": "stdout",
     "output_type": "stream",
     "text": [
      "inside else\n",
      "inside else\n",
      "inside else\n",
      "inside else\n",
      "inside else\n",
      "inside else\n",
      "inside else\n",
      "inside else\n",
      "inside if\n",
      "done\n"
     ]
    }
   ],
   "source": [
    "n = 10\n",
    "i=1\n",
    "while True:\n",
    "    if i%9 == 0:\n",
    "        print(\"inside if\")\n",
    "        break\n",
    "    else:\n",
    "        print(\"inside else\")\n",
    "        i = i+1  # i += 1\n",
    "print(\"done\")\n"
   ]
  },
  {
   "cell_type": "code",
   "execution_count": 8,
   "id": "99288ffa",
   "metadata": {},
   "outputs": [
    {
     "name": "stdout",
     "output_type": "stream",
     "text": [
      "inside if\n",
      "inside if\n",
      "inside if\n",
      "inside if\n",
      "inside if\n",
      "inside if\n",
      "inside if\n",
      "inside if\n",
      "something\n",
      "something else\n",
      "done\n"
     ]
    }
   ],
   "source": [
    "n = 10\n",
    "i=1\n",
    "while True:\n",
    "    if i%9 != 0:\n",
    "        print(\"inside if\")\n",
    "        i = i+1  # i += 1\n",
    "        continue\n",
    "    print(\"something\")\n",
    "    print(\"something else\")\n",
    "    break\n",
    "print(\"done\")"
   ]
  },
  {
   "cell_type": "markdown",
   "id": "d13435bd",
   "metadata": {},
   "source": [
    "# Control Flow (for Loop)"
   ]
  },
  {
   "cell_type": "code",
   "execution_count": 9,
   "id": "06f84377",
   "metadata": {},
   "outputs": [
    {
     "name": "stdout",
     "output_type": "stream",
     "text": [
      "1\n",
      "2\n",
      "3\n",
      "4\n",
      "5\n",
      "6\n",
      "7\n",
      "8\n",
      "9\n",
      "10\n",
      "[0, 1, 4, 9, 16, 25, 36, 49, 64, 81]\n"
     ]
    }
   ],
   "source": [
    "L = []\n",
    "for i in range(10):\n",
    "    print(i+1)\n",
    "    L.append(i**2)\n",
    "print(L)"
   ]
  },
  {
   "cell_type": "code",
   "execution_count": 10,
   "id": "0589dc35",
   "metadata": {},
   "outputs": [
    {
     "name": "stdout",
     "output_type": "stream",
     "text": [
      "1\n",
      "3\n",
      "5\n",
      "7\n",
      "9\n",
      "[0, 4, 16, 36, 64]\n"
     ]
    }
   ],
   "source": [
    "L = []\n",
    "for i in range(0,10,2):\n",
    "    print(i+1)\n",
    "    L.append(i**2)\n",
    "print(L)"
   ]
  },
  {
   "cell_type": "markdown",
   "id": "8240d00e",
   "metadata": {},
   "source": [
    "The above range function has been written using a step value of 2 "
   ]
  },
  {
   "cell_type": "markdown",
   "id": "f9e0bfb2",
   "metadata": {},
   "source": [
    "# Control Flow ( else in for Loops)"
   ]
  },
  {
   "cell_type": "code",
   "execution_count": 13,
   "id": "96810a08",
   "metadata": {},
   "outputs": [
    {
     "name": "stdout",
     "output_type": "stream",
     "text": [
      "apple\n",
      "4.9\n",
      "Outside the loop\n"
     ]
    }
   ],
   "source": [
    "S = {\"apple\" ,4.9, \"cherry\"} #set\n",
    "i = 1\n",
    "for x in S:\n",
    "    print(x)\n",
    "    i += 1\n",
    "    if i == 3:\n",
    "        break\n",
    "    else:\n",
    "        pass\n",
    "else:\n",
    "     print(\"Loop terminates with success\")\n",
    "print(\"Outside the loop\")\n"
   ]
  },
  {
   "cell_type": "markdown",
   "id": "da90b991",
   "metadata": {},
   "source": [
    "# Control Flow (Exploring a Dictionary)"
   ]
  },
  {
   "cell_type": "code",
   "execution_count": 14,
   "id": "91115238",
   "metadata": {},
   "outputs": [
    {
     "name": "stdout",
     "output_type": "stream",
     "text": [
      "A 10\n",
      "B -19\n",
      "C abc\n"
     ]
    }
   ],
   "source": [
    "D = {\"A\": 10, \"B\": -19, \"C\": \"abc\"}  # dictionary with keys \"A\", \"B\"  and \"C\"\n",
    "for x in D:\n",
    "    print(x,D[x])"
   ]
  },
  {
   "cell_type": "code",
   "execution_count": 21,
   "id": "35a12c62",
   "metadata": {},
   "outputs": [
    {
     "name": "stdout",
     "output_type": "stream",
     "text": [
      "[-5, 1, 2, 2, 3, 4, 7, 9]\n"
     ]
    }
   ],
   "source": [
    "\"\"\"\n",
    "Given a list of numbers i.e [1,2,4,-5,7,9,3,2], make another list\n",
    "that contains all the items in sorted order from min to max. i.e. your\n",
    "result will be another list like [-5,1,2,2,3,4,7,9]\n",
    "\"\"\"\n",
    "\n",
    "L = [1,2,4,-5,7,9,3,2]\n",
    "for j in range(len(L)):\n",
    "    idx = j\n",
    "    c = j\n",
    "    m = L[j]\n",
    "    for i in range(j,len(L)):\n",
    "        if L[i]<m:\n",
    "            m = L[i]\n",
    "            idx = c\n",
    "        c += 1\n",
    "    tmp = L[j]\n",
    "    L[j] = m\n",
    "    L[idx] = tmp\n",
    "print(L)"
   ]
  },
  {
   "cell_type": "markdown",
   "id": "8d0837dd",
   "metadata": {},
   "source": [
    "# Functions"
   ]
  },
  {
   "cell_type": "code",
   "execution_count": 22,
   "id": "c7f6c09c",
   "metadata": {},
   "outputs": [],
   "source": [
    "def printSuccess():\n",
    "    print(\"I am done\")\n",
    "    print(\"send me another task\")"
   ]
  },
  {
   "cell_type": "code",
   "execution_count": 23,
   "id": "ef595943",
   "metadata": {},
   "outputs": [
    {
     "name": "stdout",
     "output_type": "stream",
     "text": [
      "I am done\n",
      "send me another task\n"
     ]
    }
   ],
   "source": [
    "printSuccess()   # calling a function"
   ]
  },
  {
   "cell_type": "markdown",
   "id": "6e5954a5",
   "metadata": {},
   "source": [
    "# Functions (Doc string)"
   ]
  },
  {
   "cell_type": "code",
   "execution_count": 24,
   "id": "8bbe7cf3",
   "metadata": {},
   "outputs": [],
   "source": [
    "def printSuccess2():\n",
    "    \"\"\"This function is doing nothing except printing a message.\n",
    "    That message is \"hello\"\n",
    "    \"\"\"\n",
    "    print(\"hello\")"
   ]
  },
  {
   "cell_type": "code",
   "execution_count": 26,
   "id": "60c3c292",
   "metadata": {},
   "outputs": [],
   "source": [
    "printSuccess2??"
   ]
  },
  {
   "cell_type": "code",
   "execution_count": 29,
   "id": "4ca74fd5",
   "metadata": {},
   "outputs": [],
   "source": [
    "len??"
   ]
  },
  {
   "cell_type": "code",
   "execution_count": 30,
   "id": "5fdc4e59",
   "metadata": {},
   "outputs": [
    {
     "name": "stdout",
     "output_type": "stream",
     "text": [
      "Help on function printSuccess2 in module __main__:\n",
      "\n",
      "printSuccess2()\n",
      "    This function is doing nothing except printing a message.\n",
      "    That message is \"hello\"\n",
      "\n"
     ]
    }
   ],
   "source": [
    "help(printSuccess2)"
   ]
  },
  {
   "cell_type": "code",
   "execution_count": 31,
   "id": "313b0c75",
   "metadata": {},
   "outputs": [
    {
     "name": "stdout",
     "output_type": "stream",
     "text": [
      "hello\n"
     ]
    }
   ],
   "source": [
    "printSuccess2()"
   ]
  },
  {
   "cell_type": "markdown",
   "id": "00d526cd",
   "metadata": {},
   "source": [
    "# Functions (input arguments)"
   ]
  },
  {
   "cell_type": "code",
   "execution_count": 39,
   "id": "008029d3",
   "metadata": {},
   "outputs": [],
   "source": [
    "def printMsg(msg):\n",
    "    \"\"\"The function prints the message supplied by the user\n",
    "    or prints that msg is not in the form of string\"\"\"\n",
    "    if isinstance(msg,str):\n",
    "        print(msg)\n",
    "    else:\n",
    "        print(\"Your input argument is not a string\")\n",
    "        print(\"Here is the type of what you have supplied\",\":\", type(msg))"
   ]
  },
  {
   "cell_type": "code",
   "execution_count": 41,
   "id": "3cc58bff",
   "metadata": {},
   "outputs": [
    {
     "name": "stdout",
     "output_type": "stream",
     "text": [
      "This is the message\n"
     ]
    }
   ],
   "source": [
    "printMsg(\"This is the message\")"
   ]
  },
  {
   "cell_type": "code",
   "execution_count": 40,
   "id": "6c73b842",
   "metadata": {},
   "outputs": [
    {
     "name": "stdout",
     "output_type": "stream",
     "text": [
      "Your input argument is not a string\n",
      "Here is the type of what you have supplied : <class 'int'>\n"
     ]
    }
   ],
   "source": [
    "printMsg(23)"
   ]
  },
  {
   "cell_type": "code",
   "execution_count": 52,
   "id": "4cbb132c",
   "metadata": {},
   "outputs": [],
   "source": [
    "def mypow(x,y):\n",
    "    \"\"\" This function computes power just like builtin pow function\"\"\"\n",
    "    z = x**y\n",
    "    print(z)\n",
    "    "
   ]
  },
  {
   "cell_type": "code",
   "execution_count": 53,
   "id": "1c5b25b7",
   "metadata": {},
   "outputs": [
    {
     "name": "stdout",
     "output_type": "stream",
     "text": [
      "81\n"
     ]
    }
   ],
   "source": [
    "mypow(3,4)"
   ]
  },
  {
   "cell_type": "code",
   "execution_count": 69,
   "id": "a0f07db9",
   "metadata": {},
   "outputs": [],
   "source": [
    "def checkArgs(a,b,c):\n",
    "    if isinstance(a,(int,float)) and isinstance(b,(int,float)) and isinstance(c,(int,float)):\n",
    "        print(mypow((a+b+c),2))\n",
    "    else:\n",
    "        print(\"Error: the input arguments are not of the expected types\")"
   ]
  },
  {
   "cell_type": "code",
   "execution_count": 70,
   "id": "67daa515",
   "metadata": {},
   "outputs": [
    {
     "name": "stdout",
     "output_type": "stream",
     "text": [
      "144\n",
      "None\n"
     ]
    }
   ],
   "source": [
    "checkArgs(3,4,5)"
   ]
  },
  {
   "cell_type": "code",
   "execution_count": 72,
   "id": "c341aed5",
   "metadata": {},
   "outputs": [
    {
     "name": "stdout",
     "output_type": "stream",
     "text": [
      "Error: the input arguments are not of the expected types\n"
     ]
    }
   ],
   "source": [
    "checkArgs(3,4,\"g\")"
   ]
  },
  {
   "cell_type": "markdown",
   "id": "150a64c9",
   "metadata": {},
   "source": [
    "# Functions (Order of input arguments)"
   ]
  },
  {
   "cell_type": "code",
   "execution_count": 73,
   "id": "d83cf33a",
   "metadata": {},
   "outputs": [],
   "source": [
    "def f(a,b,c):\n",
    "    print(\"A is :\",a)\n",
    "    print(\"B is :\",b)\n",
    "    print(\"C is :\",c)\n",
    "        "
   ]
  },
  {
   "cell_type": "code",
   "execution_count": 75,
   "id": "ba9ccb7f",
   "metadata": {},
   "outputs": [
    {
     "name": "stdout",
     "output_type": "stream",
     "text": [
      "A is : 3\n",
      "B is : game\n",
      "C is : 2\n"
     ]
    }
   ],
   "source": [
    "#f(2,3,\"game\")\n",
    "f(3,\"game\",2)"
   ]
  },
  {
   "cell_type": "code",
   "execution_count": 77,
   "id": "8f00acd8",
   "metadata": {},
   "outputs": [
    {
     "name": "stdout",
     "output_type": "stream",
     "text": [
      "A is : 2\n",
      "B is : 3\n",
      "C is : game\n"
     ]
    }
   ],
   "source": [
    "f(a=2,c=\"game\",b=3)"
   ]
  },
  {
   "cell_type": "code",
   "execution_count": 80,
   "id": "201941a7",
   "metadata": {},
   "outputs": [],
   "source": [
    "def myadd(a,b):\n",
    "    sumValue = a+b\n",
    "    return sumValue"
   ]
  },
  {
   "cell_type": "code",
   "execution_count": 82,
   "id": "eb82c276",
   "metadata": {},
   "outputs": [
    {
     "name": "stdout",
     "output_type": "stream",
     "text": [
      "5\n"
     ]
    }
   ],
   "source": [
    "d = myadd(2,3)\n",
    "print(d)"
   ]
  },
  {
   "cell_type": "code",
   "execution_count": 83,
   "id": "8c22f812",
   "metadata": {},
   "outputs": [],
   "source": [
    "variableOutSideTheFunction = 3"
   ]
  },
  {
   "cell_type": "code",
   "execution_count": 84,
   "id": "9bd4b928",
   "metadata": {},
   "outputs": [],
   "source": [
    "def g():\n",
    "    print(variableOutSideTheFunction)"
   ]
  },
  {
   "cell_type": "code",
   "execution_count": 85,
   "id": "7e770b4b",
   "metadata": {},
   "outputs": [
    {
     "name": "stdout",
     "output_type": "stream",
     "text": [
      "3\n"
     ]
    }
   ],
   "source": [
    "g()"
   ]
  },
  {
   "cell_type": "code",
   "execution_count": 1,
   "id": "f6ebfa75",
   "metadata": {},
   "outputs": [],
   "source": [
    "def h():\n",
    "    print(\"A\")\n",
    "    a = 3\n",
    "    b = 5\n",
    "    c = a+b\n",
    "    print(\"something\")\n",
    "    return c\n",
    "    print(\"B\")\n",
    "    print(\"C\")\n",
    "    "
   ]
  },
  {
   "cell_type": "code",
   "execution_count": 2,
   "id": "5950550a",
   "metadata": {},
   "outputs": [
    {
     "name": "stdout",
     "output_type": "stream",
     "text": [
      "A\n",
      "something\n",
      "<class 'int'>\n"
     ]
    }
   ],
   "source": [
    "print(type(h()))"
   ]
  },
  {
   "cell_type": "code",
   "execution_count": 4,
   "id": "98e29712",
   "metadata": {},
   "outputs": [],
   "source": [
    "def r():\n",
    "    a = 5\n",
    "    b = 7\n",
    "    d = \"something\"\n",
    "    return a,b,d"
   ]
  },
  {
   "cell_type": "code",
   "execution_count": 6,
   "id": "85aa2c17",
   "metadata": {},
   "outputs": [
    {
     "name": "stdout",
     "output_type": "stream",
     "text": [
      "5 7 something\n"
     ]
    }
   ],
   "source": [
    "x,y,z = r()\n",
    "print(x,y,z)"
   ]
  },
  {
   "cell_type": "markdown",
   "id": "0b38adb9",
   "metadata": {},
   "source": [
    "# Functions (variable number of input arguments)"
   ]
  },
  {
   "cell_type": "code",
   "execution_count": 7,
   "id": "28bcf3d1",
   "metadata": {},
   "outputs": [],
   "source": [
    "def myAddUniversal(*args):\n",
    "    s = 0\n",
    "    for i in range(len(args)):\n",
    "        s += args[i]   # s = s+args[i]\n",
    "    return s\n"
   ]
  },
  {
   "cell_type": "code",
   "execution_count": 8,
   "id": "9e474e33",
   "metadata": {},
   "outputs": [
    {
     "name": "stdout",
     "output_type": "stream",
     "text": [
      "28\n"
     ]
    }
   ],
   "source": [
    "print(myAddUniversal(2,4,11,5,6))"
   ]
  },
  {
   "cell_type": "markdown",
   "id": "780c9c70",
   "metadata": {},
   "source": [
    "*variable_name acts as a list, so here *args an include any number of arguments in the function"
   ]
  },
  {
   "cell_type": "code",
   "execution_count": 9,
   "id": "877d60cd",
   "metadata": {},
   "outputs": [],
   "source": [
    "def printAllVariableNamesAndValues(**args):\n",
    "    for x in args:\n",
    "        print(\"Variable name is :\",x,\"And Value is:\",args[x])\n",
    "        "
   ]
  },
  {
   "cell_type": "code",
   "execution_count": 11,
   "id": "dc57fd14",
   "metadata": {},
   "outputs": [
    {
     "name": "stdout",
     "output_type": "stream",
     "text": [
      "Variable name is : a And Value is: 3\n",
      "Variable name is : b And Value is: B\n",
      "Variable name is : c And Value is: CCC\n",
      "Variable name is : y And Value is: 6.7\n"
     ]
    }
   ],
   "source": [
    "printAllVariableNamesAndValues(a = 3,b = \"B\",c = 'CCC', y =6.7)"
   ]
  },
  {
   "cell_type": "markdown",
   "id": "e5dbc385",
   "metadata": {},
   "source": [
    "**variable_name acts as a dictionary with key-value pairs"
   ]
  },
  {
   "cell_type": "markdown",
   "id": "aac8284a",
   "metadata": {},
   "source": [
    "# Functions (Default values)"
   ]
  },
  {
   "cell_type": "code",
   "execution_count": 12,
   "id": "47d8c710",
   "metadata": {},
   "outputs": [],
   "source": [
    "def gg(s=4):\n",
    "    print(s)\n",
    "    "
   ]
  },
  {
   "cell_type": "code",
   "execution_count": 13,
   "id": "5bbc54ae",
   "metadata": {},
   "outputs": [
    {
     "name": "stdout",
     "output_type": "stream",
     "text": [
      "4\n"
     ]
    }
   ],
   "source": [
    "gg()"
   ]
  },
  {
   "cell_type": "code",
   "execution_count": 14,
   "id": "cdeee21c",
   "metadata": {},
   "outputs": [
    {
     "name": "stdout",
     "output_type": "stream",
     "text": [
      "56\n"
     ]
    }
   ],
   "source": [
    "gg(56)"
   ]
  },
  {
   "cell_type": "code",
   "execution_count": 15,
   "id": "5b7f2d47",
   "metadata": {},
   "outputs": [
    {
     "name": "stdout",
     "output_type": "stream",
     "text": [
      "[-9, 2, 3]\n"
     ]
    }
   ],
   "source": [
    "L = [1,2,3]\n",
    "L2 = L\n",
    "L2[0] = -9\n",
    "print(L)"
   ]
  },
  {
   "cell_type": "code",
   "execution_count": 17,
   "id": "baab0408",
   "metadata": {},
   "outputs": [],
   "source": [
    "def ff(L=[1,2]):\n",
    "    for i in L:\n",
    "        print(i)"
   ]
  },
  {
   "cell_type": "code",
   "execution_count": 18,
   "id": "9c81ed31",
   "metadata": {},
   "outputs": [
    {
     "name": "stdout",
     "output_type": "stream",
     "text": [
      "1\n",
      "2\n"
     ]
    }
   ],
   "source": [
    "L2 = [12,3,4]\n",
    "ff()"
   ]
  },
  {
   "cell_type": "code",
   "execution_count": 19,
   "id": "e42bede7",
   "metadata": {},
   "outputs": [
    {
     "name": "stdout",
     "output_type": "stream",
     "text": [
      "12\n",
      "3\n",
      "4\n"
     ]
    }
   ],
   "source": [
    "ff(L2)"
   ]
  },
  {
   "cell_type": "code",
   "execution_count": 20,
   "id": "47e9b70b",
   "metadata": {},
   "outputs": [
    {
     "name": "stdout",
     "output_type": "stream",
     "text": [
      "1\n",
      "2\n"
     ]
    }
   ],
   "source": [
    "ff()"
   ]
  },
  {
   "cell_type": "markdown",
   "id": "f4bd8ce8",
   "metadata": {},
   "source": [
    "So Default value will not change"
   ]
  },
  {
   "cell_type": "markdown",
   "id": "3fc25b37",
   "metadata": {},
   "source": [
    "# Modules"
   ]
  },
  {
   "cell_type": "markdown",
   "id": "971cc48e",
   "metadata": {},
   "source": [
    "Modules are basically Python files that contain functions that you want to use in several different coding problems such that, we don't have to write each of the function codes explicitly in that final code. So we can store/save the most useful functions from different notebooks in a moule/modules and call it whenever needed."
   ]
  },
  {
   "cell_type": "code",
   "execution_count": 43,
   "id": "f82e5f92",
   "metadata": {},
   "outputs": [],
   "source": [
    "import sys\n",
    "sys.path.append('C:/ABC/')\n",
    "import Myfunctions as myfuns\n"
   ]
  },
  {
   "cell_type": "code",
   "execution_count": 45,
   "id": "30502843",
   "metadata": {},
   "outputs": [],
   "source": [
    "myfuns.addAllNumerics??"
   ]
  },
  {
   "cell_type": "code",
   "execution_count": 46,
   "id": "3a627e8d",
   "metadata": {},
   "outputs": [
    {
     "ename": "TypeError",
     "evalue": "addAllNumerics() takes 0 positional arguments but 2 were given",
     "output_type": "error",
     "traceback": [
      "\u001b[1;31m---------------------------------------------------------------------------\u001b[0m",
      "\u001b[1;31mTypeError\u001b[0m                                 Traceback (most recent call last)",
      "\u001b[1;32mC:\\Users\\TK3ED7~1.DAS\\AppData\\Local\\Temp/ipykernel_7472/3353917893.py\u001b[0m in \u001b[0;36m<module>\u001b[1;34m\u001b[0m\n\u001b[1;32m----> 1\u001b[1;33m \u001b[0mc\u001b[0m \u001b[1;33m=\u001b[0m \u001b[0mmyfs\u001b[0m\u001b[1;33m.\u001b[0m\u001b[0maddAllNumerics\u001b[0m\u001b[1;33m(\u001b[0m\u001b[1;36m2\u001b[0m\u001b[1;33m,\u001b[0m\u001b[1;36m3\u001b[0m\u001b[1;33m)\u001b[0m\u001b[1;33m\u001b[0m\u001b[1;33m\u001b[0m\u001b[0m\n\u001b[0m",
      "\u001b[1;31mTypeError\u001b[0m: addAllNumerics() takes 0 positional arguments but 2 were given"
     ]
    }
   ],
   "source": [
    "c = myfs.addAllNumerics(2,3)"
   ]
  },
  {
   "cell_type": "markdown",
   "id": "b521e6e4",
   "metadata": {},
   "source": [
    "# Practice Functions"
   ]
  },
  {
   "cell_type": "code",
   "execution_count": 19,
   "id": "a826cdd0",
   "metadata": {},
   "outputs": [],
   "source": [
    "\"\"\"\n",
    "Given a list of numbers i.e [1,2,4,-5,7,9,3,2], make another list\n",
    "that contains all the items in sorted order from min to max. i.e. your\n",
    "result will be another list like [-5,1,2,2,3,4,7,9]\n",
    "\"\"\"\n",
    "\n",
    "def findMin(L,startIndex):\n",
    "    m = L[startIndex]\n",
    "    idx = startIndex\n",
    "    for i in range(startIndex,len(L)):\n",
    "        x = L[i]\n",
    "        if x < m:\n",
    "            m = x\n",
    "            idx = i\n",
    "        else:\n",
    "            pass\n",
    "        i += 1\n",
    "    return (m,idx)"
   ]
  },
  {
   "cell_type": "code",
   "execution_count": 7,
   "id": "b7ab635c",
   "metadata": {},
   "outputs": [],
   "source": [
    "a,b = findMin([2,1,3,0,4])"
   ]
  },
  {
   "cell_type": "code",
   "execution_count": 8,
   "id": "dcbe2e98",
   "metadata": {},
   "outputs": [
    {
     "name": "stdout",
     "output_type": "stream",
     "text": [
      "0 3\n"
     ]
    }
   ],
   "source": [
    "print(a,b)"
   ]
  },
  {
   "cell_type": "code",
   "execution_count": 20,
   "id": "1cd8d6a7",
   "metadata": {},
   "outputs": [],
   "source": [
    "\"\"\"\" Write a func to define a list and two index values such that after swapping \n",
    "     the two index values it will return the new list \"\"\"\n",
    "\n",
    "def swapValues(L,idx1,idx2):\n",
    "    tmp = L[idx1]\n",
    "    L[idx1] = L[idx2]\n",
    "    L[idx2] = tmp\n",
    "    return L\n",
    "    \n",
    "    "
   ]
  },
  {
   "cell_type": "code",
   "execution_count": 12,
   "id": "dc70305d",
   "metadata": {},
   "outputs": [
    {
     "name": "stdout",
     "output_type": "stream",
     "text": [
      "[2, 7, 6, 3]\n"
     ]
    }
   ],
   "source": [
    "L = [2,3,6,7]\n",
    "L2 = swapValues(L,1,3)\n",
    "print(L2)"
   ]
  },
  {
   "cell_type": "code",
   "execution_count": 13,
   "id": "b19cff6b",
   "metadata": {},
   "outputs": [],
   "source": [
    "def checkIfNotNumericValue(L):\n",
    "    for x in L:\n",
    "        if not(isinstance(x,(int,float))):\n",
    "            return False\n",
    "    return True"
   ]
  },
  {
   "cell_type": "code",
   "execution_count": 21,
   "id": "38bd3439",
   "metadata": {},
   "outputs": [],
   "source": [
    "\"\"\" Sorting a list \"\"\"\n",
    "\n",
    "def sortList(L):\n",
    "    if not (checkIfNotNumericValue(L)):\n",
    "        print(\"Error: List does not contain numeric values\")\n",
    "        return\n",
    "    else:\n",
    "        c = 0\n",
    "        for x in L:\n",
    "            m,idx = findMin(L,c)\n",
    "            L = swapValues(L,c,idx)\n",
    "            c += 1\n",
    "    return L"
   ]
  },
  {
   "cell_type": "code",
   "execution_count": 22,
   "id": "842ff61d",
   "metadata": {},
   "outputs": [
    {
     "name": "stdout",
     "output_type": "stream",
     "text": [
      "[-8, 1, 2, 3, 5, 17]\n"
     ]
    }
   ],
   "source": [
    "L2 = sortList([2,1,5,3,-8,17])\n",
    "print(L2)"
   ]
  },
  {
   "cell_type": "markdown",
   "id": "7b687bf0",
   "metadata": {},
   "source": [
    "# Strings"
   ]
  },
  {
   "cell_type": "markdown",
   "id": "85335cbf",
   "metadata": {},
   "source": [
    "Strings are defined as sequence of characters. \n",
    "\n",
    "\"python\" is same as 'python'. By use the operator '+' we can concatenate two or more strings"
   ]
  },
  {
   "cell_type": "code",
   "execution_count": 27,
   "id": "2ac0907d",
   "metadata": {},
   "outputs": [],
   "source": [
    "s = \"Python is a good language. \"\n",
    "t = 'Its good for data science.'"
   ]
  },
  {
   "cell_type": "code",
   "execution_count": 31,
   "id": "2fb02ed6",
   "metadata": {},
   "outputs": [
    {
     "name": "stdout",
     "output_type": "stream",
     "text": [
      "Python is a good language. Its good for data science.\n"
     ]
    }
   ],
   "source": [
    "print(s+t)   #concatenation"
   ]
  },
  {
   "cell_type": "code",
   "execution_count": 30,
   "id": "b34ad0bc",
   "metadata": {},
   "outputs": [
    {
     "data": {
      "text/plain": [
       "str"
      ]
     },
     "execution_count": 30,
     "metadata": {},
     "output_type": "execute_result"
    }
   ],
   "source": [
    "type(s)"
   ]
  },
  {
   "cell_type": "code",
   "execution_count": 35,
   "id": "fc51379d",
   "metadata": {},
   "outputs": [
    {
     "name": "stdout",
     "output_type": "stream",
     "text": [
      "The price of this book is: 12\n",
      "The price of this book is: 12\n"
     ]
    }
   ],
   "source": [
    "price = 12\n",
    "s = \"The price of this book\"\n",
    "v = s + ' is: ' + str(price)\n",
    "print(v)\n",
    "print(s,\"is:\",price)    # print statement takes a space properly so dont need to add one space  "
   ]
  },
  {
   "cell_type": "code",
   "execution_count": 1,
   "id": "3adbf2d0",
   "metadata": {},
   "outputs": [
    {
     "data": {
      "text/plain": [
       "'strstrstrstrstrstrstrstrstrstr'"
      ]
     },
     "execution_count": 1,
     "metadata": {},
     "output_type": "execute_result"
    }
   ],
   "source": [
    "10 * 'str'       # It  will multiply the string 'str' 10 times"
   ]
  },
  {
   "cell_type": "code",
   "execution_count": 6,
   "id": "9aad4f72",
   "metadata": {},
   "outputs": [],
   "source": [
    "# Various ways of printing\n",
    "\n",
    "first_name = 'Kaustav'\n",
    "last_name = 'Das'"
   ]
  },
  {
   "cell_type": "code",
   "execution_count": 7,
   "id": "8481f4a9",
   "metadata": {},
   "outputs": [
    {
     "name": "stdout",
     "output_type": "stream",
     "text": [
      "My first name is Kaustav and my last name is Das\n"
     ]
    }
   ],
   "source": [
    "print(\"My first name is {} and my last name is {}\".format(first_name,last_name))"
   ]
  },
  {
   "cell_type": "code",
   "execution_count": 8,
   "id": "3b3d9aca",
   "metadata": {},
   "outputs": [
    {
     "name": "stdout",
     "output_type": "stream",
     "text": [
      "My first name is Das and my last name is Kaustav\n"
     ]
    }
   ],
   "source": [
    "print(\"My first name is {} and my last name is {}\".format(last_name,first_name))"
   ]
  },
  {
   "cell_type": "code",
   "execution_count": 10,
   "id": "2ca4f2f1",
   "metadata": {},
   "outputs": [
    {
     "name": "stdout",
     "output_type": "stream",
     "text": [
      "My first name is Kaustav and my last name is Das\n"
     ]
    }
   ],
   "source": [
    "print(\"My first name is {first} and my last name is {last}\".format(last = last_name,first = first_name)) # this will not change the order"
   ]
  },
  {
   "cell_type": "markdown",
   "id": "d24c73bd",
   "metadata": {},
   "source": [
    "# Multi line String"
   ]
  },
  {
   "cell_type": "code",
   "execution_count": 38,
   "id": "9d6d0085",
   "metadata": {},
   "outputs": [
    {
     "name": "stdout",
     "output_type": "stream",
     "text": [
      "this is line 1\n",
      "this is line 2\n",
      "this is last line and this line is 3\n"
     ]
    }
   ],
   "source": [
    "a = \"\"\"this is line 1\n",
    "this is line 2\n",
    "this is last line and this line is 3\"\"\"\n",
    "print(a)              # If a variable is not defined then it acts like a multiline comment that we have studied before \n"
   ]
  },
  {
   "cell_type": "code",
   "execution_count": 39,
   "id": "64633ae5",
   "metadata": {},
   "outputs": [
    {
     "name": "stdout",
     "output_type": "stream",
     "text": [
      "The following options are available:\n",
      "           -a        : does nothing\n",
      "           -b        : also does nothing\n",
      "\n",
      "\n"
     ]
    }
   ],
   "source": [
    "print(\"\"\"The following options are available:\n",
    "           -a        : does nothing\n",
    "           -b        : also does nothing\n",
    "\n",
    "\"\"\")"
   ]
  },
  {
   "cell_type": "markdown",
   "id": "667e91e7",
   "metadata": {},
   "source": [
    "# Indexing and Slicing (in String)"
   ]
  },
  {
   "cell_type": "code",
   "execution_count": 40,
   "id": "bb24d5f8",
   "metadata": {},
   "outputs": [
    {
     "name": "stdout",
     "output_type": "stream",
     "text": [
      "r\n"
     ]
    }
   ],
   "source": [
    "s = \"How are you and who are you\"\n",
    "print(s[5])    # 6th element will be printed"
   ]
  },
  {
   "cell_type": "code",
   "execution_count": 41,
   "id": "6e60d797",
   "metadata": {},
   "outputs": [
    {
     "data": {
      "text/plain": [
       "str"
      ]
     },
     "execution_count": 41,
     "metadata": {},
     "output_type": "execute_result"
    }
   ],
   "source": [
    "type(s[5])"
   ]
  },
  {
   "cell_type": "code",
   "execution_count": 46,
   "id": "2fc04305",
   "metadata": {},
   "outputs": [
    {
     "data": {
      "text/plain": [
       "' are y'"
      ]
     },
     "execution_count": 46,
     "metadata": {},
     "output_type": "execute_result"
    }
   ],
   "source": [
    "s[3:9]      #slice"
   ]
  },
  {
   "cell_type": "code",
   "execution_count": 43,
   "id": "844f3763",
   "metadata": {},
   "outputs": [
    {
     "data": {
      "text/plain": [
       "'How are you'"
      ]
     },
     "execution_count": 43,
     "metadata": {},
     "output_type": "execute_result"
    }
   ],
   "source": [
    "s[0:11]"
   ]
  },
  {
   "cell_type": "markdown",
   "id": "ea496997",
   "metadata": {},
   "source": [
    "A negative index denotes numbering from the R.H.S. So the last character is -1"
   ]
  },
  {
   "cell_type": "code",
   "execution_count": 45,
   "id": "ab8fc524",
   "metadata": {},
   "outputs": [
    {
     "data": {
      "text/plain": [
       "' who are '"
      ]
     },
     "execution_count": 45,
     "metadata": {},
     "output_type": "execute_result"
    }
   ],
   "source": [
    "s[-12:-3]"
   ]
  },
  {
   "cell_type": "markdown",
   "id": "cb7f4fd8",
   "metadata": {},
   "source": [
    "In Immutable data structure, once the data structure is created, its contents cannot be changed unlike Mutable\n",
    "data structure. Eg: Immutable--> Strings ; Mutable--> List, Tuple, Dictionaries"
   ]
  },
  {
   "cell_type": "code",
   "execution_count": 50,
   "id": "05f12b50",
   "metadata": {},
   "outputs": [
    {
     "data": {
      "text/plain": [
       "'Hwaeyu'"
      ]
     },
     "execution_count": 50,
     "metadata": {},
     "output_type": "execute_result"
    }
   ],
   "source": [
    "s[0:12:2]      # A jump of 2 is taken. Here it will consider characters indexed 0,2,4,6,...,10.\n",
    "               # It will not take 11 because of the jump \"\"\""
   ]
  },
  {
   "cell_type": "code",
   "execution_count": 49,
   "id": "4facb9d4",
   "metadata": {},
   "outputs": [
    {
     "data": {
      "text/plain": [
       "'How are you and who are you'"
      ]
     },
     "execution_count": 49,
     "metadata": {},
     "output_type": "execute_result"
    }
   ],
   "source": [
    "s"
   ]
  },
  {
   "cell_type": "code",
   "execution_count": 52,
   "id": "ce86ec63",
   "metadata": {},
   "outputs": [
    {
     "data": {
      "text/plain": [
       "'How are you '"
      ]
     },
     "execution_count": 52,
     "metadata": {},
     "output_type": "execute_result"
    }
   ],
   "source": [
    "# s[start:end:step]\n",
    "s[:12]  # starts from index 0 and ends at index 11"
   ]
  },
  {
   "cell_type": "code",
   "execution_count": 53,
   "id": "e0776964",
   "metadata": {},
   "outputs": [
    {
     "data": {
      "text/plain": [
       "' are you and who are you'"
      ]
     },
     "execution_count": 53,
     "metadata": {},
     "output_type": "execute_result"
    }
   ],
   "source": [
    "s[3:]  # starts from index 3 and goes till the end"
   ]
  },
  {
   "cell_type": "code",
   "execution_count": 54,
   "id": "cda5aa74",
   "metadata": {},
   "outputs": [
    {
     "data": {
      "text/plain": [
       "'uoy era ohw dna uoy era woH'"
      ]
     },
     "execution_count": 54,
     "metadata": {},
     "output_type": "execute_result"
    }
   ],
   "source": [
    "s[::-1] # here we didn't mention the start and the end but use -1 at the jump\n",
    "        # we will get the string reversed"
   ]
  },
  {
   "cell_type": "code",
   "execution_count": 55,
   "id": "e4306111",
   "metadata": {},
   "outputs": [
    {
     "name": "stdout",
     "output_type": "stream",
     "text": [
      "27\n"
     ]
    }
   ],
   "source": [
    "print(len(s))"
   ]
  },
  {
   "cell_type": "code",
   "execution_count": 57,
   "id": "5f63c2d9",
   "metadata": {},
   "outputs": [
    {
     "name": "stdout",
     "output_type": "stream",
     "text": [
      "5\n"
     ]
    }
   ],
   "source": [
    "print(len(s[3:8]))         # shortcut = just take the difference when asked about the length without jump "
   ]
  },
  {
   "cell_type": "markdown",
   "id": "25ad7664",
   "metadata": {},
   "source": [
    "# Functions used in String"
   ]
  },
  {
   "cell_type": "code",
   "execution_count": 62,
   "id": "6fdd360a",
   "metadata": {},
   "outputs": [
    {
     "name": "stdout",
     "output_type": "stream",
     "text": [
      "abc    def    hgq   agkdhs\n"
     ]
    }
   ],
   "source": [
    "a = \"    abc    def    hgq   agkdhs     \"\n",
    "b = a.strip()       # b will contain the string without spaces at the beginning and at the end\n",
    "print(b)             "
   ]
  },
  {
   "cell_type": "code",
   "execution_count": 65,
   "id": "efba826e",
   "metadata": {},
   "outputs": [
    {
     "name": "stdout",
     "output_type": "stream",
     "text": [
      "abc defg ;; asfas qf\n"
     ]
    }
   ],
   "source": [
    "a = \"ABC defg ;; asfas QF\"\n",
    "b = a.lower()    # convert all the characters to lower case characters\n",
    "print(b)      "
   ]
  },
  {
   "cell_type": "code",
   "execution_count": 63,
   "id": "3012566a",
   "metadata": {},
   "outputs": [
    {
     "name": "stdout",
     "output_type": "stream",
     "text": [
      "    ABC    DEF    HGQ   AGKDHS     \n"
     ]
    }
   ],
   "source": [
    "c = a.upper()  # converts all the characters to upper case\n",
    "print(c)"
   ]
  },
  {
   "cell_type": "code",
   "execution_count": 66,
   "id": "c4a8787c",
   "metadata": {},
   "outputs": [
    {
     "name": "stdout",
     "output_type": "stream",
     "text": [
      "ABC defg ** asfas QF\n"
     ]
    }
   ],
   "source": [
    "d = a.replace(\";\",\"*\")   # replace all the ';' with '*'\n",
    "print(d)"
   ]
  },
  {
   "cell_type": "code",
   "execution_count": 68,
   "id": "fe5d19e2",
   "metadata": {},
   "outputs": [
    {
     "name": "stdout",
     "output_type": "stream",
     "text": [
      "ABC defg two semi colons asfas QF\n"
     ]
    }
   ],
   "source": [
    "d = a.replace(\";;\",\"two semi colons\")\n",
    "print(d)"
   ]
  },
  {
   "cell_type": "code",
   "execution_count": 69,
   "id": "caf6be8a",
   "metadata": {},
   "outputs": [
    {
     "name": "stdout",
     "output_type": "stream",
     "text": [
      "['abc', 'def', 'jhghj', 'yy23']\n"
     ]
    }
   ],
   "source": [
    "a = 'abc;def;jhghj;yy23'\n",
    "e = a.split(';')\n",
    "print(e)"
   ]
  },
  {
   "cell_type": "code",
   "execution_count": 70,
   "id": "7a512860",
   "metadata": {},
   "outputs": [
    {
     "data": {
      "text/plain": [
       "'def'"
      ]
     },
     "execution_count": 70,
     "metadata": {},
     "output_type": "execute_result"
    }
   ],
   "source": [
    "e[1]"
   ]
  },
  {
   "cell_type": "markdown",
   "id": "b5ac0417",
   "metadata": {},
   "source": [
    "To find what are the available functions regarding any types:\n",
    "\n",
    "1) assign the relevant 'type' - say int,float,list,string etc. to a variable\n",
    "\n",
    "2) then write---> 'that particular variable''.' and press tab to find the relevant functions that can be used on that.\n",
    "\n",
    "3) we can check the help using ?? or ?\n"
   ]
  },
  {
   "cell_type": "code",
   "execution_count": 72,
   "id": "61f57840",
   "metadata": {},
   "outputs": [
    {
     "name": "stdout",
     "output_type": "stream",
     "text": [
      "Abc;def;jhghj;yy23\n"
     ]
    }
   ],
   "source": [
    "f = a.capitalize()   # It will capitalize the first character that is not like a.upper\n",
    "print(f)"
   ]
  },
  {
   "cell_type": "code",
   "execution_count": 73,
   "id": "97c5c5ea",
   "metadata": {},
   "outputs": [
    {
     "data": {
      "text/plain": [
       "True"
      ]
     },
     "execution_count": 73,
     "metadata": {},
     "output_type": "execute_result"
    }
   ],
   "source": [
    "\"abc\" in \"mbkjbsjldlajhdjllkljbskjlJAabcadkjhadjlah\""
   ]
  },
  {
   "cell_type": "code",
   "execution_count": 74,
   "id": "d7a35054",
   "metadata": {},
   "outputs": [
    {
     "data": {
      "text/plain": [
       "True"
      ]
     },
     "execution_count": 74,
     "metadata": {},
     "output_type": "execute_result"
    }
   ],
   "source": [
    "\"abc\" == \"abc\""
   ]
  },
  {
   "cell_type": "code",
   "execution_count": 77,
   "id": "b3dc0a4f",
   "metadata": {},
   "outputs": [
    {
     "data": {
      "text/plain": [
       "True"
      ]
     },
     "execution_count": 77,
     "metadata": {},
     "output_type": "execute_result"
    }
   ],
   "source": [
    "\"abc\" < \"def\"  #this comparison is happenning based on alphabetical order"
   ]
  },
  {
   "cell_type": "code",
   "execution_count": 80,
   "id": "e09907c8",
   "metadata": {},
   "outputs": [
    {
     "name": "stdout",
     "output_type": "stream",
     "text": [
      "we are learning \"string\" here\n"
     ]
    }
   ],
   "source": [
    "print(\"we are learning \\\"string\\\" here\")    # escape sequence "
   ]
  },
  {
   "cell_type": "code",
   "execution_count": 81,
   "id": "edd17d72",
   "metadata": {},
   "outputs": [
    {
     "name": "stdout",
     "output_type": "stream",
     "text": [
      "we are \n",
      " now on another line\n"
     ]
    }
   ],
   "source": [
    "print(\"we are \\n now on another line\")    # another escape character"
   ]
  },
  {
   "cell_type": "code",
   "execution_count": 82,
   "id": "d313d5bb",
   "metadata": {},
   "outputs": [
    {
     "name": "stdout",
     "output_type": "stream",
     "text": [
      "c:\n",
      "ame\\drive\n"
     ]
    }
   ],
   "source": [
    "print(\"c:\\name\\drive\")"
   ]
  },
  {
   "cell_type": "code",
   "execution_count": 83,
   "id": "b6ebcb3f",
   "metadata": {},
   "outputs": [
    {
     "name": "stdout",
     "output_type": "stream",
     "text": [
      "c:\\name\\drive\n"
     ]
    }
   ],
   "source": [
    "print(r\"c:\\name\\drive\")        # this r defines raw string hence escape sequence is not activated"
   ]
  }
 ],
 "metadata": {
  "kernelspec": {
   "display_name": "Python 3 (ipykernel)",
   "language": "python",
   "name": "python3"
  },
  "language_info": {
   "codemirror_mode": {
    "name": "ipython",
    "version": 3
   },
   "file_extension": ".py",
   "mimetype": "text/x-python",
   "name": "python",
   "nbconvert_exporter": "python",
   "pygments_lexer": "ipython3",
   "version": "3.9.7"
  }
 },
 "nbformat": 4,
 "nbformat_minor": 5
}
