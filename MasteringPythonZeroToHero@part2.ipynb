{
 "cells": [
  {
   "cell_type": "markdown",
   "id": "0e41ab42",
   "metadata": {},
   "source": [
    "# Data Structures:"
   ]
  },
  {
   "cell_type": "markdown",
   "id": "3e9b6ce0",
   "metadata": {},
   "source": [
    "## List, Tuple, Set, Dictionary"
   ]
  },
  {
   "cell_type": "code",
   "execution_count": 34,
   "id": "c688caf3",
   "metadata": {},
   "outputs": [],
   "source": [
    "L = [1,3,4.9,\"name\",3]    #defining a List\n",
    "T = (1,3,4.9,\"name\",3)    #defining a Tuple\n",
    "S = {1,3,4.9,\"name\",3}    #defining a Set\n",
    "D = {23:\"twothree\",'B':43,'C':'CCD'}    #defining a Dictionary. Here 23,B and C are keys\n",
    "                                        # and twothree,43 and CCD are values. Bothe keys and values\n",
    "                                        # can be of diffrent types."
   ]
  },
  {
   "cell_type": "code",
   "execution_count": 35,
   "id": "f926463c",
   "metadata": {},
   "outputs": [
    {
     "name": "stdout",
     "output_type": "stream",
     "text": [
      "The type of L is  <class 'list'>\n",
      "The type of T is  <class 'tuple'>\n",
      "The type of S is  <class 'set'>\n",
      "The type of D is  <class 'dict'>\n"
     ]
    }
   ],
   "source": [
    "print(\"The type of L is \",type(L))\n",
    "print(\"The type of T is \",type(T))\n",
    "print(\"The type of S is \",type(S))\n",
    "print(\"The type of D is \",type(D))"
   ]
  },
  {
   "cell_type": "code",
   "execution_count": 36,
   "id": "692b2f5a",
   "metadata": {},
   "outputs": [
    {
     "name": "stdout",
     "output_type": "stream",
     "text": [
      "3\n",
      "3\n",
      "True\n",
      "twothree\n"
     ]
    }
   ],
   "source": [
    "print(L[1])\n",
    "print(T[1])\n",
    "print(3 in S)\n",
    "print(D[23])"
   ]
  },
  {
   "cell_type": "code",
   "execution_count": 37,
   "id": "299e2cdf",
   "metadata": {},
   "outputs": [
    {
     "name": "stdout",
     "output_type": "stream",
     "text": [
      "43\n"
     ]
    }
   ],
   "source": [
    "print(D['B'])"
   ]
  },
  {
   "cell_type": "code",
   "execution_count": 38,
   "id": "a3fbdeed",
   "metadata": {},
   "outputs": [
    {
     "data": {
      "text/plain": [
       "{1, 3, 4.9, 'name'}"
      ]
     },
     "execution_count": 38,
     "metadata": {},
     "output_type": "execute_result"
    }
   ],
   "source": [
    "S   # It will not contain duplicates. Though we have written 3 twice in the input"
   ]
  },
  {
   "cell_type": "code",
   "execution_count": 39,
   "id": "1a890953",
   "metadata": {},
   "outputs": [
    {
     "data": {
      "text/plain": [
       "[1, 3, 4.9, 'name', 3]"
      ]
     },
     "execution_count": 39,
     "metadata": {},
     "output_type": "execute_result"
    }
   ],
   "source": [
    "L"
   ]
  },
  {
   "cell_type": "code",
   "execution_count": 40,
   "id": "23920dc7",
   "metadata": {},
   "outputs": [
    {
     "data": {
      "text/plain": [
       "[3, 4.9]"
      ]
     },
     "execution_count": 40,
     "metadata": {},
     "output_type": "execute_result"
    }
   ],
   "source": [
    "L[1:3]   #List slice"
   ]
  },
  {
   "cell_type": "code",
   "execution_count": 41,
   "id": "f6aa1d35",
   "metadata": {},
   "outputs": [
    {
     "data": {
      "text/plain": [
       "[3, 'name', 4.9, 3, 1]"
      ]
     },
     "execution_count": 41,
     "metadata": {},
     "output_type": "execute_result"
    }
   ],
   "source": [
    "L[::-1]"
   ]
  },
  {
   "cell_type": "code",
   "execution_count": 42,
   "id": "5fda66e1",
   "metadata": {},
   "outputs": [
    {
     "data": {
      "text/plain": [
       "(1, 3, 4.9)"
      ]
     },
     "execution_count": 42,
     "metadata": {},
     "output_type": "execute_result"
    }
   ],
   "source": [
    "T[:3]"
   ]
  },
  {
   "cell_type": "code",
   "execution_count": 43,
   "id": "c31dc380",
   "metadata": {},
   "outputs": [
    {
     "data": {
      "text/plain": [
       "[1, 3, 4.9, 'name', 3]"
      ]
     },
     "execution_count": 43,
     "metadata": {},
     "output_type": "execute_result"
    }
   ],
   "source": [
    "L"
   ]
  },
  {
   "cell_type": "code",
   "execution_count": 44,
   "id": "f1e44fe5",
   "metadata": {},
   "outputs": [],
   "source": [
    "L = L + [\"how\", \"are\", \"you\"]"
   ]
  },
  {
   "cell_type": "code",
   "execution_count": 45,
   "id": "934d8e28",
   "metadata": {},
   "outputs": [
    {
     "data": {
      "text/plain": [
       "[1, 3, 4.9, 'name', 3, 'how', 'are', 'you']"
      ]
     },
     "execution_count": 45,
     "metadata": {},
     "output_type": "execute_result"
    }
   ],
   "source": [
    "L"
   ]
  },
  {
   "cell_type": "code",
   "execution_count": 46,
   "id": "b9f2e8f9",
   "metadata": {},
   "outputs": [],
   "source": [
    "L.append(3.8)      # append by default add elements at the end of the list"
   ]
  },
  {
   "cell_type": "code",
   "execution_count": 47,
   "id": "3df98efc",
   "metadata": {},
   "outputs": [
    {
     "data": {
      "text/plain": [
       "[1, 3, 4.9, 'name', 3, 'how', 'are', 'you', 3.8]"
      ]
     },
     "execution_count": 47,
     "metadata": {},
     "output_type": "execute_result"
    }
   ],
   "source": [
    "L"
   ]
  },
  {
   "cell_type": "code",
   "execution_count": 48,
   "id": "a1698de2",
   "metadata": {},
   "outputs": [],
   "source": [
    "L1 = [2,3,4,\"sameer\"]"
   ]
  },
  {
   "cell_type": "code",
   "execution_count": 49,
   "id": "66b97002",
   "metadata": {},
   "outputs": [
    {
     "name": "stdout",
     "output_type": "stream",
     "text": [
      "[2, 3, 4, 'sameer', [35, 26]]\n"
     ]
    }
   ],
   "source": [
    "L1.append([35,26])    # It will create a nested list\n",
    "print(L1)"
   ]
  },
  {
   "cell_type": "code",
   "execution_count": 50,
   "id": "db036495",
   "metadata": {},
   "outputs": [
    {
     "data": {
      "text/plain": [
       "[2, 'abc', 3, 4, 'sameer', [35, 26]]"
      ]
     },
     "execution_count": 50,
     "metadata": {},
     "output_type": "execute_result"
    }
   ],
   "source": [
    "L1.insert(1,\"abc\")  #It will add element at the given index(which is given as 1 in this example)\n",
    "L1"
   ]
  },
  {
   "cell_type": "code",
   "execution_count": 51,
   "id": "6f912cfe",
   "metadata": {},
   "outputs": [
    {
     "data": {
      "text/plain": [
       "[2, 'abc', 3, 4, 'sameer', [35, 26], 8, 9]"
      ]
     },
     "execution_count": 51,
     "metadata": {},
     "output_type": "execute_result"
    }
   ],
   "source": [
    "L1.extend([8,9])   # It will not create a nested loop like append\n",
    "L1"
   ]
  },
  {
   "cell_type": "code",
   "execution_count": 18,
   "id": "90802426",
   "metadata": {},
   "outputs": [],
   "source": [
    "T2 = ('a','b',45)\n",
    "T3 = T2 +T"
   ]
  },
  {
   "cell_type": "code",
   "execution_count": 19,
   "id": "2b4b084a",
   "metadata": {},
   "outputs": [
    {
     "data": {
      "text/plain": [
       "(1, 3, 4.9, 'name', 3)"
      ]
     },
     "execution_count": 19,
     "metadata": {},
     "output_type": "execute_result"
    }
   ],
   "source": [
    "T"
   ]
  },
  {
   "cell_type": "markdown",
   "id": "f1a6c361",
   "metadata": {},
   "source": [
    "Though elements cannot be added or deleted from a Tuple because Tuples are immutable."
   ]
  },
  {
   "cell_type": "code",
   "execution_count": 20,
   "id": "4e211153",
   "metadata": {},
   "outputs": [
    {
     "data": {
      "text/plain": [
       "{1, 3, 4.9, 'name'}"
      ]
     },
     "execution_count": 20,
     "metadata": {},
     "output_type": "execute_result"
    }
   ],
   "source": [
    "S"
   ]
  },
  {
   "cell_type": "code",
   "execution_count": 21,
   "id": "a1baa4c0",
   "metadata": {},
   "outputs": [],
   "source": [
    "S.add(56)"
   ]
  },
  {
   "cell_type": "code",
   "execution_count": 22,
   "id": "9c1781b3",
   "metadata": {},
   "outputs": [
    {
     "data": {
      "text/plain": [
       "{1, 3, 4.9, 56, 'name'}"
      ]
     },
     "execution_count": 22,
     "metadata": {},
     "output_type": "execute_result"
    }
   ],
   "source": [
    "S"
   ]
  },
  {
   "cell_type": "code",
   "execution_count": 24,
   "id": "b9feb54a",
   "metadata": {},
   "outputs": [],
   "source": [
    "S.update({23,\"game\",1})"
   ]
  },
  {
   "cell_type": "code",
   "execution_count": 25,
   "id": "170499b0",
   "metadata": {},
   "outputs": [
    {
     "data": {
      "text/plain": [
       "{1, 23, 3, 4.9, 56, 'game', 'name'}"
      ]
     },
     "execution_count": 25,
     "metadata": {},
     "output_type": "execute_result"
    }
   ],
   "source": [
    "S     # duplicates will no longer be there"
   ]
  },
  {
   "cell_type": "code",
   "execution_count": 26,
   "id": "06af3173",
   "metadata": {},
   "outputs": [
    {
     "data": {
      "text/plain": [
       "{23: 'twothree', 'B': 43, 'C': 'CCD'}"
      ]
     },
     "execution_count": 26,
     "metadata": {},
     "output_type": "execute_result"
    }
   ],
   "source": [
    "D"
   ]
  },
  {
   "cell_type": "code",
   "execution_count": 28,
   "id": "45c5d25e",
   "metadata": {},
   "outputs": [],
   "source": [
    "D['newKey'] = [\"newValue\"]"
   ]
  },
  {
   "cell_type": "code",
   "execution_count": 29,
   "id": "8f5ef03e",
   "metadata": {},
   "outputs": [
    {
     "data": {
      "text/plain": [
       "{23: 'twothree', 'B': 43, 'C': 'CCD', 'newKey': ['newValue']}"
      ]
     },
     "execution_count": 29,
     "metadata": {},
     "output_type": "execute_result"
    }
   ],
   "source": [
    "D"
   ]
  },
  {
   "cell_type": "code",
   "execution_count": 30,
   "id": "5e7f7cdb",
   "metadata": {},
   "outputs": [],
   "source": [
    "D2 = {\"y\":\"YY\",\"z\":10}"
   ]
  },
  {
   "cell_type": "code",
   "execution_count": 31,
   "id": "3f530796",
   "metadata": {},
   "outputs": [
    {
     "data": {
      "text/plain": [
       "[1, 3, 4.9, 'name', 3, 'how', 'are', 'you', 3.8]"
      ]
     },
     "execution_count": 31,
     "metadata": {},
     "output_type": "execute_result"
    }
   ],
   "source": [
    "L"
   ]
  },
  {
   "cell_type": "code",
   "execution_count": 32,
   "id": "407f2865",
   "metadata": {},
   "outputs": [],
   "source": [
    "del L[3]"
   ]
  },
  {
   "cell_type": "code",
   "execution_count": 33,
   "id": "31b7e5e6",
   "metadata": {},
   "outputs": [
    {
     "data": {
      "text/plain": [
       "[1, 3, 4.9, 3, 'how', 'are', 'you', 3.8]"
      ]
     },
     "execution_count": 33,
     "metadata": {},
     "output_type": "execute_result"
    }
   ],
   "source": [
    "L"
   ]
  },
  {
   "cell_type": "code",
   "execution_count": 34,
   "id": "eec130c7",
   "metadata": {},
   "outputs": [
    {
     "data": {
      "text/plain": [
       "{1, 23, 3, 4.9, 56, 'game', 'name'}"
      ]
     },
     "execution_count": 34,
     "metadata": {},
     "output_type": "execute_result"
    }
   ],
   "source": [
    "S"
   ]
  },
  {
   "cell_type": "code",
   "execution_count": 35,
   "id": "b189266e",
   "metadata": {},
   "outputs": [],
   "source": [
    "S.remove('game')"
   ]
  },
  {
   "cell_type": "code",
   "execution_count": 36,
   "id": "4accd7d7",
   "metadata": {},
   "outputs": [
    {
     "data": {
      "text/plain": [
       "{1, 23, 3, 4.9, 56, 'name'}"
      ]
     },
     "execution_count": 36,
     "metadata": {},
     "output_type": "execute_result"
    }
   ],
   "source": [
    "S"
   ]
  },
  {
   "cell_type": "code",
   "execution_count": 37,
   "id": "0aad1c2e",
   "metadata": {},
   "outputs": [
    {
     "data": {
      "text/plain": [
       "{23: 'twothree', 'B': 43, 'C': 'CCD', 'newKey': ['newValue']}"
      ]
     },
     "execution_count": 37,
     "metadata": {},
     "output_type": "execute_result"
    }
   ],
   "source": [
    "D"
   ]
  },
  {
   "cell_type": "code",
   "execution_count": 38,
   "id": "139664bb",
   "metadata": {},
   "outputs": [],
   "source": [
    "del D['C']"
   ]
  },
  {
   "cell_type": "code",
   "execution_count": 39,
   "id": "e3e3131a",
   "metadata": {},
   "outputs": [
    {
     "data": {
      "text/plain": [
       "{23: 'twothree', 'B': 43, 'newKey': ['newValue']}"
      ]
     },
     "execution_count": 39,
     "metadata": {},
     "output_type": "execute_result"
    }
   ],
   "source": [
    "D"
   ]
  },
  {
   "cell_type": "markdown",
   "id": "bfa9012f",
   "metadata": {},
   "source": [
    "We cannot use + to concatenate two dictionaries. What we can do is\n",
    "'update' function."
   ]
  },
  {
   "cell_type": "code",
   "execution_count": 40,
   "id": "3e9f4016",
   "metadata": {},
   "outputs": [
    {
     "data": {
      "text/plain": [
       "{23: 'twothree', 'B': 43, 'newKey': ['newValue']}"
      ]
     },
     "execution_count": 40,
     "metadata": {},
     "output_type": "execute_result"
    }
   ],
   "source": [
    "D"
   ]
  },
  {
   "cell_type": "code",
   "execution_count": 41,
   "id": "4aa667a8",
   "metadata": {},
   "outputs": [
    {
     "data": {
      "text/plain": [
       "{'y': 'YY', 'z': 10}"
      ]
     },
     "execution_count": 41,
     "metadata": {},
     "output_type": "execute_result"
    }
   ],
   "source": [
    "D2"
   ]
  },
  {
   "cell_type": "code",
   "execution_count": 42,
   "id": "4147c737",
   "metadata": {},
   "outputs": [],
   "source": [
    "D.update(D2)"
   ]
  },
  {
   "cell_type": "code",
   "execution_count": 43,
   "id": "28095d98",
   "metadata": {},
   "outputs": [
    {
     "data": {
      "text/plain": [
       "{23: 'twothree', 'B': 43, 'newKey': ['newValue'], 'y': 'YY', 'z': 10}"
      ]
     },
     "execution_count": 43,
     "metadata": {},
     "output_type": "execute_result"
    }
   ],
   "source": [
    "D"
   ]
  },
  {
   "cell_type": "code",
   "execution_count": 44,
   "id": "070dae47",
   "metadata": {},
   "outputs": [
    {
     "data": {
      "text/plain": [
       "[1, 3, 4.9, 3, 'how', 'are', 'you', 3.8]"
      ]
     },
     "execution_count": 44,
     "metadata": {},
     "output_type": "execute_result"
    }
   ],
   "source": [
    "L"
   ]
  },
  {
   "cell_type": "code",
   "execution_count": 45,
   "id": "d3b92a1b",
   "metadata": {},
   "outputs": [],
   "source": [
    "L2 = L"
   ]
  },
  {
   "cell_type": "code",
   "execution_count": 46,
   "id": "02cf0a85",
   "metadata": {},
   "outputs": [
    {
     "data": {
      "text/plain": [
       "[1, 3, 4.9, 3, 'how', 'are', 'you', 3.8]"
      ]
     },
     "execution_count": 46,
     "metadata": {},
     "output_type": "execute_result"
    }
   ],
   "source": [
    "L2"
   ]
  },
  {
   "cell_type": "markdown",
   "id": "52fc4b2d",
   "metadata": {},
   "source": [
    "L2 and L points to the same memory. As Lists are mutable, hence changing of either of\n",
    "L/L2 will change the other. That is not the case for strings."
   ]
  },
  {
   "cell_type": "code",
   "execution_count": 47,
   "id": "a0514722",
   "metadata": {},
   "outputs": [],
   "source": [
    "L2 = L.copy()       # This makes L2 another list containing same elements as L"
   ]
  },
  {
   "cell_type": "code",
   "execution_count": 48,
   "id": "bab9c451",
   "metadata": {},
   "outputs": [
    {
     "data": {
      "text/plain": [
       "[1, 3, 4.9, 3, 'how', 'are', 'you', 3.8]"
      ]
     },
     "execution_count": 48,
     "metadata": {},
     "output_type": "execute_result"
    }
   ],
   "source": [
    "L2"
   ]
  },
  {
   "cell_type": "code",
   "execution_count": 52,
   "id": "f658387f",
   "metadata": {},
   "outputs": [],
   "source": [
    "L2[2] = 5.9"
   ]
  },
  {
   "cell_type": "code",
   "execution_count": 53,
   "id": "5039b4a6",
   "metadata": {},
   "outputs": [
    {
     "data": {
      "text/plain": [
       "[1, 3, 5.9, 3, 'how', 'are', 'you', 3.8]"
      ]
     },
     "execution_count": 53,
     "metadata": {},
     "output_type": "execute_result"
    }
   ],
   "source": [
    "L2"
   ]
  },
  {
   "cell_type": "code",
   "execution_count": 54,
   "id": "6aa2e95f",
   "metadata": {},
   "outputs": [
    {
     "data": {
      "text/plain": [
       "[1, 3, 4.9, 3, 'how', 'are', 'you', 3.8]"
      ]
     },
     "execution_count": 54,
     "metadata": {},
     "output_type": "execute_result"
    }
   ],
   "source": [
    "L"
   ]
  },
  {
   "cell_type": "markdown",
   "id": "05b040c1",
   "metadata": {},
   "source": [
    "Same concept goes with the Set and Dictionary"
   ]
  },
  {
   "cell_type": "code",
   "execution_count": 55,
   "id": "445e304a",
   "metadata": {},
   "outputs": [
    {
     "data": {
      "text/plain": [
       "[1, 3, 4.9, 3, 'how', 'are', 'you', 3.8]"
      ]
     },
     "execution_count": 55,
     "metadata": {},
     "output_type": "execute_result"
    }
   ],
   "source": [
    "L"
   ]
  },
  {
   "cell_type": "code",
   "execution_count": 56,
   "id": "0974e9aa",
   "metadata": {},
   "outputs": [],
   "source": [
    "L3 = L[1:5]"
   ]
  },
  {
   "cell_type": "code",
   "execution_count": 59,
   "id": "979f2575",
   "metadata": {},
   "outputs": [
    {
     "data": {
      "text/plain": [
       "[3, 4.9, 3, 'how']"
      ]
     },
     "execution_count": 59,
     "metadata": {},
     "output_type": "execute_result"
    }
   ],
   "source": [
    "L3      # Slicing picks a copy by default not a reference. But in NumPy array, Slice also picks a reference."
   ]
  },
  {
   "cell_type": "code",
   "execution_count": 60,
   "id": "42f6b66f",
   "metadata": {},
   "outputs": [],
   "source": [
    "L.clear?"
   ]
  },
  {
   "cell_type": "code",
   "execution_count": 54,
   "id": "899bd22e",
   "metadata": {},
   "outputs": [
    {
     "data": {
      "text/plain": [
       "1"
      ]
     },
     "execution_count": 54,
     "metadata": {},
     "output_type": "execute_result"
    }
   ],
   "source": [
    "L.pop??\n",
    "L.pop()    # remove the last element\n",
    "L.pop(0)   # after mentioning the index it will remove that element in the index"
   ]
  },
  {
   "cell_type": "code",
   "execution_count": 57,
   "id": "ba79f903",
   "metadata": {},
   "outputs": [
    {
     "data": {
      "text/plain": [
       "5"
      ]
     },
     "execution_count": 57,
     "metadata": {},
     "output_type": "execute_result"
    }
   ],
   "source": [
    "L3 = [1,1,1,1,1,3,4,5,5,5,7,9,9]\n",
    "L3.count(1)               # It tell the count of a particular element in the list"
   ]
  },
  {
   "cell_type": "code",
   "execution_count": 58,
   "id": "5aa06952",
   "metadata": {},
   "outputs": [
    {
     "data": {
      "text/plain": [
       "11"
      ]
     },
     "execution_count": 58,
     "metadata": {},
     "output_type": "execute_result"
    }
   ],
   "source": [
    "L3.index(9)    # denotes the index of first occurence of an element "
   ]
  },
  {
   "cell_type": "code",
   "execution_count": 61,
   "id": "9b57ca1e",
   "metadata": {},
   "outputs": [
    {
     "data": {
      "text/plain": [
       "7"
      ]
     },
     "execution_count": 61,
     "metadata": {},
     "output_type": "execute_result"
    }
   ],
   "source": [
    "L3.index(5,3,9)  # here the arguments 3 and 7 denotes the start and end index for which we want to search in this list"
   ]
  },
  {
   "cell_type": "code",
   "execution_count": 63,
   "id": "3fa6b654",
   "metadata": {},
   "outputs": [],
   "source": [
    "L.reverse()"
   ]
  },
  {
   "cell_type": "code",
   "execution_count": 64,
   "id": "a2562742",
   "metadata": {},
   "outputs": [
    {
     "data": {
      "text/plain": [
       "[3.8, 'you', 'are', 'how', 3, 4.9, 3, 1]"
      ]
     },
     "execution_count": 64,
     "metadata": {},
     "output_type": "execute_result"
    }
   ],
   "source": [
    "L"
   ]
  },
  {
   "cell_type": "code",
   "execution_count": 65,
   "id": "65570010",
   "metadata": {},
   "outputs": [
    {
     "data": {
      "text/plain": [
       "dict_items([(23, 'twothree'), ('B', 43), ('newKey', ['newValue']), ('y', 'YY'), ('z', 10)])"
      ]
     },
     "execution_count": 65,
     "metadata": {},
     "output_type": "execute_result"
    }
   ],
   "source": [
    "D.items()"
   ]
  },
  {
   "cell_type": "code",
   "execution_count": 66,
   "id": "a8d9b90a",
   "metadata": {},
   "outputs": [
    {
     "data": {
      "text/plain": [
       "[3.8, 'you', 'are', 'how', 3, 4.9, 3, 1]"
      ]
     },
     "execution_count": 66,
     "metadata": {},
     "output_type": "execute_result"
    }
   ],
   "source": [
    "L"
   ]
  },
  {
   "cell_type": "code",
   "execution_count": 67,
   "id": "c00cbc20",
   "metadata": {},
   "outputs": [
    {
     "data": {
      "text/plain": [
       "(1, 3, 4.9, 'name', 3)"
      ]
     },
     "execution_count": 67,
     "metadata": {},
     "output_type": "execute_result"
    }
   ],
   "source": [
    "T"
   ]
  },
  {
   "cell_type": "code",
   "execution_count": 68,
   "id": "698b3166",
   "metadata": {},
   "outputs": [
    {
     "data": {
      "text/plain": [
       "{1, 23, 3, 4.9, 56, 'name'}"
      ]
     },
     "execution_count": 68,
     "metadata": {},
     "output_type": "execute_result"
    }
   ],
   "source": [
    "S"
   ]
  },
  {
   "cell_type": "code",
   "execution_count": 69,
   "id": "7617b8dd",
   "metadata": {},
   "outputs": [
    {
     "data": {
      "text/plain": [
       "{23: 'twothree', 'B': 43, 'newKey': ['newValue'], 'y': 'YY', 'z': 10}"
      ]
     },
     "execution_count": 69,
     "metadata": {},
     "output_type": "execute_result"
    }
   ],
   "source": [
    "D"
   ]
  },
  {
   "cell_type": "code",
   "execution_count": 70,
   "id": "930b1f95",
   "metadata": {},
   "outputs": [],
   "source": [
    "D2 = {'A':L,'B':T,'C':S,'D':D}"
   ]
  },
  {
   "cell_type": "code",
   "execution_count": 71,
   "id": "3098bc64",
   "metadata": {},
   "outputs": [
    {
     "data": {
      "text/plain": [
       "[3.8, 'you', 'are', 'how', 3, 4.9, 3, 1]"
      ]
     },
     "execution_count": 71,
     "metadata": {},
     "output_type": "execute_result"
    }
   ],
   "source": [
    "D2['A']"
   ]
  },
  {
   "cell_type": "code",
   "execution_count": 72,
   "id": "b55e2f5e",
   "metadata": {},
   "outputs": [
    {
     "data": {
      "text/plain": [
       "'how'"
      ]
     },
     "execution_count": 72,
     "metadata": {},
     "output_type": "execute_result"
    }
   ],
   "source": [
    "D2['A'][3]"
   ]
  },
  {
   "cell_type": "code",
   "execution_count": 73,
   "id": "bb60b634",
   "metadata": {},
   "outputs": [],
   "source": [
    "K = D2['D']"
   ]
  },
  {
   "cell_type": "code",
   "execution_count": 74,
   "id": "00976166",
   "metadata": {},
   "outputs": [
    {
     "data": {
      "text/plain": [
       "{23: 'twothree', 'B': 43, 'newKey': ['newValue'], 'y': 'YY', 'z': 10}"
      ]
     },
     "execution_count": 74,
     "metadata": {},
     "output_type": "execute_result"
    }
   ],
   "source": [
    "K"
   ]
  },
  {
   "cell_type": "code",
   "execution_count": 75,
   "id": "4c5855f4",
   "metadata": {},
   "outputs": [
    {
     "name": "stdout",
     "output_type": "stream",
     "text": [
      "23 twothree\n",
      "B 43\n",
      "newKey ['newValue']\n",
      "y YY\n",
      "z 10\n"
     ]
    }
   ],
   "source": [
    "for x in K:\n",
    "    print(x,K[x])"
   ]
  },
  {
   "cell_type": "code",
   "execution_count": 76,
   "id": "c40aa80d",
   "metadata": {},
   "outputs": [],
   "source": [
    "L3 = [L,T,D,23,\"game\"]"
   ]
  },
  {
   "cell_type": "code",
   "execution_count": 77,
   "id": "a6732c15",
   "metadata": {},
   "outputs": [
    {
     "data": {
      "text/plain": [
       "dict"
      ]
     },
     "execution_count": 77,
     "metadata": {},
     "output_type": "execute_result"
    }
   ],
   "source": [
    "type(L3[2])"
   ]
  },
  {
   "cell_type": "code",
   "execution_count": 78,
   "id": "6d18ae0d",
   "metadata": {},
   "outputs": [],
   "source": [
    "L3 = [x**2 for x in range(10)]"
   ]
  },
  {
   "cell_type": "code",
   "execution_count": 79,
   "id": "5d9f6323",
   "metadata": {},
   "outputs": [
    {
     "data": {
      "text/plain": [
       "[0, 1, 4, 9, 16, 25, 36, 49, 64, 81]"
      ]
     },
     "execution_count": 79,
     "metadata": {},
     "output_type": "execute_result"
    }
   ],
   "source": [
    "L3"
   ]
  },
  {
   "cell_type": "code",
   "execution_count": 80,
   "id": "27904a50",
   "metadata": {},
   "outputs": [],
   "source": [
    "S3 = {x**2 for x in range(2,20,3)}"
   ]
  },
  {
   "cell_type": "code",
   "execution_count": 81,
   "id": "b473ff07",
   "metadata": {},
   "outputs": [
    {
     "data": {
      "text/plain": [
       "{4, 25, 64, 121, 196, 289}"
      ]
     },
     "execution_count": 81,
     "metadata": {},
     "output_type": "execute_result"
    }
   ],
   "source": [
    "S3"
   ]
  },
  {
   "cell_type": "code",
   "execution_count": 88,
   "id": "fe0482c1",
   "metadata": {},
   "outputs": [],
   "source": [
    "#say you are a teacher and you have different student records containing id of\n",
    " # a student and the marks list in each subject where diffrent students have taken diffrent number of subjects. All these\n",
    "#records are in hard copy. You want to enter all the data in computertánd want to compute the average marks of each\n",
    "# student and display\n",
    "\n",
    "\n",
    "def getDataFromUser():\n",
    "    D = {}\n",
    "    while True:\n",
    "        studentId = input(\"Enter student ID: \")\n",
    "        marksList = input(\"Enter the marks by csv: \")\n",
    "        moreStudents = input('Enter \"no\" to quit insertion: ')\n",
    "        if studentId in D:\n",
    "            print(studentId, \"is already inserted\")\n",
    "        else:\n",
    "            D[studentId] = marksList.split(\",\")\n",
    "        if moreStudents.lower() == \"no\":\n",
    "            return D\n",
    "        "
   ]
  },
  {
   "cell_type": "code",
   "execution_count": 89,
   "id": "9d3e84da",
   "metadata": {},
   "outputs": [
    {
     "name": "stdout",
     "output_type": "stream",
     "text": [
      "Enter student ID: 12\n",
      "Enter the marks by csv: 24,65,87\n",
      "Enter \"no\" to quit insertion: hdgdg\n",
      "Enter student ID: 45\n",
      "Enter the marks by csv: 44,55,66,77,14\n",
      "Enter \"no\" to quit insertion: ghfgh\n",
      "Enter student ID: 12\n",
      "Enter the marks by csv: 22,34\n",
      "Enter \"no\" to quit insertion: jhdghj\n",
      "12 is already inserted\n",
      "Enter student ID: 23\n",
      "Enter the marks by csv: 45,45\n",
      "Enter \"no\" to quit insertion: dgh\n",
      "Enter student ID: 16\n",
      "Enter the marks by csv: 98\n",
      "Enter \"no\" to quit insertion: no\n"
     ]
    }
   ],
   "source": [
    "studentData = getDataFromUser()"
   ]
  },
  {
   "cell_type": "code",
   "execution_count": 90,
   "id": "f87334d8",
   "metadata": {},
   "outputs": [
    {
     "data": {
      "text/plain": [
       "{'12': ['24', '65', '87'],\n",
       " '45': ['44', '55', '66', '77', '14'],\n",
       " '23': ['45', '45'],\n",
       " '16': ['98']}"
      ]
     },
     "execution_count": 90,
     "metadata": {},
     "output_type": "execute_result"
    }
   ],
   "source": [
    "studentData"
   ]
  },
  {
   "cell_type": "code",
   "execution_count": 94,
   "id": "60051078",
   "metadata": {},
   "outputs": [],
   "source": [
    "def getAvgMarks(D):\n",
    "    avgMarks = {}\n",
    "    for x in D:\n",
    "        L = D[x]\n",
    "        s = 0\n",
    "        for marks in L:\n",
    "            s += int(marks)\n",
    "        avgMarks[x] = s/len(L)\n",
    "    return avgMarks"
   ]
  },
  {
   "cell_type": "code",
   "execution_count": 95,
   "id": "c3e66302",
   "metadata": {},
   "outputs": [],
   "source": [
    "avgM = getAvgMarks(studentData)"
   ]
  },
  {
   "cell_type": "code",
   "execution_count": 97,
   "id": "22aa5243",
   "metadata": {},
   "outputs": [
    {
     "name": "stdout",
     "output_type": "stream",
     "text": [
      "Student 12 got avg marks as:  58.666666666666664\n",
      "Student 45 got avg marks as:  51.2\n",
      "Student 23 got avg marks as:  45.0\n",
      "Student 16 got avg marks as:  98.0\n"
     ]
    }
   ],
   "source": [
    "for x in avgM:\n",
    "    print(\"Student\",x,\"got avg marks as: \",avgM[x])"
   ]
  },
  {
   "cell_type": "markdown",
   "id": "a9c64b6d",
   "metadata": {},
   "source": [
    "# Numpy"
   ]
  },
  {
   "cell_type": "markdown",
   "id": "0d2bf445",
   "metadata": {},
   "source": [
    "Why Numpy?\n",
    "\n",
    "Numpy is faster that List. Lists are abstract data structures i.e they can have several 'types' but if \n",
    "we restrict a List to a single 'type', of elements in it, it denotes something called as NumPy. We use NumPy \n",
    "because, using the functions in Numpy yields results much more faster than the Lists. Numpy is very useful when \n",
    "we have numeric data types(mostly used also) . Although Numpy array can have string data types."
   ]
  },
  {
   "cell_type": "markdown",
   "id": "2e09a205",
   "metadata": {},
   "source": [
    "We import the numpy array as :    import numpy as np\n",
    "                                  \n",
    "                                  a = np.array([1,2,3,4,5])\n",
    "                                  b = np.array([1,6,3,4,9])\n",
    "                                  print(a)\n",
    "                                  print(b)"
   ]
  },
  {
   "cell_type": "code",
   "execution_count": 4,
   "id": "01bd4d4f",
   "metadata": {},
   "outputs": [],
   "source": [
    "import numpy as np"
   ]
  },
  {
   "cell_type": "code",
   "execution_count": 6,
   "id": "13020234",
   "metadata": {},
   "outputs": [],
   "source": [
    "a = np.array([1,4,3,5,7])   # defining an array in form of a List"
   ]
  },
  {
   "cell_type": "code",
   "execution_count": 7,
   "id": "d2a324d9",
   "metadata": {},
   "outputs": [],
   "source": [
    "b = np.array((2,3,5))       # defining array in form of a Tuple"
   ]
  },
  {
   "cell_type": "code",
   "execution_count": 8,
   "id": "397d29fe",
   "metadata": {},
   "outputs": [
    {
     "name": "stdout",
     "output_type": "stream",
     "text": [
      "[1 4 3 5 7]\n"
     ]
    }
   ],
   "source": [
    "print(a)"
   ]
  },
  {
   "cell_type": "code",
   "execution_count": 10,
   "id": "bd183e45",
   "metadata": {},
   "outputs": [
    {
     "data": {
      "text/plain": [
       "numpy.ndarray"
      ]
     },
     "execution_count": 10,
     "metadata": {},
     "output_type": "execute_result"
    }
   ],
   "source": [
    "type(a)                # a is not a list but an numpy.ndarray i.e n-dimensional array in numpy"
   ]
  },
  {
   "cell_type": "code",
   "execution_count": 11,
   "id": "424aeb82",
   "metadata": {},
   "outputs": [
    {
     "data": {
      "text/plain": [
       "numpy.ndarray"
      ]
     },
     "execution_count": 11,
     "metadata": {},
     "output_type": "execute_result"
    }
   ],
   "source": [
    "type(b)"
   ]
  },
  {
   "cell_type": "code",
   "execution_count": 12,
   "id": "4d303e0e",
   "metadata": {},
   "outputs": [
    {
     "data": {
      "text/plain": [
       "dtype('int32')"
      ]
     },
     "execution_count": 12,
     "metadata": {},
     "output_type": "execute_result"
    }
   ],
   "source": [
    "a.dtype      # defines the data type of a"
   ]
  },
  {
   "cell_type": "code",
   "execution_count": 15,
   "id": "3f370cd3",
   "metadata": {},
   "outputs": [],
   "source": [
    "a = np.array([1,4,3,5,7],dtype = 'i')   # defining data type while creating an array"
   ]
  },
  {
   "cell_type": "code",
   "execution_count": 16,
   "id": "47e2cce8",
   "metadata": {},
   "outputs": [],
   "source": [
    "b = np.array((2,3,5),dtype = 'f')       # defining data type while creating an array\n"
   ]
  },
  {
   "cell_type": "code",
   "execution_count": 17,
   "id": "cdc59157",
   "metadata": {},
   "outputs": [
    {
     "data": {
      "text/plain": [
       "dtype('int32')"
      ]
     },
     "execution_count": 17,
     "metadata": {},
     "output_type": "execute_result"
    }
   ],
   "source": [
    "a.dtype"
   ]
  },
  {
   "cell_type": "code",
   "execution_count": 18,
   "id": "11ead8e0",
   "metadata": {},
   "outputs": [
    {
     "data": {
      "text/plain": [
       "dtype('float32')"
      ]
     },
     "execution_count": 18,
     "metadata": {},
     "output_type": "execute_result"
    }
   ],
   "source": [
    "b.dtype"
   ]
  },
  {
   "cell_type": "markdown",
   "id": "a0cd3925",
   "metadata": {},
   "source": [
    "### Numpy (Dimensions)"
   ]
  },
  {
   "cell_type": "code",
   "execution_count": 23,
   "id": "d79196b8",
   "metadata": {},
   "outputs": [],
   "source": [
    "a = np.array([[1,2,3],[4,5,6]])       # creating a two dimensional array"
   ]
  },
  {
   "cell_type": "code",
   "execution_count": 26,
   "id": "35723933",
   "metadata": {},
   "outputs": [
    {
     "data": {
      "text/plain": [
       "2"
      ]
     },
     "execution_count": 26,
     "metadata": {},
     "output_type": "execute_result"
    }
   ],
   "source": [
    "a.ndim       # to find no. of dimensions of a"
   ]
  },
  {
   "cell_type": "code",
   "execution_count": 27,
   "id": "9a552cf7",
   "metadata": {},
   "outputs": [
    {
     "data": {
      "text/plain": [
       "3"
      ]
     },
     "execution_count": 27,
     "metadata": {},
     "output_type": "execute_result"
    }
   ],
   "source": [
    "a[0,2]     # accessing the two dimensional array here"
   ]
  },
  {
   "cell_type": "code",
   "execution_count": 31,
   "id": "7937f95b",
   "metadata": {},
   "outputs": [
    {
     "name": "stderr",
     "output_type": "stream",
     "text": [
      "C:\\Users\\TK3ED7~1.DAS\\AppData\\Local\\Temp/ipykernel_39328/165434663.py:1: VisibleDeprecationWarning: Creating an ndarray from ragged nested sequences (which is a list-or-tuple of lists-or-tuples-or ndarrays with different lengths or shapes) is deprecated. If you meant to do this, you must specify 'dtype=object' when creating the ndarray.\n",
      "  B = np.array([[1,2,3],[2,4,5,9]])\n"
     ]
    }
   ],
   "source": [
    "B = np.array([[1,2,3],[2,4,5,9]])"
   ]
  },
  {
   "cell_type": "markdown",
   "id": "f98e1140",
   "metadata": {},
   "source": [
    "**When you are creating a multi dimensional array, you must have same number of elements in each array"
   ]
  },
  {
   "cell_type": "code",
   "execution_count": 32,
   "id": "29746520",
   "metadata": {},
   "outputs": [],
   "source": [
    "B = np.array([[1,2,3,-1],[2,4,5,9]])"
   ]
  },
  {
   "cell_type": "code",
   "execution_count": 33,
   "id": "a4ca41e4",
   "metadata": {},
   "outputs": [
    {
     "data": {
      "text/plain": [
       "5"
      ]
     },
     "execution_count": 33,
     "metadata": {},
     "output_type": "execute_result"
    }
   ],
   "source": [
    "B[1,2]"
   ]
  },
  {
   "cell_type": "code",
   "execution_count": 36,
   "id": "3112ea2a",
   "metadata": {},
   "outputs": [],
   "source": [
    "C = np.array([[1,2,3],[4,5,6],[0,0,-1]])"
   ]
  },
  {
   "cell_type": "code",
   "execution_count": 37,
   "id": "126e655f",
   "metadata": {},
   "outputs": [
    {
     "data": {
      "text/plain": [
       "2"
      ]
     },
     "execution_count": 37,
     "metadata": {},
     "output_type": "execute_result"
    }
   ],
   "source": [
    "C.ndim"
   ]
  },
  {
   "cell_type": "markdown",
   "id": "c63e6e24",
   "metadata": {},
   "source": [
    "So to find the dimension of an array you must always look ---> how many values are wriiten in the []\n",
    "                                                               to access a particular element"
   ]
  },
  {
   "cell_type": "code",
   "execution_count": 38,
   "id": "b562d33e",
   "metadata": {},
   "outputs": [],
   "source": [
    "C = np.array([[[1,2,3],[4,5,6],[0,0,-1]],[[-1,-2,-3],[-4,-5,-6],[0,0,1]]]) # An array of 2-D arrays is basically a 3-D array"
   ]
  },
  {
   "cell_type": "code",
   "execution_count": 39,
   "id": "7d24419c",
   "metadata": {},
   "outputs": [
    {
     "data": {
      "text/plain": [
       "3"
      ]
     },
     "execution_count": 39,
     "metadata": {},
     "output_type": "execute_result"
    }
   ],
   "source": [
    "C.ndim"
   ]
  },
  {
   "cell_type": "code",
   "execution_count": 40,
   "id": "a3c35872",
   "metadata": {},
   "outputs": [
    {
     "data": {
      "text/plain": [
       "-3"
      ]
     },
     "execution_count": 40,
     "metadata": {},
     "output_type": "execute_result"
    }
   ],
   "source": [
    "C[1,0,2]"
   ]
  },
  {
   "cell_type": "code",
   "execution_count": 42,
   "id": "78dbdec8",
   "metadata": {},
   "outputs": [
    {
     "data": {
      "text/plain": [
       "(2, 3, 3)"
      ]
     },
     "execution_count": 42,
     "metadata": {},
     "output_type": "execute_result"
    }
   ],
   "source": [
    "C.shape "
   ]
  },
  {
   "cell_type": "markdown",
   "id": "e14c74b8",
   "metadata": {},
   "source": [
    "A Tuple (2,3,3) is returned. Here 2 represents : no. of 2-D arrays |\n",
    "                                  3 represents : no. of 1-D arrays in each 2-D arrays |\n",
    "                                  3 represents : no. of elements in each 1-D arrays"
   ]
  },
  {
   "cell_type": "code",
   "execution_count": 45,
   "id": "70f07dc4",
   "metadata": {},
   "outputs": [
    {
     "data": {
      "text/plain": [
       "2"
      ]
     },
     "execution_count": 45,
     "metadata": {},
     "output_type": "execute_result"
    }
   ],
   "source": [
    "C.shape[0]  # total no. of 2-D arrays"
   ]
  },
  {
   "cell_type": "code",
   "execution_count": 46,
   "id": "2423bbd0",
   "metadata": {},
   "outputs": [
    {
     "data": {
      "text/plain": [
       "3"
      ]
     },
     "execution_count": 46,
     "metadata": {},
     "output_type": "execute_result"
    }
   ],
   "source": [
    "C.shape[1] # No of 1-D arrays in ech 2D arrays"
   ]
  },
  {
   "cell_type": "code",
   "execution_count": 47,
   "id": "b41f27ea",
   "metadata": {},
   "outputs": [
    {
     "data": {
      "text/plain": [
       "3"
      ]
     },
     "execution_count": 47,
     "metadata": {},
     "output_type": "execute_result"
    }
   ],
   "source": [
    "C.shape[2]   # No of elements in each 1D arrays"
   ]
  },
  {
   "cell_type": "code",
   "execution_count": 48,
   "id": "3427d9ec",
   "metadata": {},
   "outputs": [
    {
     "data": {
      "text/plain": [
       "1"
      ]
     },
     "execution_count": 48,
     "metadata": {},
     "output_type": "execute_result"
    }
   ],
   "source": [
    "A = np.array([2])\n",
    "A.ndim                   #  This represents a 1-D array as we have defined this in a list"
   ]
  },
  {
   "cell_type": "code",
   "execution_count": 49,
   "id": "23dfe402",
   "metadata": {},
   "outputs": [
    {
     "data": {
      "text/plain": [
       "0"
      ]
     },
     "execution_count": 49,
     "metadata": {},
     "output_type": "execute_result"
    }
   ],
   "source": [
    "B = np.array(0)\n",
    "B.ndim                   # this represents a 0-D array "
   ]
  },
  {
   "cell_type": "code",
   "execution_count": 52,
   "id": "d5869451",
   "metadata": {},
   "outputs": [],
   "source": [
    "C = np.array([[[1,2,3],[4,5,6],[0,0,-1]],[[-1,-2,-3],[-4,-5,-6],[0,0,1]]])"
   ]
  },
  {
   "cell_type": "code",
   "execution_count": 53,
   "id": "a609f920",
   "metadata": {},
   "outputs": [
    {
     "data": {
      "text/plain": [
       "18"
      ]
     },
     "execution_count": 53,
     "metadata": {},
     "output_type": "execute_result"
    }
   ],
   "source": [
    "C.size         # Tells the complete total no of elements in an array"
   ]
  },
  {
   "cell_type": "code",
   "execution_count": 57,
   "id": "2acd175b",
   "metadata": {},
   "outputs": [
    {
     "data": {
      "text/plain": [
       "72"
      ]
     },
     "execution_count": 57,
     "metadata": {},
     "output_type": "execute_result"
    }
   ],
   "source": [
    "C.nbytes   # Total no of bytes "
   ]
  },
  {
   "cell_type": "markdown",
   "id": "03455d72",
   "metadata": {},
   "source": [
    "Some functions like 'np.zeros' create an array of zeroes. Similarly 'np.ones' create an array of ones "
   ]
  },
  {
   "cell_type": "markdown",
   "id": "b7a30a42",
   "metadata": {},
   "source": [
    "### Numpy (np.arange, reshape, random)"
   ]
  },
  {
   "cell_type": "code",
   "execution_count": 58,
   "id": "6cc9bbd5",
   "metadata": {},
   "outputs": [],
   "source": [
    "A = np.arange(100)  # Creates an array of numbers starting from 0 to 99. Similarly other range of numbers can be taken"
   ]
  },
  {
   "cell_type": "code",
   "execution_count": 59,
   "id": "c0cfbd64",
   "metadata": {},
   "outputs": [
    {
     "name": "stdout",
     "output_type": "stream",
     "text": [
      "[ 0  1  2  3  4  5  6  7  8  9 10 11 12 13 14 15 16 17 18 19 20 21 22 23\n",
      " 24 25 26 27 28 29 30 31 32 33 34 35 36 37 38 39 40 41 42 43 44 45 46 47\n",
      " 48 49 50 51 52 53 54 55 56 57 58 59 60 61 62 63 64 65 66 67 68 69 70 71\n",
      " 72 73 74 75 76 77 78 79 80 81 82 83 84 85 86 87 88 89 90 91 92 93 94 95\n",
      " 96 97 98 99]\n"
     ]
    }
   ],
   "source": [
    "print(A)"
   ]
  },
  {
   "cell_type": "code",
   "execution_count": 61,
   "id": "234b5c87",
   "metadata": {},
   "outputs": [
    {
     "name": "stdout",
     "output_type": "stream",
     "text": [
      "[20 21 22 23 24 25 26 27 28 29 30 31 32 33 34 35 36 37 38 39 40 41 42 43\n",
      " 44 45 46 47 48 49 50 51 52 53 54 55 56 57 58 59 60 61 62 63 64 65 66 67\n",
      " 68 69 70 71 72 73 74 75 76 77 78 79 80 81 82 83 84 85 86 87 88 89 90 91\n",
      " 92 93 94 95 96 97 98 99]\n"
     ]
    }
   ],
   "source": [
    "A = np.arange(20,100)\n",
    "print(A)"
   ]
  },
  {
   "cell_type": "code",
   "execution_count": 64,
   "id": "171eb507",
   "metadata": {},
   "outputs": [
    {
     "name": "stdout",
     "output_type": "stream",
     "text": [
      "[20 23 26 29 32 35 38 41 44 47 50 53 56 59 62 65 68 71 74 77 80 83 86 89\n",
      " 92 95 98]\n"
     ]
    }
   ],
   "source": [
    "A = np.arange(20,100,3)   # This works similar to the range function but the range function is an iterator. An Iterator is\n",
    "print(A)                  # is a function that does not creates an array of elements but it works in a loop in accordance \n",
    "                          # with the number of iterations\n",
    "    "
   ]
  },
  {
   "cell_type": "code",
   "execution_count": 68,
   "id": "ba6480b9",
   "metadata": {},
   "outputs": [
    {
     "name": "stdout",
     "output_type": "stream",
     "text": [
      "[0, 1, 2, 3, 4, 5, 6, 7, 8, 9]\n"
     ]
    }
   ],
   "source": [
    "print(list(range(10)))      # This is how a list/array can be created using an iterator"
   ]
  },
  {
   "cell_type": "code",
   "execution_count": 69,
   "id": "817d54dd",
   "metadata": {},
   "outputs": [
    {
     "name": "stdout",
     "output_type": "stream",
     "text": [
      "[9 3 6 0 1 5 4 2 7 8]\n"
     ]
    }
   ],
   "source": [
    "A = np.random.permutation(np.arange(10))    # This will at first create an array of numbers from 0 to 9 then it will \n",
    "print(A)                                    # shuffle the numbers"
   ]
  },
  {
   "cell_type": "code",
   "execution_count": 74,
   "id": "65395e00",
   "metadata": {},
   "outputs": [
    {
     "name": "stdout",
     "output_type": "stream",
     "text": [
      "20\n"
     ]
    },
    {
     "data": {
      "text/plain": [
       "int"
      ]
     },
     "execution_count": 74,
     "metadata": {},
     "output_type": "execute_result"
    }
   ],
   "source": [
    "v = np.random.randint(20,30) # Create some random integer between 20 and 30. It can produce/same integer evrerytime\n",
    "print(v)\n",
    "type(v)"
   ]
  },
  {
   "cell_type": "code",
   "execution_count": 82,
   "id": "332eb390",
   "metadata": {},
   "outputs": [],
   "source": [
    "A = np.random.rand(1000)    # Creates random numbers"
   ]
  },
  {
   "cell_type": "code",
   "execution_count": 83,
   "id": "67f24358",
   "metadata": {},
   "outputs": [],
   "source": [
    "import matplotlib.pyplot as plt"
   ]
  },
  {
   "cell_type": "code",
   "execution_count": 84,
   "id": "20a2da2e",
   "metadata": {},
   "outputs": [
    {
     "data": {
      "text/plain": [
       "(array([11., 12.,  8., 11.,  8., 14.,  9.,  9., 14., 19., 11., 15.,  9.,\n",
       "         7., 10., 10., 12., 13., 10., 10., 17., 10.,  5., 12.,  7., 11.,\n",
       "        12.,  6., 15., 10.,  8., 11., 13.,  9.,  5., 15.,  6.,  8., 11.,\n",
       "         7., 11., 11.,  6., 11.,  3., 13.,  9.,  6.,  5., 10., 13.,  6.,\n",
       "        12., 10., 14.,  7., 11., 10.,  9.,  6., 11.,  5., 11., 11., 12.,\n",
       "        12., 12., 10.,  4., 10.,  9., 10.,  8.,  7.,  8.,  8.,  9., 11.,\n",
       "         9., 17.,  9., 10.,  8.,  6., 11., 16.,  7.,  7., 13., 17., 14.,\n",
       "         7., 11., 14., 10.,  6.,  7.,  7.,  8., 15.]),\n",
       " array([7.02845389e-04, 1.06951510e-02, 2.06874566e-02, 3.06797622e-02,\n",
       "        4.06720678e-02, 5.06643734e-02, 6.06566791e-02, 7.06489847e-02,\n",
       "        8.06412903e-02, 9.06335959e-02, 1.00625901e-01, 1.10618207e-01,\n",
       "        1.20610513e-01, 1.30602818e-01, 1.40595124e-01, 1.50587430e-01,\n",
       "        1.60579735e-01, 1.70572041e-01, 1.80564346e-01, 1.90556652e-01,\n",
       "        2.00548958e-01, 2.10541263e-01, 2.20533569e-01, 2.30525874e-01,\n",
       "        2.40518180e-01, 2.50510486e-01, 2.60502791e-01, 2.70495097e-01,\n",
       "        2.80487402e-01, 2.90479708e-01, 3.00472014e-01, 3.10464319e-01,\n",
       "        3.20456625e-01, 3.30448931e-01, 3.40441236e-01, 3.50433542e-01,\n",
       "        3.60425847e-01, 3.70418153e-01, 3.80410459e-01, 3.90402764e-01,\n",
       "        4.00395070e-01, 4.10387375e-01, 4.20379681e-01, 4.30371987e-01,\n",
       "        4.40364292e-01, 4.50356598e-01, 4.60348903e-01, 4.70341209e-01,\n",
       "        4.80333515e-01, 4.90325820e-01, 5.00318126e-01, 5.10310432e-01,\n",
       "        5.20302737e-01, 5.30295043e-01, 5.40287348e-01, 5.50279654e-01,\n",
       "        5.60271960e-01, 5.70264265e-01, 5.80256571e-01, 5.90248876e-01,\n",
       "        6.00241182e-01, 6.10233488e-01, 6.20225793e-01, 6.30218099e-01,\n",
       "        6.40210404e-01, 6.50202710e-01, 6.60195016e-01, 6.70187321e-01,\n",
       "        6.80179627e-01, 6.90171933e-01, 7.00164238e-01, 7.10156544e-01,\n",
       "        7.20148849e-01, 7.30141155e-01, 7.40133461e-01, 7.50125766e-01,\n",
       "        7.60118072e-01, 7.70110377e-01, 7.80102683e-01, 7.90094989e-01,\n",
       "        8.00087294e-01, 8.10079600e-01, 8.20071905e-01, 8.30064211e-01,\n",
       "        8.40056517e-01, 8.50048822e-01, 8.60041128e-01, 8.70033434e-01,\n",
       "        8.80025739e-01, 8.90018045e-01, 9.00010350e-01, 9.10002656e-01,\n",
       "        9.19994962e-01, 9.29987267e-01, 9.39979573e-01, 9.49971878e-01,\n",
       "        9.59964184e-01, 9.69956490e-01, 9.79948795e-01, 9.89941101e-01,\n",
       "        9.99933406e-01]),\n",
       " <BarContainer object of 100 artists>)"
      ]
     },
     "execution_count": 84,
     "metadata": {},
     "output_type": "execute_result"
    },
    {
     "data": {
      "image/png": "[encoded data removed]",
      "text/plain": [
       "<Figure size 432x288 with 1 Axes>"
      ]
     },
     "metadata": {
      "needs_background": "light"
     },
     "output_type": "display_data"
    }
   ],
   "source": [
    "plt.hist(A,bins=100)"
   ]
  },
  {
   "cell_type": "code",
   "execution_count": 85,
   "id": "51c37e46",
   "metadata": {},
   "outputs": [
    {
     "data": {
      "text/plain": [
       "(array([1.0000e+00, 0.0000e+00, 1.0000e+00, 1.0000e+00, 0.0000e+00,\n",
       "        0.0000e+00, 3.0000e+00, 1.0000e+00, 2.0000e+00, 4.0000e+00,\n",
       "        4.0000e+00, 2.0000e+00, 7.0000e+00, 4.0000e+00, 1.0000e+00,\n",
       "        7.0000e+00, 8.0000e+00, 1.2000e+01, 1.0000e+01, 1.2000e+01,\n",
       "        1.9000e+01, 1.2000e+01, 2.3000e+01, 4.0000e+01, 3.0000e+01,\n",
       "        2.4000e+01, 5.0000e+01, 5.9000e+01, 6.9000e+01, 6.7000e+01,\n",
       "        7.5000e+01, 8.0000e+01, 1.1600e+02, 1.3600e+02, 1.3800e+02,\n",
       "        1.9000e+02, 1.9400e+02, 2.3800e+02, 2.5100e+02, 2.9900e+02,\n",
       "        3.6000e+02, 4.0400e+02, 5.0000e+02, 5.1200e+02, 6.2000e+02,\n",
       "        7.1800e+02, 7.5100e+02, 8.5300e+02, 1.0180e+03, 1.0660e+03,\n",
       "        1.2450e+03, 1.4090e+03, 1.4760e+03, 1.7020e+03, 1.8360e+03,\n",
       "        2.0400e+03, 2.3680e+03, 2.4720e+03, 2.7860e+03, 2.9680e+03,\n",
       "        3.5090e+03, 3.5700e+03, 3.9280e+03, 4.3460e+03, 4.5690e+03,\n",
       "        4.8210e+03, 5.5080e+03, 5.7110e+03, 6.1560e+03, 6.7530e+03,\n",
       "        7.2430e+03, 7.5870e+03, 8.2760e+03, 8.7770e+03, 9.1120e+03,\n",
       "        9.7900e+03, 1.0385e+04, 1.0733e+04, 1.1238e+04, 1.1891e+04,\n",
       "        1.2442e+04, 1.3092e+04, 1.3378e+04, 1.3840e+04, 1.4534e+04,\n",
       "        1.5217e+04, 1.5623e+04, 1.5952e+04, 1.6350e+04, 1.6942e+04,\n",
       "        1.7361e+04, 1.7304e+04, 1.8018e+04, 1.8441e+04, 1.8324e+04,\n",
       "        1.8453e+04, 1.8619e+04, 1.8622e+04, 1.8670e+04, 1.9090e+04,\n",
       "        1.8884e+04, 1.8874e+04, 1.9166e+04, 1.8567e+04, 1.8336e+04,\n",
       "        1.8532e+04, 1.7922e+04, 1.7784e+04, 1.7504e+04, 1.7187e+04,\n",
       "        1.6557e+04, 1.6180e+04, 1.5521e+04, 1.5320e+04, 1.4683e+04,\n",
       "        1.4339e+04, 1.3846e+04, 1.2983e+04, 1.2717e+04, 1.2172e+04,\n",
       "        1.1554e+04, 1.1084e+04, 1.0737e+04, 1.0115e+04, 9.5240e+03,\n",
       "        8.9590e+03, 8.4760e+03, 7.8620e+03, 7.4240e+03, 6.8940e+03,\n",
       "        6.5440e+03, 6.1550e+03, 5.7530e+03, 5.3180e+03, 4.9420e+03,\n",
       "        4.5350e+03, 4.1840e+03, 3.9940e+03, 3.5230e+03, 3.2620e+03,\n",
       "        2.9510e+03, 2.6590e+03, 2.5220e+03, 2.1930e+03, 1.9030e+03,\n",
       "        1.8770e+03, 1.7020e+03, 1.4910e+03, 1.3130e+03, 1.1700e+03,\n",
       "        1.0950e+03, 9.0100e+02, 8.7900e+02, 7.4200e+02, 6.7800e+02,\n",
       "        5.7200e+02, 5.4400e+02, 4.6000e+02, 3.9100e+02, 3.7800e+02,\n",
       "        3.1100e+02, 2.9900e+02, 2.3200e+02, 2.0900e+02, 1.7200e+02,\n",
       "        1.5000e+02, 1.2000e+02, 1.0800e+02, 1.0500e+02, 8.5000e+01,\n",
       "        6.6000e+01, 4.6000e+01, 3.4000e+01, 3.9000e+01, 3.3000e+01,\n",
       "        3.7000e+01, 3.2000e+01, 2.1000e+01, 1.4000e+01, 1.9000e+01,\n",
       "        1.1000e+01, 8.0000e+00, 9.0000e+00, 9.0000e+00, 4.0000e+00,\n",
       "        5.0000e+00, 1.0000e+00, 2.0000e+00, 2.0000e+00, 4.0000e+00,\n",
       "        3.0000e+00, 0.0000e+00, 3.0000e+00, 0.0000e+00, 0.0000e+00,\n",
       "        2.0000e+00, 0.0000e+00, 0.0000e+00, 1.0000e+00, 1.0000e+00]),\n",
       " array([-4.73422197, -4.6867999 , -4.63937784, -4.59195577, -4.54453371,\n",
       "        -4.49711164, -4.44968957, -4.40226751, -4.35484544, -4.30742338,\n",
       "        -4.26000131, -4.21257925, -4.16515718, -4.11773512, -4.07031305,\n",
       "        -4.02289099, -3.97546892, -3.92804686, -3.88062479, -3.83320273,\n",
       "        -3.78578066, -3.7383586 , -3.69093653, -3.64351447, -3.5960924 ,\n",
       "        -3.54867034, -3.50124827, -3.4538262 , -3.40640414, -3.35898207,\n",
       "        -3.31156001, -3.26413794, -3.21671588, -3.16929381, -3.12187175,\n",
       "        -3.07444968, -3.02702762, -2.97960555, -2.93218349, -2.88476142,\n",
       "        -2.83733936, -2.78991729, -2.74249523, -2.69507316, -2.6476511 ,\n",
       "        -2.60022903, -2.55280697, -2.5053849 , -2.45796283, -2.41054077,\n",
       "        -2.3631187 , -2.31569664, -2.26827457, -2.22085251, -2.17343044,\n",
       "        -2.12600838, -2.07858631, -2.03116425, -1.98374218, -1.93632012,\n",
       "        -1.88889805, -1.84147599, -1.79405392, -1.74663186, -1.69920979,\n",
       "        -1.65178773, -1.60436566, -1.5569436 , -1.50952153, -1.46209946,\n",
       "        -1.4146774 , -1.36725533, -1.31983327, -1.2724112 , -1.22498914,\n",
       "        -1.17756707, -1.13014501, -1.08272294, -1.03530088, -0.98787881,\n",
       "        -0.94045675, -0.89303468, -0.84561262, -0.79819055, -0.75076849,\n",
       "        -0.70334642, -0.65592436, -0.60850229, -0.56108023, -0.51365816,\n",
       "        -0.46623609, -0.41881403, -0.37139196, -0.3239699 , -0.27654783,\n",
       "        -0.22912577, -0.1817037 , -0.13428164, -0.08685957, -0.03943751,\n",
       "         0.00798456,  0.05540662,  0.10282869,  0.15025075,  0.19767282,\n",
       "         0.24509488,  0.29251695,  0.33993901,  0.38736108,  0.43478315,\n",
       "         0.48220521,  0.52962728,  0.57704934,  0.62447141,  0.67189347,\n",
       "         0.71931554,  0.7667376 ,  0.81415967,  0.86158173,  0.9090038 ,\n",
       "         0.95642586,  1.00384793,  1.05126999,  1.09869206,  1.14611412,\n",
       "         1.19353619,  1.24095825,  1.28838032,  1.33580238,  1.38322445,\n",
       "         1.43064652,  1.47806858,  1.52549065,  1.57291271,  1.62033478,\n",
       "         1.66775684,  1.71517891,  1.76260097,  1.81002304,  1.8574451 ,\n",
       "         1.90486717,  1.95228923,  1.9997113 ,  2.04713336,  2.09455543,\n",
       "         2.14197749,  2.18939956,  2.23682162,  2.28424369,  2.33166575,\n",
       "         2.37908782,  2.42650989,  2.47393195,  2.52135402,  2.56877608,\n",
       "         2.61619815,  2.66362021,  2.71104228,  2.75846434,  2.80588641,\n",
       "         2.85330847,  2.90073054,  2.9481526 ,  2.99557467,  3.04299673,\n",
       "         3.0904188 ,  3.13784086,  3.18526293,  3.23268499,  3.28010706,\n",
       "         3.32752912,  3.37495119,  3.42237326,  3.46979532,  3.51721739,\n",
       "         3.56463945,  3.61206152,  3.65948358,  3.70690565,  3.75432771,\n",
       "         3.80174978,  3.84917184,  3.89659391,  3.94401597,  3.99143804,\n",
       "         4.0388601 ,  4.08628217,  4.13370423,  4.1811263 ,  4.22854836,\n",
       "         4.27597043,  4.32339249,  4.37081456,  4.41823663,  4.46565869,\n",
       "         4.51308076,  4.56050282,  4.60792489,  4.65534695,  4.70276902,\n",
       "         4.75019108]),\n",
       " <BarContainer object of 200 artists>)"
      ]
     },
     "execution_count": 85,
     "metadata": {},
     "output_type": "execute_result"
    },
    {
     "data": {
      "image/png": "[encoded data removed]",
      "text/plain": [
       "<Figure size 432x288 with 1 Axes>"
      ]
     },
     "metadata": {
      "needs_background": "light"
     },
     "output_type": "display_data"
    }
   ],
   "source": [
    "B = np.random.randn(1000000)        # Creates Normal/Gaussian random numbers\n",
    "plt.hist(B,bins=200)"
   ]
  },
  {
   "cell_type": "code",
   "execution_count": 88,
   "id": "cfa0946f",
   "metadata": {},
   "outputs": [],
   "source": [
    "C = np.random.rand(2,3)  # Creates 2 by 3 matrix of random values"
   ]
  },
  {
   "cell_type": "code",
   "execution_count": 89,
   "id": "db7f79f8",
   "metadata": {},
   "outputs": [
    {
     "data": {
      "text/plain": [
       "array([[0.99114478, 0.21388663, 0.86527402],\n",
       "       [0.87579622, 0.07054746, 0.17815424]])"
      ]
     },
     "execution_count": 89,
     "metadata": {},
     "output_type": "execute_result"
    }
   ],
   "source": [
    "C"
   ]
  },
  {
   "cell_type": "code",
   "execution_count": 90,
   "id": "8956dc2e",
   "metadata": {},
   "outputs": [
    {
     "data": {
      "text/plain": [
       "2"
      ]
     },
     "execution_count": 90,
     "metadata": {},
     "output_type": "execute_result"
    }
   ],
   "source": [
    "C.ndim    "
   ]
  },
  {
   "cell_type": "code",
   "execution_count": 92,
   "id": "19c1a1c3",
   "metadata": {},
   "outputs": [],
   "source": [
    "C = np.random.rand(2,3,4,2)"
   ]
  },
  {
   "cell_type": "code",
   "execution_count": 93,
   "id": "eb6016ef",
   "metadata": {},
   "outputs": [
    {
     "data": {
      "text/plain": [
       "4"
      ]
     },
     "execution_count": 93,
     "metadata": {},
     "output_type": "execute_result"
    }
   ],
   "source": [
    "C.ndim"
   ]
  },
  {
   "cell_type": "code",
   "execution_count": 95,
   "id": "d75e9a55",
   "metadata": {},
   "outputs": [],
   "source": [
    "D = np.arange(100).reshape(4,25)     # D will a 4 by 25 matrix"
   ]
  },
  {
   "cell_type": "code",
   "execution_count": 96,
   "id": "4c14dbb3",
   "metadata": {},
   "outputs": [
    {
     "data": {
      "text/plain": [
       "(4, 25)"
      ]
     },
     "execution_count": 96,
     "metadata": {},
     "output_type": "execute_result"
    }
   ],
   "source": [
    "D.shape"
   ]
  },
  {
   "cell_type": "code",
   "execution_count": 19,
   "id": "85cf90e4",
   "metadata": {},
   "outputs": [],
   "source": [
    "D = np.arange(100).reshape(4,5,5)"
   ]
  },
  {
   "cell_type": "code",
   "execution_count": 20,
   "id": "dd38ca45",
   "metadata": {},
   "outputs": [
    {
     "data": {
      "text/plain": [
       "(4, 5, 5)"
      ]
     },
     "execution_count": 20,
     "metadata": {},
     "output_type": "execute_result"
    }
   ],
   "source": [
    "D.shape"
   ]
  },
  {
   "cell_type": "code",
   "execution_count": 21,
   "id": "3273ff4e",
   "metadata": {},
   "outputs": [
    {
     "data": {
      "text/plain": [
       "array([[[ 0,  1,  2,  3,  4],\n",
       "        [ 5,  6,  7,  8,  9],\n",
       "        [10, 11, 12, 13, 14],\n",
       "        [15, 16, 17, 18, 19],\n",
       "        [20, 21, 22, 23, 24]],\n",
       "\n",
       "       [[25, 26, 27, 28, 29],\n",
       "        [30, 31, 32, 33, 34],\n",
       "        [35, 36, 37, 38, 39],\n",
       "        [40, 41, 42, 43, 44],\n",
       "        [45, 46, 47, 48, 49]],\n",
       "\n",
       "       [[50, 51, 52, 53, 54],\n",
       "        [55, 56, 57, 58, 59],\n",
       "        [60, 61, 62, 63, 64],\n",
       "        [65, 66, 67, 68, 69],\n",
       "        [70, 71, 72, 73, 74]],\n",
       "\n",
       "       [[75, 76, 77, 78, 79],\n",
       "        [80, 81, 82, 83, 84],\n",
       "        [85, 86, 87, 88, 89],\n",
       "        [90, 91, 92, 93, 94],\n",
       "        [95, 96, 97, 98, 99]]])"
      ]
     },
     "execution_count": 21,
     "metadata": {},
     "output_type": "execute_result"
    }
   ],
   "source": [
    "D"
   ]
  },
  {
   "cell_type": "code",
   "execution_count": 99,
   "id": "5aa385e1",
   "metadata": {},
   "outputs": [],
   "source": [
    "np.zeros?"
   ]
  },
  {
   "cell_type": "code",
   "execution_count": 100,
   "id": "511457d3",
   "metadata": {},
   "outputs": [],
   "source": [
    "np.ones?"
   ]
  },
  {
   "cell_type": "markdown",
   "id": "07ff2873",
   "metadata": {},
   "source": [
    "### Numpy(Slicing)"
   ]
  },
  {
   "cell_type": "code",
   "execution_count": 101,
   "id": "b9a6945b",
   "metadata": {},
   "outputs": [],
   "source": [
    "A = np.arange(100)"
   ]
  },
  {
   "cell_type": "code",
   "execution_count": 102,
   "id": "d2295822",
   "metadata": {},
   "outputs": [
    {
     "name": "stdout",
     "output_type": "stream",
     "text": [
      "[3 4 5 6 7 8 9]\n"
     ]
    }
   ],
   "source": [
    "b = A[3:10]\n",
    "print(b)"
   ]
  },
  {
   "cell_type": "code",
   "execution_count": 103,
   "id": "628892ff",
   "metadata": {},
   "outputs": [],
   "source": [
    "b[0] = -1200"
   ]
  },
  {
   "cell_type": "code",
   "execution_count": 105,
   "id": "07009a69",
   "metadata": {},
   "outputs": [
    {
     "data": {
      "text/plain": [
       "array([-1200,     4,     5,     6,     7,     8,     9])"
      ]
     },
     "execution_count": 105,
     "metadata": {},
     "output_type": "execute_result"
    }
   ],
   "source": [
    "b   # Numpy array are mutable"
   ]
  },
  {
   "cell_type": "code",
   "execution_count": 106,
   "id": "2c58edd8",
   "metadata": {},
   "outputs": [
    {
     "data": {
      "text/plain": [
       "array([    0,     1,     2, -1200,     4,     5,     6,     7,     8,\n",
       "           9,    10,    11,    12,    13,    14,    15,    16,    17,\n",
       "          18,    19,    20,    21,    22,    23,    24,    25,    26,\n",
       "          27,    28,    29,    30,    31,    32,    33,    34,    35,\n",
       "          36,    37,    38,    39,    40,    41,    42,    43,    44,\n",
       "          45,    46,    47,    48,    49,    50,    51,    52,    53,\n",
       "          54,    55,    56,    57,    58,    59,    60,    61,    62,\n",
       "          63,    64,    65,    66,    67,    68,    69,    70,    71,\n",
       "          72,    73,    74,    75,    76,    77,    78,    79,    80,\n",
       "          81,    82,    83,    84,    85,    86,    87,    88,    89,\n",
       "          90,    91,    92,    93,    94,    95,    96,    97,    98,\n",
       "          99])"
      ]
     },
     "execution_count": 106,
     "metadata": {},
     "output_type": "execute_result"
    }
   ],
   "source": [
    "A"
   ]
  },
  {
   "cell_type": "markdown",
   "id": "e1a94f4b",
   "metadata": {},
   "source": [
    "The contents of A has also been changed. So it is the diffrence between an ordinary data structure i.e a List and \n",
    "NumPy array. So if dont want this, we have to the copy function also, shown below."
   ]
  },
  {
   "cell_type": "code",
   "execution_count": 108,
   "id": "3b29b142",
   "metadata": {},
   "outputs": [],
   "source": [
    "b = A[3:10].copy()   # Now A and B refers to two diffrent arrays"
   ]
  },
  {
   "cell_type": "code",
   "execution_count": 109,
   "id": "ea39e514",
   "metadata": {},
   "outputs": [
    {
     "data": {
      "text/plain": [
       "array([ 0,  5, 10, 15, 20, 25, 30, 35, 40, 45, 50, 55, 60, 65, 70, 75, 80,\n",
       "       85, 90, 95])"
      ]
     },
     "execution_count": 109,
     "metadata": {},
     "output_type": "execute_result"
    }
   ],
   "source": [
    "A[::5]   "
   ]
  },
  {
   "cell_type": "code",
   "execution_count": 110,
   "id": "aebeeb62",
   "metadata": {},
   "outputs": [
    {
     "data": {
      "text/plain": [
       "array([99, 94, 89, 84, 79, 74, 69, 64, 59, 54, 49, 44, 39, 34, 29, 24, 19,\n",
       "       14,  9,  4])"
      ]
     },
     "execution_count": 110,
     "metadata": {},
     "output_type": "execute_result"
    }
   ],
   "source": [
    "A[::-5]"
   ]
  },
  {
   "cell_type": "code",
   "execution_count": 111,
   "id": "6422f4e4",
   "metadata": {
    "scrolled": true
   },
   "outputs": [
    {
     "data": {
      "text/plain": [
       "array([   99,    98,    97,    96,    95,    94,    93,    92,    91,\n",
       "          90,    89,    88,    87,    86,    85,    84,    83,    82,\n",
       "          81,    80,    79,    78,    77,    76,    75,    74,    73,\n",
       "          72,    71,    70,    69,    68,    67,    66,    65,    64,\n",
       "          63,    62,    61,    60,    59,    58,    57,    56,    55,\n",
       "          54,    53,    52,    51,    50,    49,    48,    47,    46,\n",
       "          45,    44,    43,    42,    41,    40,    39,    38,    37,\n",
       "          36,    35,    34,    33,    32,    31,    30,    29,    28,\n",
       "          27,    26,    25,    24,    23,    22,    21,    20,    19,\n",
       "          18,    17,    16,    15,    14,    13,    12,    11,    10,\n",
       "           9,     8,     7,     6,     5,     4, -1200,     2,     1,\n",
       "           0])"
      ]
     },
     "execution_count": 111,
     "metadata": {},
     "output_type": "execute_result"
    }
   ],
   "source": [
    "A[::-1]"
   ]
  },
  {
   "cell_type": "code",
   "execution_count": 114,
   "id": "94c13caa",
   "metadata": {},
   "outputs": [],
   "source": [
    "idx = np.argwhere(A==-1200)[0][0]         # to find out the index of an element present in an array"
   ]
  },
  {
   "cell_type": "code",
   "execution_count": 115,
   "id": "54a10090",
   "metadata": {},
   "outputs": [
    {
     "data": {
      "text/plain": [
       "3"
      ]
     },
     "execution_count": 115,
     "metadata": {},
     "output_type": "execute_result"
    }
   ],
   "source": [
    "idx"
   ]
  },
  {
   "cell_type": "code",
   "execution_count": 116,
   "id": "ce222a18",
   "metadata": {},
   "outputs": [],
   "source": [
    "A[idx] = 3"
   ]
  },
  {
   "cell_type": "code",
   "execution_count": 117,
   "id": "4ca35c45",
   "metadata": {},
   "outputs": [
    {
     "data": {
      "text/plain": [
       "array([ 0,  1,  2,  3,  4,  5,  6,  7,  8,  9, 10, 11, 12, 13, 14, 15, 16,\n",
       "       17, 18, 19, 20, 21, 22, 23, 24, 25, 26, 27, 28, 29, 30, 31, 32, 33,\n",
       "       34, 35, 36, 37, 38, 39, 40, 41, 42, 43, 44, 45, 46, 47, 48, 49, 50,\n",
       "       51, 52, 53, 54, 55, 56, 57, 58, 59, 60, 61, 62, 63, 64, 65, 66, 67,\n",
       "       68, 69, 70, 71, 72, 73, 74, 75, 76, 77, 78, 79, 80, 81, 82, 83, 84,\n",
       "       85, 86, 87, 88, 89, 90, 91, 92, 93, 94, 95, 96, 97, 98, 99])"
      ]
     },
     "execution_count": 117,
     "metadata": {},
     "output_type": "execute_result"
    }
   ],
   "source": [
    "A"
   ]
  },
  {
   "cell_type": "code",
   "execution_count": 120,
   "id": "53780f2e",
   "metadata": {},
   "outputs": [],
   "source": [
    "A = np.round(10*np.random.rand(5,4))"
   ]
  },
  {
   "cell_type": "code",
   "execution_count": 121,
   "id": "d8ee2288",
   "metadata": {},
   "outputs": [
    {
     "data": {
      "text/plain": [
       "array([[ 4., 10.,  1.,  9.],\n",
       "       [ 3.,  8.,  9.,  5.],\n",
       "       [ 0.,  0.,  3.,  8.],\n",
       "       [ 1.,  2.,  4.,  6.],\n",
       "       [ 1.,  4.,  1.,  0.]])"
      ]
     },
     "execution_count": 121,
     "metadata": {},
     "output_type": "execute_result"
    }
   ],
   "source": [
    "A"
   ]
  },
  {
   "cell_type": "code",
   "execution_count": 122,
   "id": "57c76245",
   "metadata": {},
   "outputs": [
    {
     "data": {
      "text/plain": [
       "9.0"
      ]
     },
     "execution_count": 122,
     "metadata": {},
     "output_type": "execute_result"
    }
   ],
   "source": [
    "A[1,2]"
   ]
  },
  {
   "cell_type": "code",
   "execution_count": 124,
   "id": "92be957d",
   "metadata": {},
   "outputs": [
    {
     "data": {
      "text/plain": [
       "array([3., 8., 9., 5.])"
      ]
     },
     "execution_count": 124,
     "metadata": {},
     "output_type": "execute_result"
    }
   ],
   "source": [
    "A[1,:]      # access the whole 2nd row"
   ]
  },
  {
   "cell_type": "code",
   "execution_count": 126,
   "id": "23d51523",
   "metadata": {},
   "outputs": [
    {
     "data": {
      "text/plain": [
       "array([10.,  8.,  0.,  2.,  4.])"
      ]
     },
     "execution_count": 126,
     "metadata": {},
     "output_type": "execute_result"
    }
   ],
   "source": [
    "A[:,1]         # access the whole 2nd column"
   ]
  },
  {
   "cell_type": "code",
   "execution_count": 129,
   "id": "aaacf18d",
   "metadata": {},
   "outputs": [
    {
     "data": {
      "text/plain": [
       "array([[9., 5.],\n",
       "       [3., 8.]])"
      ]
     },
     "execution_count": 129,
     "metadata": {},
     "output_type": "execute_result"
    }
   ],
   "source": [
    "A[1:3,2:4]      # Pick the submatrix"
   ]
  },
  {
   "cell_type": "code",
   "execution_count": 130,
   "id": "69699822",
   "metadata": {},
   "outputs": [
    {
     "data": {
      "text/plain": [
       "array([[ 4.,  3.,  0.,  1.,  1.],\n",
       "       [10.,  8.,  0.,  2.,  4.],\n",
       "       [ 1.,  9.,  3.,  4.,  1.],\n",
       "       [ 9.,  5.,  8.,  6.,  0.]])"
      ]
     },
     "execution_count": 130,
     "metadata": {},
     "output_type": "execute_result"
    }
   ],
   "source": [
    "A.T            # take the transpose of matrix A"
   ]
  },
  {
   "cell_type": "code",
   "execution_count": 131,
   "id": "5aa24f15",
   "metadata": {},
   "outputs": [],
   "source": [
    "import numpy.linalg as la"
   ]
  },
  {
   "cell_type": "code",
   "execution_count": 132,
   "id": "0778f4cb",
   "metadata": {},
   "outputs": [
    {
     "data": {
      "text/plain": [
       "array([[-0.46861778, -0.12921048,  1.29340323],\n",
       "       [ 1.2755882 , -0.32853947,  0.2178329 ],\n",
       "       [ 0.36130621,  1.32979979, -1.2983503 ]])"
      ]
     },
     "execution_count": 132,
     "metadata": {},
     "output_type": "execute_result"
    }
   ],
   "source": [
    "la.inv(np.random.rand(3,3))"
   ]
  },
  {
   "cell_type": "code",
   "execution_count": 133,
   "id": "abe88bab",
   "metadata": {},
   "outputs": [
    {
     "data": {
      "text/plain": [
       "array([[ 4., 10.,  1.,  9.],\n",
       "       [ 3.,  8.,  9.,  5.],\n",
       "       [ 0.,  0.,  3.,  8.],\n",
       "       [ 1.,  2.,  4.,  6.],\n",
       "       [ 1.,  4.,  1.,  0.]])"
      ]
     },
     "execution_count": 133,
     "metadata": {},
     "output_type": "execute_result"
    }
   ],
   "source": [
    "A"
   ]
  },
  {
   "cell_type": "code",
   "execution_count": 136,
   "id": "24d729d2",
   "metadata": {},
   "outputs": [],
   "source": [
    "A.sort(axis=0)     # sort all columns individually"
   ]
  },
  {
   "cell_type": "code",
   "execution_count": 137,
   "id": "8bce5f89",
   "metadata": {},
   "outputs": [
    {
     "data": {
      "text/plain": [
       "array([[ 0.,  0.,  0.,  1.],\n",
       "       [ 1.,  1.,  2.,  5.],\n",
       "       [ 1.,  3.,  4.,  6.],\n",
       "       [ 3.,  4.,  8.,  8.],\n",
       "       [ 4.,  9.,  9., 10.]])"
      ]
     },
     "execution_count": 137,
     "metadata": {},
     "output_type": "execute_result"
    }
   ],
   "source": [
    "A"
   ]
  },
  {
   "cell_type": "code",
   "execution_count": 138,
   "id": "effaf58d",
   "metadata": {},
   "outputs": [],
   "source": [
    "A.sort(axis=1)     # every row will be sorted individually"
   ]
  },
  {
   "cell_type": "code",
   "execution_count": 139,
   "id": "100dab53",
   "metadata": {},
   "outputs": [
    {
     "data": {
      "text/plain": [
       "array([[ 0.,  0.,  0.,  1.],\n",
       "       [ 1.,  1.,  2.,  5.],\n",
       "       [ 1.,  3.,  4.,  6.],\n",
       "       [ 3.,  4.,  8.,  8.],\n",
       "       [ 4.,  9.,  9., 10.]])"
      ]
     },
     "execution_count": 139,
     "metadata": {},
     "output_type": "execute_result"
    }
   ],
   "source": [
    "A"
   ]
  },
  {
   "cell_type": "markdown",
   "id": "9e5a4f6a",
   "metadata": {},
   "source": [
    "In Slicing in Numpy, it points to the same array of elements (view) but in Masking i.e array index it makes a copy of the \n",
    "array"
   ]
  },
  {
   "cell_type": "code",
   "execution_count": 2,
   "id": "44767aa5",
   "metadata": {},
   "outputs": [],
   "source": [
    "import numpy as np"
   ]
  },
  {
   "cell_type": "code",
   "execution_count": 3,
   "id": "3e8adaf5",
   "metadata": {},
   "outputs": [],
   "source": [
    "A = np.arange(100)"
   ]
  },
  {
   "cell_type": "code",
   "execution_count": 4,
   "id": "0a4bf824",
   "metadata": {},
   "outputs": [],
   "source": [
    "B = A[[3,5,6]]"
   ]
  },
  {
   "cell_type": "code",
   "execution_count": 5,
   "id": "9f2666bf",
   "metadata": {},
   "outputs": [
    {
     "data": {
      "text/plain": [
       "array([3, 5, 6])"
      ]
     },
     "execution_count": 5,
     "metadata": {},
     "output_type": "execute_result"
    }
   ],
   "source": [
    "B"
   ]
  },
  {
   "cell_type": "code",
   "execution_count": 6,
   "id": "b06683b8",
   "metadata": {},
   "outputs": [],
   "source": [
    "B[0] = -4     # This change will happen in B but not in A because it makes a copy of A "
   ]
  },
  {
   "cell_type": "code",
   "execution_count": 7,
   "id": "14e99938",
   "metadata": {},
   "outputs": [
    {
     "data": {
      "text/plain": [
       "array([-4,  5,  6])"
      ]
     },
     "execution_count": 7,
     "metadata": {},
     "output_type": "execute_result"
    }
   ],
   "source": [
    "B"
   ]
  },
  {
   "cell_type": "code",
   "execution_count": 8,
   "id": "ee1456bc",
   "metadata": {},
   "outputs": [
    {
     "data": {
      "text/plain": [
       "array([ 0,  1,  2,  3,  4,  5,  6,  7,  8,  9, 10, 11, 12, 13, 14, 15, 16,\n",
       "       17, 18, 19, 20, 21, 22, 23, 24, 25, 26, 27, 28, 29, 30, 31, 32, 33,\n",
       "       34, 35, 36, 37, 38, 39, 40, 41, 42, 43, 44, 45, 46, 47, 48, 49, 50,\n",
       "       51, 52, 53, 54, 55, 56, 57, 58, 59, 60, 61, 62, 63, 64, 65, 66, 67,\n",
       "       68, 69, 70, 71, 72, 73, 74, 75, 76, 77, 78, 79, 80, 81, 82, 83, 84,\n",
       "       85, 86, 87, 88, 89, 90, 91, 92, 93, 94, 95, 96, 97, 98, 99])"
      ]
     },
     "execution_count": 8,
     "metadata": {},
     "output_type": "execute_result"
    }
   ],
   "source": [
    "A"
   ]
  },
  {
   "cell_type": "code",
   "execution_count": 9,
   "id": "7c7184a6",
   "metadata": {},
   "outputs": [],
   "source": [
    "B = A[A<40]"
   ]
  },
  {
   "cell_type": "code",
   "execution_count": 10,
   "id": "29b96988",
   "metadata": {},
   "outputs": [
    {
     "data": {
      "text/plain": [
       "array([ 0,  1,  2,  3,  4,  5,  6,  7,  8,  9, 10, 11, 12, 13, 14, 15, 16,\n",
       "       17, 18, 19, 20, 21, 22, 23, 24, 25, 26, 27, 28, 29, 30, 31, 32, 33,\n",
       "       34, 35, 36, 37, 38, 39])"
      ]
     },
     "execution_count": 10,
     "metadata": {},
     "output_type": "execute_result"
    }
   ],
   "source": [
    "B"
   ]
  },
  {
   "cell_type": "code",
   "execution_count": 12,
   "id": "66864c80",
   "metadata": {},
   "outputs": [],
   "source": [
    "B = A[(A<40) & (A>30)]    # always use these kind of brackets for these comparison operators"
   ]
  },
  {
   "cell_type": "code",
   "execution_count": 13,
   "id": "34f84467",
   "metadata": {},
   "outputs": [
    {
     "data": {
      "text/plain": [
       "array([31, 32, 33, 34, 35, 36, 37, 38, 39])"
      ]
     },
     "execution_count": 13,
     "metadata": {},
     "output_type": "execute_result"
    }
   ],
   "source": [
    "B"
   ]
  },
  {
   "cell_type": "markdown",
   "id": "a5c8e2fd",
   "metadata": {},
   "source": [
    "and ---> this operator is used when both of the sides of this is 1 object and is True/False\n",
    "\n",
    "&   ---> this operator is used when the left side and right side can be arrays and each element of array can be True/False"
   ]
  },
  {
   "cell_type": "code",
   "execution_count": 14,
   "id": "2cd18a9b",
   "metadata": {},
   "outputs": [],
   "source": [
    "# & , and\n",
    "# | , or                   The left ones are used for arrays and right ones for single objects that has True/False values\n",
    "# ~ , not       "
   ]
  },
  {
   "cell_type": "markdown",
   "id": "1572442d",
   "metadata": {},
   "source": [
    "### Numpy (Broadcasting, Horizontal Stacking, Vertical Stacking)"
   ]
  },
  {
   "cell_type": "code",
   "execution_count": 16,
   "id": "c697c033",
   "metadata": {},
   "outputs": [],
   "source": [
    "A = np.round(10*np.random.rand(2,3))"
   ]
  },
  {
   "cell_type": "code",
   "execution_count": 17,
   "id": "b66b8d37",
   "metadata": {},
   "outputs": [
    {
     "data": {
      "text/plain": [
       "array([[ 9., 10.,  3.],\n",
       "       [ 0.,  9., 10.]])"
      ]
     },
     "execution_count": 17,
     "metadata": {},
     "output_type": "execute_result"
    }
   ],
   "source": [
    "A"
   ]
  },
  {
   "cell_type": "code",
   "execution_count": 18,
   "id": "ffac06b0",
   "metadata": {},
   "outputs": [
    {
     "data": {
      "text/plain": [
       "array([[12., 13.,  6.],\n",
       "       [ 3., 12., 13.]])"
      ]
     },
     "execution_count": 18,
     "metadata": {},
     "output_type": "execute_result"
    }
   ],
   "source": [
    "A + 3     #Broadcasting"
   ]
  },
  {
   "cell_type": "code",
   "execution_count": 22,
   "id": "d6c2ce1c",
   "metadata": {},
   "outputs": [
    {
     "data": {
      "text/plain": [
       "array([[ 9., 10.,  3.],\n",
       "       [ 1., 10., 11.]])"
      ]
     },
     "execution_count": 22,
     "metadata": {},
     "output_type": "execute_result"
    }
   ],
   "source": [
    "A + np.arange(2).reshape(2,1)"
   ]
  },
  {
   "cell_type": "code",
   "execution_count": 23,
   "id": "061cbc93",
   "metadata": {},
   "outputs": [
    {
     "data": {
      "text/plain": [
       "array([[ 9., 10.,  3.],\n",
       "       [ 0.,  9., 10.]])"
      ]
     },
     "execution_count": 23,
     "metadata": {},
     "output_type": "execute_result"
    }
   ],
   "source": [
    "A "
   ]
  },
  {
   "cell_type": "code",
   "execution_count": 24,
   "id": "24a94cf8",
   "metadata": {},
   "outputs": [],
   "source": [
    "B = np.round(10*np.random.rand(2,2))"
   ]
  },
  {
   "cell_type": "code",
   "execution_count": 25,
   "id": "87771814",
   "metadata": {},
   "outputs": [
    {
     "data": {
      "text/plain": [
       "array([[1., 5.],\n",
       "       [5., 7.]])"
      ]
     },
     "execution_count": 25,
     "metadata": {},
     "output_type": "execute_result"
    }
   ],
   "source": [
    "B"
   ]
  },
  {
   "cell_type": "code",
   "execution_count": 27,
   "id": "8f4e882f",
   "metadata": {},
   "outputs": [],
   "source": [
    "C = np.hstack((A,B))      # to concatenate using hstack i.e horizontal stack we have to give the matrices in a tuple"
   ]
  },
  {
   "cell_type": "code",
   "execution_count": 28,
   "id": "ac6f4c9c",
   "metadata": {},
   "outputs": [
    {
     "data": {
      "text/plain": [
       "array([[ 9., 10.,  3.,  1.,  5.],\n",
       "       [ 0.,  9., 10.,  5.,  7.]])"
      ]
     },
     "execution_count": 28,
     "metadata": {},
     "output_type": "execute_result"
    }
   ],
   "source": [
    "C"
   ]
  },
  {
   "cell_type": "code",
   "execution_count": 32,
   "id": "cd731b7c",
   "metadata": {},
   "outputs": [],
   "source": [
    "D = np.round(10*np.random.rand(3,3))    "
   ]
  },
  {
   "cell_type": "code",
   "execution_count": 33,
   "id": "f7cb2caf",
   "metadata": {},
   "outputs": [
    {
     "data": {
      "text/plain": [
       "array([[10.,  3.,  5.],\n",
       "       [ 2., 10.,  9.],\n",
       "       [ 9.,  4.,  7.]])"
      ]
     },
     "execution_count": 33,
     "metadata": {},
     "output_type": "execute_result"
    }
   ],
   "source": [
    "D"
   ]
  },
  {
   "cell_type": "code",
   "execution_count": 35,
   "id": "1c2e321d",
   "metadata": {},
   "outputs": [],
   "source": [
    "E = np.vstack((A,D))   # vertical stack"
   ]
  },
  {
   "cell_type": "code",
   "execution_count": 36,
   "id": "f61b170e",
   "metadata": {},
   "outputs": [
    {
     "data": {
      "text/plain": [
       "array([[ 9., 10.,  3.],\n",
       "       [ 0.,  9., 10.],\n",
       "       [10.,  3.,  5.],\n",
       "       [ 2., 10.,  9.],\n",
       "       [ 9.,  4.,  7.]])"
      ]
     },
     "execution_count": 36,
     "metadata": {},
     "output_type": "execute_result"
    }
   ],
   "source": [
    "E"
   ]
  },
  {
   "cell_type": "code",
   "execution_count": 37,
   "id": "2916ca39",
   "metadata": {},
   "outputs": [],
   "source": [
    "A = np.random.permutation(np.arange(10))"
   ]
  },
  {
   "cell_type": "code",
   "execution_count": 38,
   "id": "274f9053",
   "metadata": {},
   "outputs": [
    {
     "data": {
      "text/plain": [
       "array([8, 0, 2, 1, 6, 9, 4, 3, 7, 5])"
      ]
     },
     "execution_count": 38,
     "metadata": {},
     "output_type": "execute_result"
    }
   ],
   "source": [
    "A"
   ]
  },
  {
   "cell_type": "code",
   "execution_count": 39,
   "id": "623a9386",
   "metadata": {},
   "outputs": [],
   "source": [
    "A.sort()"
   ]
  },
  {
   "cell_type": "code",
   "execution_count": 40,
   "id": "d8e4828c",
   "metadata": {},
   "outputs": [
    {
     "data": {
      "text/plain": [
       "array([0, 1, 2, 3, 4, 5, 6, 7, 8, 9])"
      ]
     },
     "execution_count": 40,
     "metadata": {},
     "output_type": "execute_result"
    }
   ],
   "source": [
    "A"
   ]
  },
  {
   "cell_type": "code",
   "execution_count": 41,
   "id": "2304bb88",
   "metadata": {},
   "outputs": [
    {
     "data": {
      "text/plain": [
       "array([0, 1, 2, 3, 4, 5, 6, 7, 8, 9])"
      ]
     },
     "execution_count": 41,
     "metadata": {},
     "output_type": "execute_result"
    }
   ],
   "source": [
    "np.sort(A)"
   ]
  },
  {
   "cell_type": "code",
   "execution_count": 43,
   "id": "ac8cb139",
   "metadata": {},
   "outputs": [
    {
     "data": {
      "text/plain": [
       "array([0, 1, 2, 3, 4, 5, 6, 7, 8, 9])"
      ]
     },
     "execution_count": 43,
     "metadata": {},
     "output_type": "execute_result"
    }
   ],
   "source": [
    "np.sort(A)"
   ]
  },
  {
   "cell_type": "code",
   "execution_count": 45,
   "id": "3a676fd5",
   "metadata": {},
   "outputs": [],
   "source": [
    "A = A[::-1]"
   ]
  },
  {
   "cell_type": "code",
   "execution_count": 46,
   "id": "2e5506e0",
   "metadata": {},
   "outputs": [
    {
     "data": {
      "text/plain": [
       "array([9, 8, 7, 6, 5, 4, 3, 2, 1, 0])"
      ]
     },
     "execution_count": 46,
     "metadata": {},
     "output_type": "execute_result"
    }
   ],
   "source": [
    "A"
   ]
  },
  {
   "cell_type": "markdown",
   "id": "a991099d",
   "metadata": {},
   "source": [
    "The NumPy universal functions like hstack,vstack,sort etc. are very fast. So it is highly recommendable to use them."
   ]
  },
  {
   "cell_type": "code",
   "execution_count": 47,
   "id": "5868d7b2",
   "metadata": {},
   "outputs": [],
   "source": [
    "A = np.array([\"abc\",'how are you','u765','13er'])"
   ]
  },
  {
   "cell_type": "code",
   "execution_count": 48,
   "id": "2e626cbf",
   "metadata": {},
   "outputs": [],
   "source": [
    "A.sort()     # this will sort the strings in alphabetic order"
   ]
  },
  {
   "cell_type": "code",
   "execution_count": 49,
   "id": "b879d660",
   "metadata": {},
   "outputs": [
    {
     "data": {
      "text/plain": [
       "array(['13er', 'abc', 'how are you', 'u765'], dtype='<U11')"
      ]
     },
     "execution_count": 49,
     "metadata": {},
     "output_type": "execute_result"
    }
   ],
   "source": [
    "A"
   ]
  },
  {
   "cell_type": "markdown",
   "id": "25cbfeec",
   "metadata": {},
   "source": [
    "Element to element multiplication also can be done using numpy unlike Lists"
   ]
  },
  {
   "cell_type": "code",
   "execution_count": 53,
   "id": "8c727a34",
   "metadata": {},
   "outputs": [
    {
     "ename": "TypeError",
     "evalue": "can't multiply sequence by non-int of type 'list'",
     "output_type": "error",
     "traceback": [
      "\u001b[1;31m---------------------------------------------------------------------------\u001b[0m",
      "\u001b[1;31mTypeError\u001b[0m                                 Traceback (most recent call last)",
      "\u001b[1;32mC:\\Users\\TK3ED7~1.DAS\\AppData\\Local\\Temp/ipykernel_6244/2120280294.py\u001b[0m in \u001b[0;36m<module>\u001b[1;34m\u001b[0m\n\u001b[0;32m      1\u001b[0m \u001b[0ma\u001b[0m \u001b[1;33m=\u001b[0m \u001b[1;33m[\u001b[0m\u001b[1;36m1\u001b[0m\u001b[1;33m,\u001b[0m\u001b[1;36m3\u001b[0m\u001b[1;33m,\u001b[0m\u001b[1;36m5\u001b[0m\u001b[1;33m]\u001b[0m\u001b[1;33m\u001b[0m\u001b[1;33m\u001b[0m\u001b[0m\n\u001b[0;32m      2\u001b[0m \u001b[0mb\u001b[0m \u001b[1;33m=\u001b[0m \u001b[1;33m[\u001b[0m\u001b[1;36m1\u001b[0m\u001b[1;33m,\u001b[0m\u001b[1;36m4\u001b[0m\u001b[1;33m,\u001b[0m\u001b[1;36m7\u001b[0m\u001b[1;33m]\u001b[0m\u001b[1;33m\u001b[0m\u001b[1;33m\u001b[0m\u001b[0m\n\u001b[1;32m----> 3\u001b[1;33m \u001b[0mc\u001b[0m \u001b[1;33m=\u001b[0m \u001b[0ma\u001b[0m\u001b[1;33m*\u001b[0m\u001b[0mb\u001b[0m\u001b[1;33m\u001b[0m\u001b[1;33m\u001b[0m\u001b[0m\n\u001b[0m\u001b[0;32m      4\u001b[0m \u001b[0mprint\u001b[0m\u001b[1;33m(\u001b[0m\u001b[0mc\u001b[0m\u001b[1;33m)\u001b[0m\u001b[1;33m\u001b[0m\u001b[1;33m\u001b[0m\u001b[0m\n",
      "\u001b[1;31mTypeError\u001b[0m: can't multiply sequence by non-int of type 'list'"
     ]
    }
   ],
   "source": [
    "a = [1,3,5]\n",
    "b = [1,4,7]\n",
    "c = a*b\n",
    "print(c)"
   ]
  },
  {
   "cell_type": "code",
   "execution_count": 54,
   "id": "d15001df",
   "metadata": {},
   "outputs": [
    {
     "name": "stdout",
     "output_type": "stream",
     "text": [
      "[ 1 12 35]\n"
     ]
    }
   ],
   "source": [
    "a = np.array([1,3,5])\n",
    "b = np.array([1,4,7])\n",
    "c = a*b\n",
    "print(c)"
   ]
  },
  {
   "cell_type": "markdown",
   "id": "25bd3767",
   "metadata": {},
   "source": [
    "### Mathematics (Numpy)"
   ]
  },
  {
   "cell_type": "code",
   "execution_count": 1,
   "id": "18928c4c",
   "metadata": {},
   "outputs": [],
   "source": [
    "import numpy as np"
   ]
  },
  {
   "cell_type": "code",
   "execution_count": 2,
   "id": "c056cde0",
   "metadata": {},
   "outputs": [
    {
     "name": "stdout",
     "output_type": "stream",
     "text": [
      "[1 2 3 4]\n"
     ]
    }
   ],
   "source": [
    "a = np.array([1,2,3,4])\n",
    "print(a)"
   ]
  },
  {
   "cell_type": "code",
   "execution_count": 3,
   "id": "7f7e0cca",
   "metadata": {},
   "outputs": [
    {
     "data": {
      "text/plain": [
       "array([3, 4, 5, 6])"
      ]
     },
     "execution_count": 3,
     "metadata": {},
     "output_type": "execute_result"
    }
   ],
   "source": [
    "a + 2"
   ]
  },
  {
   "cell_type": "code",
   "execution_count": 4,
   "id": "e65dd690",
   "metadata": {},
   "outputs": [
    {
     "data": {
      "text/plain": [
       "array([-1,  0,  1,  2])"
      ]
     },
     "execution_count": 4,
     "metadata": {},
     "output_type": "execute_result"
    }
   ],
   "source": [
    "a - 2"
   ]
  },
  {
   "cell_type": "code",
   "execution_count": 5,
   "id": "add4cdc8",
   "metadata": {},
   "outputs": [
    {
     "data": {
      "text/plain": [
       "array([2, 4, 6, 8])"
      ]
     },
     "execution_count": 5,
     "metadata": {},
     "output_type": "execute_result"
    }
   ],
   "source": [
    "a * 2"
   ]
  },
  {
   "cell_type": "code",
   "execution_count": 6,
   "id": "0b24344b",
   "metadata": {},
   "outputs": [
    {
     "data": {
      "text/plain": [
       "array([0.5, 1. , 1.5, 2. ])"
      ]
     },
     "execution_count": 6,
     "metadata": {},
     "output_type": "execute_result"
    }
   ],
   "source": [
    "a / 2"
   ]
  },
  {
   "cell_type": "code",
   "execution_count": 7,
   "id": "c89a2008",
   "metadata": {},
   "outputs": [
    {
     "data": {
      "text/plain": [
       "array([2, 2, 4, 4])"
      ]
     },
     "execution_count": 7,
     "metadata": {},
     "output_type": "execute_result"
    }
   ],
   "source": [
    "b = np.array([1,0,1,0])\n",
    "a + b"
   ]
  },
  {
   "cell_type": "code",
   "execution_count": 8,
   "id": "5771e94d",
   "metadata": {},
   "outputs": [
    {
     "data": {
      "text/plain": [
       "array([ 1,  4,  9, 16], dtype=int32)"
      ]
     },
     "execution_count": 8,
     "metadata": {},
     "output_type": "execute_result"
    }
   ],
   "source": [
    "a ** 2"
   ]
  },
  {
   "cell_type": "code",
   "execution_count": 12,
   "id": "0996b21f",
   "metadata": {},
   "outputs": [
    {
     "data": {
      "text/plain": [
       "array([ 0.84147098,  0.90929743,  0.14112001, -0.7568025 ])"
      ]
     },
     "execution_count": 12,
     "metadata": {},
     "output_type": "execute_result"
    }
   ],
   "source": [
    "# Take the sinusoid/cosinusoid of all values\n",
    "np.sin(a)"
   ]
  },
  {
   "cell_type": "code",
   "execution_count": 13,
   "id": "5aed80d7",
   "metadata": {},
   "outputs": [
    {
     "data": {
      "text/plain": [
       "array([ 0.54030231, -0.41614684, -0.9899925 , -0.65364362])"
      ]
     },
     "execution_count": 13,
     "metadata": {},
     "output_type": "execute_result"
    }
   ],
   "source": [
    "np.cos(a)"
   ]
  },
  {
   "cell_type": "code",
   "execution_count": 14,
   "id": "092beea0",
   "metadata": {},
   "outputs": [],
   "source": [
    "# For a lot more (https://docs.scipy.org/doc/numpy/reference/routines.math.html)"
   ]
  },
  {
   "cell_type": "markdown",
   "id": "0995e550",
   "metadata": {},
   "source": [
    "### Numpy (Speed: Universal Functions)"
   ]
  },
  {
   "cell_type": "code",
   "execution_count": 50,
   "id": "eaf2fd87",
   "metadata": {},
   "outputs": [
    {
     "name": "stdout",
     "output_type": "stream",
     "text": [
      "109 ms ± 971 µs per loop (mean ± std. dev. of 7 runs, 10 loops each)\n",
      "1.25 ms ± 31.3 µs per loop (mean ± std. dev. of 7 runs, 1000 loops each)\n"
     ]
    }
   ],
   "source": [
    "B = np.random.rand(1000000)\n",
    "%timeit sum(B)      # %timeit will give the average time of the function\n",
    "%timeit np.sum(B)   # same as B.sum()"
   ]
  },
  {
   "cell_type": "markdown",
   "id": "19f0a194",
   "metadata": {},
   "source": [
    "This gives the clear idea that numpy universal function is very fast"
   ]
  },
  {
   "cell_type": "code",
   "execution_count": 51,
   "id": "d4106ad0",
   "metadata": {},
   "outputs": [],
   "source": [
    "def mySum(G): \n",
    "    s = 0 \n",
    "    for x in G: \n",
    "        s += x\n",
    "    return s"
   ]
  },
  {
   "cell_type": "code",
   "execution_count": 52,
   "id": "71c85398",
   "metadata": {},
   "outputs": [
    {
     "name": "stdout",
     "output_type": "stream",
     "text": [
      "143 ms ± 7.09 ms per loop (mean ± std. dev. of 7 runs, 1 loop each)\n"
     ]
    }
   ],
   "source": [
    "%timeit mySum(B)"
   ]
  },
  {
   "cell_type": "markdown",
   "id": "aebae00f",
   "metadata": {},
   "source": [
    "This takes almost the same time as the sum function and takes much more time than the numpy universal function"
   ]
  },
  {
   "cell_type": "markdown",
   "id": "bb8dfcf5",
   "metadata": {},
   "source": [
    "### Numpy (Linear Algebra)"
   ]
  },
  {
   "cell_type": "code",
   "execution_count": 58,
   "id": "4c29637c",
   "metadata": {},
   "outputs": [
    {
     "name": "stdout",
     "output_type": "stream",
     "text": [
      "[[1. 1. 1.]\n",
      " [1. 1. 1.]]\n",
      "[[2 2]\n",
      " [2 2]\n",
      " [2 2]]\n"
     ]
    },
    {
     "data": {
      "text/plain": [
       "array([[6., 6.],\n",
       "       [6., 6.]])"
      ]
     },
     "execution_count": 58,
     "metadata": {},
     "output_type": "execute_result"
    }
   ],
   "source": [
    "a = np.ones((2,3))   #create 2 by 3 matrix of all 1's\n",
    "print(a)\n",
    "\n",
    "b = np.full((3,2),2) # create 3 by 2 matrix of all 2's\n",
    "print(b)\n",
    "\n",
    "np.matmul(a,b)       # matrix multiplier function"
   ]
  },
  {
   "cell_type": "code",
   "execution_count": 59,
   "id": "ddb2f4d0",
   "metadata": {},
   "outputs": [
    {
     "data": {
      "text/plain": [
       "1.0"
      ]
     },
     "execution_count": 59,
     "metadata": {},
     "output_type": "execute_result"
    }
   ],
   "source": [
    "# Find determinant\n",
    "\n",
    "c = np.identity(3)\n",
    "np.linalg.det(c)"
   ]
  },
  {
   "cell_type": "markdown",
   "id": "09376e19",
   "metadata": {},
   "source": [
    "### Statistics (using Numpy)"
   ]
  },
  {
   "cell_type": "code",
   "execution_count": 16,
   "id": "4e2cd194",
   "metadata": {},
   "outputs": [
    {
     "data": {
      "text/plain": [
       "array([[1, 2, 3],\n",
       "       [4, 5, 6]])"
      ]
     },
     "execution_count": 16,
     "metadata": {},
     "output_type": "execute_result"
    }
   ],
   "source": [
    "stats = np.array([[1,2,3],[4,5,6]])\n",
    "stats"
   ]
  },
  {
   "cell_type": "code",
   "execution_count": 17,
   "id": "0860498d",
   "metadata": {},
   "outputs": [
    {
     "data": {
      "text/plain": [
       "1"
      ]
     },
     "execution_count": 17,
     "metadata": {},
     "output_type": "execute_result"
    }
   ],
   "source": [
    "np.min(stats)"
   ]
  },
  {
   "cell_type": "code",
   "execution_count": 18,
   "id": "67e4cfa8",
   "metadata": {},
   "outputs": [
    {
     "data": {
      "text/plain": [
       "6"
      ]
     },
     "execution_count": 18,
     "metadata": {},
     "output_type": "execute_result"
    }
   ],
   "source": [
    "np.max(stats)"
   ]
  },
  {
   "cell_type": "code",
   "execution_count": 19,
   "id": "54769fcd",
   "metadata": {},
   "outputs": [
    {
     "data": {
      "text/plain": [
       "array([3, 6])"
      ]
     },
     "execution_count": 19,
     "metadata": {},
     "output_type": "execute_result"
    }
   ],
   "source": [
    "np.max(stats, axis=1)     # to find biggest value from both the arrays(rows here)"
   ]
  },
  {
   "cell_type": "code",
   "execution_count": 20,
   "id": "298a96e8",
   "metadata": {},
   "outputs": [
    {
     "data": {
      "text/plain": [
       "21"
      ]
     },
     "execution_count": 20,
     "metadata": {},
     "output_type": "execute_result"
    }
   ],
   "source": [
    "np.sum(stats)  # sum of all the elements in the matrix"
   ]
  },
  {
   "cell_type": "code",
   "execution_count": 21,
   "id": "04d82428",
   "metadata": {},
   "outputs": [
    {
     "data": {
      "text/plain": [
       "array([5, 7, 9])"
      ]
     },
     "execution_count": 21,
     "metadata": {},
     "output_type": "execute_result"
    }
   ],
   "source": [
    "np.sum(stats,axis=0)   #sum of the elements in each of the columns"
   ]
  },
  {
   "cell_type": "code",
   "execution_count": 22,
   "id": "e10d2075",
   "metadata": {},
   "outputs": [
    {
     "data": {
      "text/plain": [
       "array([ 6, 15])"
      ]
     },
     "execution_count": 22,
     "metadata": {},
     "output_type": "execute_result"
    }
   ],
   "source": [
    "np.sum(stats,axis=1)   #sum of the elements in each of the rows"
   ]
  },
  {
   "cell_type": "markdown",
   "id": "a5d71ff0",
   "metadata": {},
   "source": [
    "### Reorganizing Arrays (Numpy)"
   ]
  },
  {
   "cell_type": "code",
   "execution_count": 25,
   "id": "b4b4dfff",
   "metadata": {},
   "outputs": [
    {
     "name": "stdout",
     "output_type": "stream",
     "text": [
      "[[1 2 3 4]\n",
      " [5 6 7 8]]\n",
      "[[1 2]\n",
      " [3 4]\n",
      " [5 6]\n",
      " [7 8]]\n"
     ]
    }
   ],
   "source": [
    "before = np.array([[1,2,3,4],[5,6,7,8]])\n",
    "print(before)\n",
    "\n",
    "after = before.reshape((4,2))         # the arrays can be reshaped to other dimensions until it's elements are reshapable\n",
    "print(after)"
   ]
  },
  {
   "cell_type": "markdown",
   "id": "a756cd79",
   "metadata": {},
   "source": [
    "## Miscellaneous (Numpy)"
   ]
  },
  {
   "cell_type": "markdown",
   "id": "74db6fff",
   "metadata": {},
   "source": [
    "### Load Data from File"
   ]
  },
  {
   "cell_type": "code",
   "execution_count": 40,
   "id": "762c6da0",
   "metadata": {},
   "outputs": [],
   "source": [
    "import numpy as np"
   ]
  },
  {
   "cell_type": "code",
   "execution_count": 67,
   "id": "12bba0d6",
   "metadata": {},
   "outputs": [
    {
     "name": "stdout",
     "output_type": "stream",
     "text": [
      "[[  1  13  21  11 196  75   4   3  34   6   7   8   0   1   2   3   4   5]\n",
      " [  3  42  12  33 766  75   4  55   6   4   3   4   5   6   7   0  11  12]\n",
      " [  1  22  33  11 999  11   2   1  78   0   1   2   9   8   7   1  76  88]]\n"
     ]
    }
   ],
   "source": [
    "# always give Full path not Relative path and prefix the string with r (to produce a raw string) otherwise it will give error\n",
    "\n",
    "filedata = np.genfromtxt(r\"C:\\Users\\T.K.DAS\\Documents\\data.txt\", delimiter=',') \n",
    "filedata = filedata.astype('int32')\n",
    "print(filedata)"
   ]
  },
  {
   "cell_type": "markdown",
   "id": "8aace0d6",
   "metadata": {},
   "source": [
    "### Boolean Masking and Advanced Indexing"
   ]
  },
  {
   "cell_type": "code",
   "execution_count": 63,
   "id": "4c059d6b",
   "metadata": {},
   "outputs": [
    {
     "data": {
      "text/plain": [
       "array([[False, False, False, False,  True,  True, False, False, False,\n",
       "        False, False, False, False, False, False, False, False, False],\n",
       "       [False, False, False, False,  True,  True, False,  True, False,\n",
       "        False, False, False, False, False, False, False, False, False],\n",
       "       [False, False, False, False,  True, False, False, False,  True,\n",
       "        False, False, False, False, False, False, False,  True,  True]])"
      ]
     },
     "execution_count": 63,
     "metadata": {},
     "output_type": "execute_result"
    }
   ],
   "source": [
    "filedata > 50    # Boolean Masking"
   ]
  },
  {
   "cell_type": "code",
   "execution_count": 65,
   "id": "c9f13e73",
   "metadata": {},
   "outputs": [
    {
     "data": {
      "text/plain": [
       "array([196.,  75., 766.,  75.,  55., 999.,  78.,  76.,  88.])"
      ]
     },
     "execution_count": 65,
     "metadata": {},
     "output_type": "execute_result"
    }
   ],
   "source": [
    "filedata[filedata > 50]    #Advanced Indexing"
   ]
  },
  {
   "cell_type": "code",
   "execution_count": 66,
   "id": "6c30f1d4",
   "metadata": {},
   "outputs": [
    {
     "data": {
      "text/plain": [
       "array([2, 3, 9])"
      ]
     },
     "execution_count": 66,
     "metadata": {},
     "output_type": "execute_result"
    }
   ],
   "source": [
    "## You can index with a List in Numpy\n",
    "a = np.array([1,2,3,4,5,6,7,8,9])\n",
    "a[[1,2,8]]"
   ]
  },
  {
   "cell_type": "code",
   "execution_count": 70,
   "id": "7d470d4c",
   "metadata": {},
   "outputs": [
    {
     "data": {
      "text/plain": [
       "array([False, False, False, False,  True,  True, False,  True,  True,\n",
       "       False, False, False, False, False, False, False,  True,  True])"
      ]
     },
     "execution_count": 70,
     "metadata": {},
     "output_type": "execute_result"
    }
   ],
   "source": [
    "np.any(filedata > 50, axis=0)"
   ]
  },
  {
   "cell_type": "code",
   "execution_count": 71,
   "id": "40235f67",
   "metadata": {},
   "outputs": [
    {
     "data": {
      "text/plain": [
       "array([False, False, False])"
      ]
     },
     "execution_count": 71,
     "metadata": {},
     "output_type": "execute_result"
    }
   ],
   "source": [
    "np.all(filedata > 50, axis=1)"
   ]
  },
  {
   "cell_type": "code",
   "execution_count": 74,
   "id": "0374672e",
   "metadata": {},
   "outputs": [
    {
     "data": {
      "text/plain": [
       "array([[False, False, False, False, False,  True, False, False, False,\n",
       "        False, False, False, False, False, False, False, False, False],\n",
       "       [False, False, False, False, False,  True, False,  True, False,\n",
       "        False, False, False, False, False, False, False, False, False],\n",
       "       [False, False, False, False, False, False, False, False,  True,\n",
       "        False, False, False, False, False, False, False,  True,  True]])"
      ]
     },
     "execution_count": 74,
     "metadata": {},
     "output_type": "execute_result"
    }
   ],
   "source": [
    "((filedata > 50) & (filedata < 100))"
   ]
  },
  {
   "cell_type": "markdown",
   "id": "b701bbab",
   "metadata": {},
   "source": [
    "## Do the quiz from the video"
   ]
  },
  {
   "cell_type": "code",
   "execution_count": null,
   "id": "54088384",
   "metadata": {},
   "outputs": [],
   "source": []
  },
  {
   "cell_type": "markdown",
   "id": "8b2ae011",
   "metadata": {},
   "source": [
    "# Pandas"
   ]
  },
  {
   "cell_type": "markdown",
   "id": "1c25c13c",
   "metadata": {},
   "source": [
    "It is a data science package that is very powerful in handling data, manipulating data -- used a lot in data wrangling(dat munging- transforming and mapping data into raw to another format), data cleaning and data preprocessing etc.\n",
    "\n",
    "This has been built on top of Numpy, so most of the features of Numpy are also available in Pandas. Also, large amounts of data can be processed using Pandas from csv, excel files.\n",
    "\n",
    "There are two most important objects of Pandas ---> Series and Dataframe\n",
    "\n",
    "\n",
    "import pandas as pd"
   ]
  },
  {
   "cell_type": "code",
   "execution_count": 75,
   "id": "0109949c",
   "metadata": {},
   "outputs": [],
   "source": [
    "import pandas as pd"
   ]
  },
  {
   "cell_type": "code",
   "execution_count": 77,
   "id": "8b9995c4",
   "metadata": {},
   "outputs": [
    {
     "name": "stdout",
     "output_type": "stream",
     "text": [
      "1.3.4\n"
     ]
    }
   ],
   "source": [
    "print(pd.__version__)"
   ]
  },
  {
   "cell_type": "markdown",
   "id": "29d592a1",
   "metadata": {},
   "source": [
    "### Pandas ( Series)"
   ]
  },
  {
   "cell_type": "code",
   "execution_count": 87,
   "id": "150dad90",
   "metadata": {},
   "outputs": [],
   "source": [
    "A = pd.Series([2,3,4,5],index=['a','b','c','d'])  # Series handles 1-D arrays. It works almost liske Dictionaries"
   ]
  },
  {
   "cell_type": "code",
   "execution_count": 88,
   "id": "6984abbc",
   "metadata": {},
   "outputs": [
    {
     "data": {
      "text/plain": [
       "array([2, 3, 4, 5], dtype=int64)"
      ]
     },
     "execution_count": 88,
     "metadata": {},
     "output_type": "execute_result"
    }
   ],
   "source": [
    "A.values"
   ]
  },
  {
   "cell_type": "code",
   "execution_count": 89,
   "id": "94d6b253",
   "metadata": {},
   "outputs": [
    {
     "data": {
      "text/plain": [
       "numpy.ndarray"
      ]
     },
     "execution_count": 89,
     "metadata": {},
     "output_type": "execute_result"
    }
   ],
   "source": [
    "type(A.values)    # numpy array"
   ]
  },
  {
   "cell_type": "code",
   "execution_count": 90,
   "id": "1f216eb8",
   "metadata": {},
   "outputs": [
    {
     "data": {
      "text/plain": [
       "pandas.core.series.Series"
      ]
     },
     "execution_count": 90,
     "metadata": {},
     "output_type": "execute_result"
    }
   ],
   "source": [
    "type(A)          # pandas array"
   ]
  },
  {
   "cell_type": "code",
   "execution_count": 91,
   "id": "12786a2e",
   "metadata": {},
   "outputs": [
    {
     "data": {
      "text/plain": [
       "Index(['a', 'b', 'c', 'd'], dtype='object')"
      ]
     },
     "execution_count": 91,
     "metadata": {},
     "output_type": "execute_result"
    }
   ],
   "source": [
    "A.index"
   ]
  },
  {
   "cell_type": "code",
   "execution_count": 93,
   "id": "7c83c01e",
   "metadata": {},
   "outputs": [
    {
     "data": {
      "text/plain": [
       "2"
      ]
     },
     "execution_count": 93,
     "metadata": {},
     "output_type": "execute_result"
    }
   ],
   "source": [
    "A['a']    # Acts like Dictionary key"
   ]
  },
  {
   "cell_type": "code",
   "execution_count": 96,
   "id": "448d330b",
   "metadata": {},
   "outputs": [
    {
     "data": {
      "text/plain": [
       "a    2\n",
       "b    3\n",
       "c    4\n",
       "dtype: int64"
      ]
     },
     "execution_count": 96,
     "metadata": {},
     "output_type": "execute_result"
    }
   ],
   "source": [
    "A['a':'c']    # slicing"
   ]
  },
  {
   "cell_type": "code",
   "execution_count": 110,
   "id": "c0a3c1a4",
   "metadata": {},
   "outputs": [
    {
     "name": "stdout",
     "output_type": "stream",
     "text": [
      "A    4.0\n",
      "B    3.5\n",
      "C    3.0\n",
      "D    2.5\n",
      "dtype: float64\n"
     ]
    }
   ],
   "source": [
    "grades_dict = {'A':4,'B':3.5,'C':3,'D':2.5}     # Another way of creating Pandas series is by using a dictionary\n",
    "grades = pd.Series(grades_dict)\n",
    "print(grades)"
   ]
  },
  {
   "cell_type": "code",
   "execution_count": 111,
   "id": "3f9a2334",
   "metadata": {},
   "outputs": [
    {
     "data": {
      "text/plain": [
       "array([4. , 3.5, 3. , 2.5])"
      ]
     },
     "execution_count": 111,
     "metadata": {},
     "output_type": "execute_result"
    }
   ],
   "source": [
    "grades.values"
   ]
  },
  {
   "cell_type": "code",
   "execution_count": 112,
   "id": "dc10a841",
   "metadata": {},
   "outputs": [],
   "source": [
    "marks_dict = {'A':85,'B':75,'C':65,'D':55}\n",
    "marks = pd.Series(marks_dict)"
   ]
  },
  {
   "cell_type": "code",
   "execution_count": 113,
   "id": "22afb748",
   "metadata": {},
   "outputs": [
    {
     "data": {
      "text/plain": [
       "A    85\n",
       "B    75\n",
       "C    65\n",
       "D    55\n",
       "dtype: int64"
      ]
     },
     "execution_count": 113,
     "metadata": {},
     "output_type": "execute_result"
    }
   ],
   "source": [
    "marks"
   ]
  },
  {
   "cell_type": "code",
   "execution_count": 114,
   "id": "fb4e603e",
   "metadata": {},
   "outputs": [
    {
     "data": {
      "text/plain": [
       "85"
      ]
     },
     "execution_count": 114,
     "metadata": {},
     "output_type": "execute_result"
    }
   ],
   "source": [
    "marks['A']     # accessing using explicit indices"
   ]
  },
  {
   "cell_type": "code",
   "execution_count": 115,
   "id": "2ec482d1",
   "metadata": {},
   "outputs": [
    {
     "data": {
      "text/plain": [
       "A    85\n",
       "B    75\n",
       "dtype: int64"
      ]
     },
     "execution_count": 115,
     "metadata": {},
     "output_type": "execute_result"
    }
   ],
   "source": [
    "marks[0:2]     # accessing using implicit indices"
   ]
  },
  {
   "cell_type": "markdown",
   "id": "93085781",
   "metadata": {},
   "source": [
    "### Pandas (DataFrame)"
   ]
  },
  {
   "cell_type": "code",
   "execution_count": 116,
   "id": "5b0e153b",
   "metadata": {},
   "outputs": [
    {
     "data": {
      "text/plain": [
       "A    85\n",
       "B    75\n",
       "C    65\n",
       "D    55\n",
       "dtype: int64"
      ]
     },
     "execution_count": 116,
     "metadata": {},
     "output_type": "execute_result"
    }
   ],
   "source": [
    "marks"
   ]
  },
  {
   "cell_type": "code",
   "execution_count": 117,
   "id": "3a23db74",
   "metadata": {},
   "outputs": [
    {
     "data": {
      "text/plain": [
       "A    4.0\n",
       "B    3.5\n",
       "C    3.0\n",
       "D    2.5\n",
       "dtype: float64"
      ]
     },
     "execution_count": 117,
     "metadata": {},
     "output_type": "execute_result"
    }
   ],
   "source": [
    "grades"
   ]
  },
  {
   "cell_type": "code",
   "execution_count": 118,
   "id": "a29bb1a3",
   "metadata": {},
   "outputs": [],
   "source": [
    "D = pd.DataFrame({'Marks':marks,'Grades':grades})      # Creating a data frame from a series"
   ]
  },
  {
   "cell_type": "code",
   "execution_count": 119,
   "id": "9aeff4b3",
   "metadata": {},
   "outputs": [
    {
     "data": {
      "text/html": [
       "<div>\n",
       "<style scoped>\n",
       "    .dataframe tbody tr th:only-of-type {\n",
       "        vertical-align: middle;\n",
       "    }\n",
       "\n",
       "    .dataframe tbody tr th {\n",
       "        vertical-align: top;\n",
       "    }\n",
       "\n",
       "    .dataframe thead th {\n",
       "        text-align: right;\n",
       "    }\n",
       "</style>\n",
       "<table border=\"1\" class=\"dataframe\">\n",
       "  <thead>\n",
       "    <tr style=\"text-align: right;\">\n",
       "      <th></th>\n",
       "      <th>Marks</th>\n",
       "      <th>Grades</th>\n",
       "    </tr>\n",
       "  </thead>\n",
       "  <tbody>\n",
       "    <tr>\n",
       "      <th>A</th>\n",
       "      <td>85</td>\n",
       "      <td>4.0</td>\n",
       "    </tr>\n",
       "    <tr>\n",
       "      <th>B</th>\n",
       "      <td>75</td>\n",
       "      <td>3.5</td>\n",
       "    </tr>\n",
       "    <tr>\n",
       "      <th>C</th>\n",
       "      <td>65</td>\n",
       "      <td>3.0</td>\n",
       "    </tr>\n",
       "    <tr>\n",
       "      <th>D</th>\n",
       "      <td>55</td>\n",
       "      <td>2.5</td>\n",
       "    </tr>\n",
       "  </tbody>\n",
       "</table>\n",
       "</div>"
      ],
      "text/plain": [
       "   Marks  Grades\n",
       "A     85     4.0\n",
       "B     75     3.5\n",
       "C     65     3.0\n",
       "D     55     2.5"
      ]
     },
     "execution_count": 119,
     "metadata": {},
     "output_type": "execute_result"
    }
   ],
   "source": [
    "D"
   ]
  },
  {
   "cell_type": "code",
   "execution_count": 120,
   "id": "392bddbc",
   "metadata": {},
   "outputs": [
    {
     "data": {
      "text/html": [
       "<div>\n",
       "<style scoped>\n",
       "    .dataframe tbody tr th:only-of-type {\n",
       "        vertical-align: middle;\n",
       "    }\n",
       "\n",
       "    .dataframe tbody tr th {\n",
       "        vertical-align: top;\n",
       "    }\n",
       "\n",
       "    .dataframe thead th {\n",
       "        text-align: right;\n",
       "    }\n",
       "</style>\n",
       "<table border=\"1\" class=\"dataframe\">\n",
       "  <thead>\n",
       "    <tr style=\"text-align: right;\">\n",
       "      <th></th>\n",
       "      <th>A</th>\n",
       "      <th>B</th>\n",
       "      <th>C</th>\n",
       "      <th>D</th>\n",
       "    </tr>\n",
       "  </thead>\n",
       "  <tbody>\n",
       "    <tr>\n",
       "      <th>Marks</th>\n",
       "      <td>85.0</td>\n",
       "      <td>75.0</td>\n",
       "      <td>65.0</td>\n",
       "      <td>55.0</td>\n",
       "    </tr>\n",
       "    <tr>\n",
       "      <th>Grades</th>\n",
       "      <td>4.0</td>\n",
       "      <td>3.5</td>\n",
       "      <td>3.0</td>\n",
       "      <td>2.5</td>\n",
       "    </tr>\n",
       "  </tbody>\n",
       "</table>\n",
       "</div>"
      ],
      "text/plain": [
       "           A     B     C     D\n",
       "Marks   85.0  75.0  65.0  55.0\n",
       "Grades   4.0   3.5   3.0   2.5"
      ]
     },
     "execution_count": 120,
     "metadata": {},
     "output_type": "execute_result"
    }
   ],
   "source": [
    "D.T    # transpose of the data frame"
   ]
  },
  {
   "cell_type": "code",
   "execution_count": 122,
   "id": "f4a781ed",
   "metadata": {},
   "outputs": [
    {
     "data": {
      "text/plain": [
       "array([[85. ,  4. ],\n",
       "       [75. ,  3.5],\n",
       "       [65. ,  3. ],\n",
       "       [55. ,  2.5]])"
      ]
     },
     "execution_count": 122,
     "metadata": {},
     "output_type": "execute_result"
    }
   ],
   "source": [
    "D.values"
   ]
  },
  {
   "cell_type": "code",
   "execution_count": 125,
   "id": "2add0270",
   "metadata": {},
   "outputs": [
    {
     "data": {
      "text/plain": [
       "65.0"
      ]
     },
     "execution_count": 125,
     "metadata": {},
     "output_type": "execute_result"
    }
   ],
   "source": [
    "D.values[2,0]   # accessing the element (row=3, column=1)"
   ]
  },
  {
   "cell_type": "code",
   "execution_count": 126,
   "id": "cc82017a",
   "metadata": {},
   "outputs": [
    {
     "data": {
      "text/plain": [
       "Index(['Marks', 'Grades'], dtype='object')"
      ]
     },
     "execution_count": 126,
     "metadata": {},
     "output_type": "execute_result"
    }
   ],
   "source": [
    "D.columns"
   ]
  },
  {
   "cell_type": "code",
   "execution_count": 135,
   "id": "ea352f52",
   "metadata": {},
   "outputs": [],
   "source": [
    "D['Percentage'] =D['Marks']/100     # Add new key to add a new column just like a dictionary\n"
   ]
  },
  {
   "cell_type": "code",
   "execution_count": 137,
   "id": "365a00a1",
   "metadata": {},
   "outputs": [],
   "source": [
    "del D['percentage']       # del a column"
   ]
  },
  {
   "cell_type": "code",
   "execution_count": 138,
   "id": "c9f8a731",
   "metadata": {},
   "outputs": [
    {
     "data": {
      "text/html": [
       "<div>\n",
       "<style scoped>\n",
       "    .dataframe tbody tr th:only-of-type {\n",
       "        vertical-align: middle;\n",
       "    }\n",
       "\n",
       "    .dataframe tbody tr th {\n",
       "        vertical-align: top;\n",
       "    }\n",
       "\n",
       "    .dataframe thead th {\n",
       "        text-align: right;\n",
       "    }\n",
       "</style>\n",
       "<table border=\"1\" class=\"dataframe\">\n",
       "  <thead>\n",
       "    <tr style=\"text-align: right;\">\n",
       "      <th></th>\n",
       "      <th>Marks</th>\n",
       "      <th>Grades</th>\n",
       "      <th>Percentage</th>\n",
       "    </tr>\n",
       "  </thead>\n",
       "  <tbody>\n",
       "    <tr>\n",
       "      <th>A</th>\n",
       "      <td>85</td>\n",
       "      <td>4.0</td>\n",
       "      <td>0.85</td>\n",
       "    </tr>\n",
       "    <tr>\n",
       "      <th>B</th>\n",
       "      <td>75</td>\n",
       "      <td>3.5</td>\n",
       "      <td>0.75</td>\n",
       "    </tr>\n",
       "    <tr>\n",
       "      <th>C</th>\n",
       "      <td>65</td>\n",
       "      <td>3.0</td>\n",
       "      <td>0.65</td>\n",
       "    </tr>\n",
       "    <tr>\n",
       "      <th>D</th>\n",
       "      <td>55</td>\n",
       "      <td>2.5</td>\n",
       "      <td>0.55</td>\n",
       "    </tr>\n",
       "  </tbody>\n",
       "</table>\n",
       "</div>"
      ],
      "text/plain": [
       "   Marks  Grades  Percentage\n",
       "A     85     4.0        0.85\n",
       "B     75     3.5        0.75\n",
       "C     65     3.0        0.65\n",
       "D     55     2.5        0.55"
      ]
     },
     "execution_count": 138,
     "metadata": {},
     "output_type": "execute_result"
    }
   ],
   "source": [
    "D"
   ]
  },
  {
   "cell_type": "code",
   "execution_count": 141,
   "id": "61c6dc0f",
   "metadata": {},
   "outputs": [],
   "source": [
    "G = D[D['Marks']>70]        # Masking can also be done as in Numpy"
   ]
  },
  {
   "cell_type": "code",
   "execution_count": 142,
   "id": "eb312ade",
   "metadata": {},
   "outputs": [
    {
     "data": {
      "text/html": [
       "<div>\n",
       "<style scoped>\n",
       "    .dataframe tbody tr th:only-of-type {\n",
       "        vertical-align: middle;\n",
       "    }\n",
       "\n",
       "    .dataframe tbody tr th {\n",
       "        vertical-align: top;\n",
       "    }\n",
       "\n",
       "    .dataframe thead th {\n",
       "        text-align: right;\n",
       "    }\n",
       "</style>\n",
       "<table border=\"1\" class=\"dataframe\">\n",
       "  <thead>\n",
       "    <tr style=\"text-align: right;\">\n",
       "      <th></th>\n",
       "      <th>Marks</th>\n",
       "      <th>Grades</th>\n",
       "      <th>Percentage</th>\n",
       "    </tr>\n",
       "  </thead>\n",
       "  <tbody>\n",
       "    <tr>\n",
       "      <th>A</th>\n",
       "      <td>85</td>\n",
       "      <td>4.0</td>\n",
       "      <td>0.85</td>\n",
       "    </tr>\n",
       "    <tr>\n",
       "      <th>B</th>\n",
       "      <td>75</td>\n",
       "      <td>3.5</td>\n",
       "      <td>0.75</td>\n",
       "    </tr>\n",
       "  </tbody>\n",
       "</table>\n",
       "</div>"
      ],
      "text/plain": [
       "   Marks  Grades  Percentage\n",
       "A     85     4.0        0.85\n",
       "B     75     3.5        0.75"
      ]
     },
     "execution_count": 142,
     "metadata": {},
     "output_type": "execute_result"
    }
   ],
   "source": [
    "G"
   ]
  },
  {
   "cell_type": "markdown",
   "id": "e218ec6b",
   "metadata": {},
   "source": [
    "### Pandas (NaN) - Handling Missing Values or NaN Values"
   ]
  },
  {
   "cell_type": "code",
   "execution_count": 145,
   "id": "87db3465",
   "metadata": {},
   "outputs": [],
   "source": [
    "A = pd.DataFrame([{'a':1,'b':4},{'b':-3,'c':9}])"
   ]
  },
  {
   "cell_type": "code",
   "execution_count": 146,
   "id": "d2b142e4",
   "metadata": {},
   "outputs": [
    {
     "data": {
      "text/html": [
       "<div>\n",
       "<style scoped>\n",
       "    .dataframe tbody tr th:only-of-type {\n",
       "        vertical-align: middle;\n",
       "    }\n",
       "\n",
       "    .dataframe tbody tr th {\n",
       "        vertical-align: top;\n",
       "    }\n",
       "\n",
       "    .dataframe thead th {\n",
       "        text-align: right;\n",
       "    }\n",
       "</style>\n",
       "<table border=\"1\" class=\"dataframe\">\n",
       "  <thead>\n",
       "    <tr style=\"text-align: right;\">\n",
       "      <th></th>\n",
       "      <th>a</th>\n",
       "      <th>b</th>\n",
       "      <th>c</th>\n",
       "    </tr>\n",
       "  </thead>\n",
       "  <tbody>\n",
       "    <tr>\n",
       "      <th>0</th>\n",
       "      <td>1.0</td>\n",
       "      <td>4</td>\n",
       "      <td>NaN</td>\n",
       "    </tr>\n",
       "    <tr>\n",
       "      <th>1</th>\n",
       "      <td>NaN</td>\n",
       "      <td>-3</td>\n",
       "      <td>9.0</td>\n",
       "    </tr>\n",
       "  </tbody>\n",
       "</table>\n",
       "</div>"
      ],
      "text/plain": [
       "     a  b    c\n",
       "0  1.0  4  NaN\n",
       "1  NaN -3  9.0"
      ]
     },
     "execution_count": 146,
     "metadata": {},
     "output_type": "execute_result"
    }
   ],
   "source": [
    "A"
   ]
  },
  {
   "cell_type": "code",
   "execution_count": 147,
   "id": "bc2bb9d2",
   "metadata": {},
   "outputs": [
    {
     "data": {
      "text/html": [
       "<div>\n",
       "<style scoped>\n",
       "    .dataframe tbody tr th:only-of-type {\n",
       "        vertical-align: middle;\n",
       "    }\n",
       "\n",
       "    .dataframe tbody tr th {\n",
       "        vertical-align: top;\n",
       "    }\n",
       "\n",
       "    .dataframe thead th {\n",
       "        text-align: right;\n",
       "    }\n",
       "</style>\n",
       "<table border=\"1\" class=\"dataframe\">\n",
       "  <thead>\n",
       "    <tr style=\"text-align: right;\">\n",
       "      <th></th>\n",
       "      <th>a</th>\n",
       "      <th>b</th>\n",
       "      <th>c</th>\n",
       "    </tr>\n",
       "  </thead>\n",
       "  <tbody>\n",
       "    <tr>\n",
       "      <th>0</th>\n",
       "      <td>1.0</td>\n",
       "      <td>4</td>\n",
       "      <td>0.0</td>\n",
       "    </tr>\n",
       "    <tr>\n",
       "      <th>1</th>\n",
       "      <td>0.0</td>\n",
       "      <td>-3</td>\n",
       "      <td>9.0</td>\n",
       "    </tr>\n",
       "  </tbody>\n",
       "</table>\n",
       "</div>"
      ],
      "text/plain": [
       "     a  b    c\n",
       "0  1.0  4  0.0\n",
       "1  0.0 -3  9.0"
      ]
     },
     "execution_count": 147,
     "metadata": {},
     "output_type": "execute_result"
    }
   ],
   "source": [
    "A.fillna(0)    # Fill the missing values with a fixed number"
   ]
  },
  {
   "cell_type": "code",
   "execution_count": 148,
   "id": "bc54aeb3",
   "metadata": {},
   "outputs": [],
   "source": [
    "A.dropna?      # To drop the missing values"
   ]
  },
  {
   "cell_type": "markdown",
   "id": "158c5b23",
   "metadata": {},
   "source": [
    "### Pandas ( indexing)"
   ]
  },
  {
   "cell_type": "markdown",
   "id": "19644e85",
   "metadata": {},
   "source": [
    "There can be sometimes confusion between implicit and explicit indices"
   ]
  },
  {
   "cell_type": "code",
   "execution_count": 149,
   "id": "0fbf9239",
   "metadata": {},
   "outputs": [],
   "source": [
    "A = pd.Series(['a','b','c'],index=[1,3,5])"
   ]
  },
  {
   "cell_type": "code",
   "execution_count": 151,
   "id": "445911a5",
   "metadata": {},
   "outputs": [
    {
     "data": {
      "text/plain": [
       "'a'"
      ]
     },
     "execution_count": 151,
     "metadata": {},
     "output_type": "execute_result"
    }
   ],
   "source": [
    "A[1]    # accessing explicit index"
   ]
  },
  {
   "cell_type": "code",
   "execution_count": 152,
   "id": "21e549de",
   "metadata": {},
   "outputs": [
    {
     "data": {
      "text/plain": [
       "3    b\n",
       "5    c\n",
       "dtype: object"
      ]
     },
     "execution_count": 152,
     "metadata": {},
     "output_type": "execute_result"
    }
   ],
   "source": [
    "A[1:3]    #accessing implicit indices"
   ]
  },
  {
   "cell_type": "code",
   "execution_count": 153,
   "id": "ec5fdfcb",
   "metadata": {},
   "outputs": [
    {
     "data": {
      "text/plain": [
       "1    a\n",
       "3    b\n",
       "dtype: object"
      ]
     },
     "execution_count": 153,
     "metadata": {},
     "output_type": "execute_result"
    }
   ],
   "source": [
    "A.loc[1:3]   # access explicit indices using loc"
   ]
  },
  {
   "cell_type": "code",
   "execution_count": 154,
   "id": "ce11a596",
   "metadata": {},
   "outputs": [
    {
     "data": {
      "text/plain": [
       "3    b\n",
       "5    c\n",
       "dtype: object"
      ]
     },
     "execution_count": 154,
     "metadata": {},
     "output_type": "execute_result"
    }
   ],
   "source": [
    "A.iloc[1:3]  # access implicit indices"
   ]
  },
  {
   "cell_type": "code",
   "execution_count": 155,
   "id": "931cfa7b",
   "metadata": {},
   "outputs": [
    {
     "data": {
      "text/html": [
       "<div>\n",
       "<style scoped>\n",
       "    .dataframe tbody tr th:only-of-type {\n",
       "        vertical-align: middle;\n",
       "    }\n",
       "\n",
       "    .dataframe tbody tr th {\n",
       "        vertical-align: top;\n",
       "    }\n",
       "\n",
       "    .dataframe thead th {\n",
       "        text-align: right;\n",
       "    }\n",
       "</style>\n",
       "<table border=\"1\" class=\"dataframe\">\n",
       "  <thead>\n",
       "    <tr style=\"text-align: right;\">\n",
       "      <th></th>\n",
       "      <th>Marks</th>\n",
       "      <th>Grades</th>\n",
       "      <th>Percentage</th>\n",
       "    </tr>\n",
       "  </thead>\n",
       "  <tbody>\n",
       "    <tr>\n",
       "      <th>A</th>\n",
       "      <td>85</td>\n",
       "      <td>4.0</td>\n",
       "      <td>0.85</td>\n",
       "    </tr>\n",
       "    <tr>\n",
       "      <th>B</th>\n",
       "      <td>75</td>\n",
       "      <td>3.5</td>\n",
       "      <td>0.75</td>\n",
       "    </tr>\n",
       "    <tr>\n",
       "      <th>C</th>\n",
       "      <td>65</td>\n",
       "      <td>3.0</td>\n",
       "      <td>0.65</td>\n",
       "    </tr>\n",
       "    <tr>\n",
       "      <th>D</th>\n",
       "      <td>55</td>\n",
       "      <td>2.5</td>\n",
       "      <td>0.55</td>\n",
       "    </tr>\n",
       "  </tbody>\n",
       "</table>\n",
       "</div>"
      ],
      "text/plain": [
       "   Marks  Grades  Percentage\n",
       "A     85     4.0        0.85\n",
       "B     75     3.5        0.75\n",
       "C     65     3.0        0.65\n",
       "D     55     2.5        0.55"
      ]
     },
     "execution_count": 155,
     "metadata": {},
     "output_type": "execute_result"
    }
   ],
   "source": [
    "D"
   ]
  },
  {
   "cell_type": "code",
   "execution_count": 156,
   "id": "d060e993",
   "metadata": {},
   "outputs": [
    {
     "data": {
      "text/plain": [
       "Marks         65.00\n",
       "Grades         3.00\n",
       "Percentage     0.65\n",
       "Name: C, dtype: float64"
      ]
     },
     "execution_count": 156,
     "metadata": {},
     "output_type": "execute_result"
    }
   ],
   "source": [
    "D.iloc[2,:]"
   ]
  },
  {
   "cell_type": "markdown",
   "id": "2b2fd7bd",
   "metadata": {},
   "source": [
    "### Pandas (csv files)"
   ]
  },
  {
   "cell_type": "code",
   "execution_count": 159,
   "id": "901927e8",
   "metadata": {},
   "outputs": [],
   "source": [
    "import pandas as pd\n",
    "import numpy as np\n",
    "from sklearn.impute import SimpleImputer\n",
    "df = pd.read_csv(r'C:\\Users\\T.K.DAS\\Documents\\Practice Datasets\\covid_19_data.csv')"
   ]
  },
  {
   "cell_type": "code",
   "execution_count": 162,
   "id": "4759c124",
   "metadata": {},
   "outputs": [
    {
     "data": {
      "text/html": [
       "<div>\n",
       "<style scoped>\n",
       "    .dataframe tbody tr th:only-of-type {\n",
       "        vertical-align: middle;\n",
       "    }\n",
       "\n",
       "    .dataframe tbody tr th {\n",
       "        vertical-align: top;\n",
       "    }\n",
       "\n",
       "    .dataframe thead th {\n",
       "        text-align: right;\n",
       "    }\n",
       "</style>\n",
       "<table border=\"1\" class=\"dataframe\">\n",
       "  <thead>\n",
       "    <tr style=\"text-align: right;\">\n",
       "      <th></th>\n",
       "      <th>SNo</th>\n",
       "      <th>ObservationDate</th>\n",
       "      <th>Province/State</th>\n",
       "      <th>Country/Region</th>\n",
       "      <th>Last Update</th>\n",
       "      <th>Confirmed</th>\n",
       "      <th>Deaths</th>\n",
       "      <th>Recovered</th>\n",
       "    </tr>\n",
       "  </thead>\n",
       "  <tbody>\n",
       "    <tr>\n",
       "      <th>0</th>\n",
       "      <td>1</td>\n",
       "      <td>01/22/2020</td>\n",
       "      <td>Anhui</td>\n",
       "      <td>Mainland China</td>\n",
       "      <td>1/22/2020 17:00</td>\n",
       "      <td>1.0</td>\n",
       "      <td>0.0</td>\n",
       "      <td>0.0</td>\n",
       "    </tr>\n",
       "    <tr>\n",
       "      <th>1</th>\n",
       "      <td>2</td>\n",
       "      <td>01/22/2020</td>\n",
       "      <td>Beijing</td>\n",
       "      <td>Mainland China</td>\n",
       "      <td>1/22/2020 17:00</td>\n",
       "      <td>14.0</td>\n",
       "      <td>0.0</td>\n",
       "      <td>0.0</td>\n",
       "    </tr>\n",
       "    <tr>\n",
       "      <th>2</th>\n",
       "      <td>3</td>\n",
       "      <td>01/22/2020</td>\n",
       "      <td>Chongqing</td>\n",
       "      <td>Mainland China</td>\n",
       "      <td>1/22/2020 17:00</td>\n",
       "      <td>6.0</td>\n",
       "      <td>0.0</td>\n",
       "      <td>0.0</td>\n",
       "    </tr>\n",
       "    <tr>\n",
       "      <th>3</th>\n",
       "      <td>4</td>\n",
       "      <td>01/22/2020</td>\n",
       "      <td>Fujian</td>\n",
       "      <td>Mainland China</td>\n",
       "      <td>1/22/2020 17:00</td>\n",
       "      <td>1.0</td>\n",
       "      <td>0.0</td>\n",
       "      <td>0.0</td>\n",
       "    </tr>\n",
       "    <tr>\n",
       "      <th>4</th>\n",
       "      <td>5</td>\n",
       "      <td>01/22/2020</td>\n",
       "      <td>Gansu</td>\n",
       "      <td>Mainland China</td>\n",
       "      <td>1/22/2020 17:00</td>\n",
       "      <td>0.0</td>\n",
       "      <td>0.0</td>\n",
       "      <td>0.0</td>\n",
       "    </tr>\n",
       "    <tr>\n",
       "      <th>5</th>\n",
       "      <td>6</td>\n",
       "      <td>01/22/2020</td>\n",
       "      <td>Guangdong</td>\n",
       "      <td>Mainland China</td>\n",
       "      <td>1/22/2020 17:00</td>\n",
       "      <td>26.0</td>\n",
       "      <td>0.0</td>\n",
       "      <td>0.0</td>\n",
       "    </tr>\n",
       "    <tr>\n",
       "      <th>6</th>\n",
       "      <td>7</td>\n",
       "      <td>01/22/2020</td>\n",
       "      <td>Guangxi</td>\n",
       "      <td>Mainland China</td>\n",
       "      <td>1/22/2020 17:00</td>\n",
       "      <td>2.0</td>\n",
       "      <td>0.0</td>\n",
       "      <td>0.0</td>\n",
       "    </tr>\n",
       "    <tr>\n",
       "      <th>7</th>\n",
       "      <td>8</td>\n",
       "      <td>01/22/2020</td>\n",
       "      <td>Guizhou</td>\n",
       "      <td>Mainland China</td>\n",
       "      <td>1/22/2020 17:00</td>\n",
       "      <td>1.0</td>\n",
       "      <td>0.0</td>\n",
       "      <td>0.0</td>\n",
       "    </tr>\n",
       "    <tr>\n",
       "      <th>8</th>\n",
       "      <td>9</td>\n",
       "      <td>01/22/2020</td>\n",
       "      <td>Hainan</td>\n",
       "      <td>Mainland China</td>\n",
       "      <td>1/22/2020 17:00</td>\n",
       "      <td>4.0</td>\n",
       "      <td>0.0</td>\n",
       "      <td>0.0</td>\n",
       "    </tr>\n",
       "    <tr>\n",
       "      <th>9</th>\n",
       "      <td>10</td>\n",
       "      <td>01/22/2020</td>\n",
       "      <td>Hebei</td>\n",
       "      <td>Mainland China</td>\n",
       "      <td>1/22/2020 17:00</td>\n",
       "      <td>1.0</td>\n",
       "      <td>0.0</td>\n",
       "      <td>0.0</td>\n",
       "    </tr>\n",
       "  </tbody>\n",
       "</table>\n",
       "</div>"
      ],
      "text/plain": [
       "   SNo ObservationDate Province/State  Country/Region      Last Update  \\\n",
       "0    1      01/22/2020          Anhui  Mainland China  1/22/2020 17:00   \n",
       "1    2      01/22/2020        Beijing  Mainland China  1/22/2020 17:00   \n",
       "2    3      01/22/2020      Chongqing  Mainland China  1/22/2020 17:00   \n",
       "3    4      01/22/2020         Fujian  Mainland China  1/22/2020 17:00   \n",
       "4    5      01/22/2020          Gansu  Mainland China  1/22/2020 17:00   \n",
       "5    6      01/22/2020      Guangdong  Mainland China  1/22/2020 17:00   \n",
       "6    7      01/22/2020        Guangxi  Mainland China  1/22/2020 17:00   \n",
       "7    8      01/22/2020        Guizhou  Mainland China  1/22/2020 17:00   \n",
       "8    9      01/22/2020         Hainan  Mainland China  1/22/2020 17:00   \n",
       "9   10      01/22/2020          Hebei  Mainland China  1/22/2020 17:00   \n",
       "\n",
       "   Confirmed  Deaths  Recovered  \n",
       "0        1.0     0.0        0.0  \n",
       "1       14.0     0.0        0.0  \n",
       "2        6.0     0.0        0.0  \n",
       "3        1.0     0.0        0.0  \n",
       "4        0.0     0.0        0.0  \n",
       "5       26.0     0.0        0.0  \n",
       "6        2.0     0.0        0.0  \n",
       "7        1.0     0.0        0.0  \n",
       "8        4.0     0.0        0.0  \n",
       "9        1.0     0.0        0.0  "
      ]
     },
     "execution_count": 162,
     "metadata": {},
     "output_type": "execute_result"
    }
   ],
   "source": [
    "df.head(10)    # shows first appeared functions say we can see first 10 data using 'df.head(10)'"
   ]
  },
  {
   "cell_type": "code",
   "execution_count": null,
   "id": "43e57962",
   "metadata": {},
   "outputs": [],
   "source": [
    "df.drop(['SNo','Last Update'],axis=1, inplace=True) #deleting few columns which are not required\n",
    "                                                    # inplace will produce the updated df"
   ]
  },
  {
   "cell_type": "code",
   "execution_count": 167,
   "id": "2fd262b5",
   "metadata": {},
   "outputs": [
    {
     "data": {
      "text/html": [
       "<div>\n",
       "<style scoped>\n",
       "    .dataframe tbody tr th:only-of-type {\n",
       "        vertical-align: middle;\n",
       "    }\n",
       "\n",
       "    .dataframe tbody tr th {\n",
       "        vertical-align: top;\n",
       "    }\n",
       "\n",
       "    .dataframe thead th {\n",
       "        text-align: right;\n",
       "    }\n",
       "</style>\n",
       "<table border=\"1\" class=\"dataframe\">\n",
       "  <thead>\n",
       "    <tr style=\"text-align: right;\">\n",
       "      <th></th>\n",
       "      <th>ObservationDate</th>\n",
       "      <th>Province/State</th>\n",
       "      <th>Country/Region</th>\n",
       "      <th>Confirmed</th>\n",
       "      <th>Deaths</th>\n",
       "      <th>Recovered</th>\n",
       "    </tr>\n",
       "  </thead>\n",
       "  <tbody>\n",
       "    <tr>\n",
       "      <th>0</th>\n",
       "      <td>01/22/2020</td>\n",
       "      <td>Anhui</td>\n",
       "      <td>Mainland China</td>\n",
       "      <td>1.0</td>\n",
       "      <td>0.0</td>\n",
       "      <td>0.0</td>\n",
       "    </tr>\n",
       "    <tr>\n",
       "      <th>1</th>\n",
       "      <td>01/22/2020</td>\n",
       "      <td>Beijing</td>\n",
       "      <td>Mainland China</td>\n",
       "      <td>14.0</td>\n",
       "      <td>0.0</td>\n",
       "      <td>0.0</td>\n",
       "    </tr>\n",
       "    <tr>\n",
       "      <th>2</th>\n",
       "      <td>01/22/2020</td>\n",
       "      <td>Chongqing</td>\n",
       "      <td>Mainland China</td>\n",
       "      <td>6.0</td>\n",
       "      <td>0.0</td>\n",
       "      <td>0.0</td>\n",
       "    </tr>\n",
       "    <tr>\n",
       "      <th>3</th>\n",
       "      <td>01/22/2020</td>\n",
       "      <td>Fujian</td>\n",
       "      <td>Mainland China</td>\n",
       "      <td>1.0</td>\n",
       "      <td>0.0</td>\n",
       "      <td>0.0</td>\n",
       "    </tr>\n",
       "    <tr>\n",
       "      <th>4</th>\n",
       "      <td>01/22/2020</td>\n",
       "      <td>Gansu</td>\n",
       "      <td>Mainland China</td>\n",
       "      <td>0.0</td>\n",
       "      <td>0.0</td>\n",
       "      <td>0.0</td>\n",
       "    </tr>\n",
       "  </tbody>\n",
       "</table>\n",
       "</div>"
      ],
      "text/plain": [
       "  ObservationDate Province/State  Country/Region  Confirmed  Deaths  Recovered\n",
       "0      01/22/2020          Anhui  Mainland China        1.0     0.0        0.0\n",
       "1      01/22/2020        Beijing  Mainland China       14.0     0.0        0.0\n",
       "2      01/22/2020      Chongqing  Mainland China        6.0     0.0        0.0\n",
       "3      01/22/2020         Fujian  Mainland China        1.0     0.0        0.0\n",
       "4      01/22/2020          Gansu  Mainland China        0.0     0.0        0.0"
      ]
     },
     "execution_count": 167,
     "metadata": {},
     "output_type": "execute_result"
    }
   ],
   "source": [
    "df.head()"
   ]
  },
  {
   "cell_type": "code",
   "execution_count": 169,
   "id": "7e4073ae",
   "metadata": {},
   "outputs": [],
   "source": [
    " # Rename columns\n",
    "df.rename(columns={'ObservationDate':'Date', 'Province/State':'Province','Country/Region':'Country'},inplace= True) "
   ]
  },
  {
   "cell_type": "code",
   "execution_count": 171,
   "id": "2b63eed4",
   "metadata": {},
   "outputs": [
    {
     "data": {
      "text/html": [
       "<div>\n",
       "<style scoped>\n",
       "    .dataframe tbody tr th:only-of-type {\n",
       "        vertical-align: middle;\n",
       "    }\n",
       "\n",
       "    .dataframe tbody tr th {\n",
       "        vertical-align: top;\n",
       "    }\n",
       "\n",
       "    .dataframe thead th {\n",
       "        text-align: right;\n",
       "    }\n",
       "</style>\n",
       "<table border=\"1\" class=\"dataframe\">\n",
       "  <thead>\n",
       "    <tr style=\"text-align: right;\">\n",
       "      <th></th>\n",
       "      <th>Date</th>\n",
       "      <th>Province</th>\n",
       "      <th>Country</th>\n",
       "      <th>Confirmed</th>\n",
       "      <th>Deaths</th>\n",
       "      <th>Recovered</th>\n",
       "    </tr>\n",
       "  </thead>\n",
       "  <tbody>\n",
       "    <tr>\n",
       "      <th>0</th>\n",
       "      <td>01/22/2020</td>\n",
       "      <td>Anhui</td>\n",
       "      <td>Mainland China</td>\n",
       "      <td>1.0</td>\n",
       "      <td>0.0</td>\n",
       "      <td>0.0</td>\n",
       "    </tr>\n",
       "    <tr>\n",
       "      <th>1</th>\n",
       "      <td>01/22/2020</td>\n",
       "      <td>Beijing</td>\n",
       "      <td>Mainland China</td>\n",
       "      <td>14.0</td>\n",
       "      <td>0.0</td>\n",
       "      <td>0.0</td>\n",
       "    </tr>\n",
       "    <tr>\n",
       "      <th>2</th>\n",
       "      <td>01/22/2020</td>\n",
       "      <td>Chongqing</td>\n",
       "      <td>Mainland China</td>\n",
       "      <td>6.0</td>\n",
       "      <td>0.0</td>\n",
       "      <td>0.0</td>\n",
       "    </tr>\n",
       "    <tr>\n",
       "      <th>3</th>\n",
       "      <td>01/22/2020</td>\n",
       "      <td>Fujian</td>\n",
       "      <td>Mainland China</td>\n",
       "      <td>1.0</td>\n",
       "      <td>0.0</td>\n",
       "      <td>0.0</td>\n",
       "    </tr>\n",
       "    <tr>\n",
       "      <th>4</th>\n",
       "      <td>01/22/2020</td>\n",
       "      <td>Gansu</td>\n",
       "      <td>Mainland China</td>\n",
       "      <td>0.0</td>\n",
       "      <td>0.0</td>\n",
       "      <td>0.0</td>\n",
       "    </tr>\n",
       "  </tbody>\n",
       "</table>\n",
       "</div>"
      ],
      "text/plain": [
       "         Date   Province         Country  Confirmed  Deaths  Recovered\n",
       "0  01/22/2020      Anhui  Mainland China        1.0     0.0        0.0\n",
       "1  01/22/2020    Beijing  Mainland China       14.0     0.0        0.0\n",
       "2  01/22/2020  Chongqing  Mainland China        6.0     0.0        0.0\n",
       "3  01/22/2020     Fujian  Mainland China        1.0     0.0        0.0\n",
       "4  01/22/2020      Gansu  Mainland China        0.0     0.0        0.0"
      ]
     },
     "execution_count": 171,
     "metadata": {},
     "output_type": "execute_result"
    }
   ],
   "source": [
    "df.head()"
   ]
  },
  {
   "cell_type": "code",
   "execution_count": 175,
   "id": "ff9e3401",
   "metadata": {},
   "outputs": [],
   "source": [
    "df['Date'] = pd.to_datetime(df['Date'])     # Converting the Date format to Pandas date format"
   ]
  },
  {
   "cell_type": "code",
   "execution_count": 176,
   "id": "1a2e7cb3",
   "metadata": {},
   "outputs": [
    {
     "data": {
      "text/html": [
       "<div>\n",
       "<style scoped>\n",
       "    .dataframe tbody tr th:only-of-type {\n",
       "        vertical-align: middle;\n",
       "    }\n",
       "\n",
       "    .dataframe tbody tr th {\n",
       "        vertical-align: top;\n",
       "    }\n",
       "\n",
       "    .dataframe thead th {\n",
       "        text-align: right;\n",
       "    }\n",
       "</style>\n",
       "<table border=\"1\" class=\"dataframe\">\n",
       "  <thead>\n",
       "    <tr style=\"text-align: right;\">\n",
       "      <th></th>\n",
       "      <th>Date</th>\n",
       "      <th>Province</th>\n",
       "      <th>Country</th>\n",
       "      <th>Confirmed</th>\n",
       "      <th>Deaths</th>\n",
       "      <th>Recovered</th>\n",
       "      <th>Data</th>\n",
       "    </tr>\n",
       "  </thead>\n",
       "  <tbody>\n",
       "    <tr>\n",
       "      <th>0</th>\n",
       "      <td>2020-01-22</td>\n",
       "      <td>Anhui</td>\n",
       "      <td>Mainland China</td>\n",
       "      <td>1.0</td>\n",
       "      <td>0.0</td>\n",
       "      <td>0.0</td>\n",
       "      <td>2020-01-22</td>\n",
       "    </tr>\n",
       "    <tr>\n",
       "      <th>1</th>\n",
       "      <td>2020-01-22</td>\n",
       "      <td>Beijing</td>\n",
       "      <td>Mainland China</td>\n",
       "      <td>14.0</td>\n",
       "      <td>0.0</td>\n",
       "      <td>0.0</td>\n",
       "      <td>2020-01-22</td>\n",
       "    </tr>\n",
       "    <tr>\n",
       "      <th>2</th>\n",
       "      <td>2020-01-22</td>\n",
       "      <td>Chongqing</td>\n",
       "      <td>Mainland China</td>\n",
       "      <td>6.0</td>\n",
       "      <td>0.0</td>\n",
       "      <td>0.0</td>\n",
       "      <td>2020-01-22</td>\n",
       "    </tr>\n",
       "    <tr>\n",
       "      <th>3</th>\n",
       "      <td>2020-01-22</td>\n",
       "      <td>Fujian</td>\n",
       "      <td>Mainland China</td>\n",
       "      <td>1.0</td>\n",
       "      <td>0.0</td>\n",
       "      <td>0.0</td>\n",
       "      <td>2020-01-22</td>\n",
       "    </tr>\n",
       "    <tr>\n",
       "      <th>4</th>\n",
       "      <td>2020-01-22</td>\n",
       "      <td>Gansu</td>\n",
       "      <td>Mainland China</td>\n",
       "      <td>0.0</td>\n",
       "      <td>0.0</td>\n",
       "      <td>0.0</td>\n",
       "      <td>2020-01-22</td>\n",
       "    </tr>\n",
       "  </tbody>\n",
       "</table>\n",
       "</div>"
      ],
      "text/plain": [
       "        Date   Province         Country  Confirmed  Deaths  Recovered  \\\n",
       "0 2020-01-22      Anhui  Mainland China        1.0     0.0        0.0   \n",
       "1 2020-01-22    Beijing  Mainland China       14.0     0.0        0.0   \n",
       "2 2020-01-22  Chongqing  Mainland China        6.0     0.0        0.0   \n",
       "3 2020-01-22     Fujian  Mainland China        1.0     0.0        0.0   \n",
       "4 2020-01-22      Gansu  Mainland China        0.0     0.0        0.0   \n",
       "\n",
       "        Data  \n",
       "0 2020-01-22  \n",
       "1 2020-01-22  \n",
       "2 2020-01-22  \n",
       "3 2020-01-22  \n",
       "4 2020-01-22  "
      ]
     },
     "execution_count": 176,
     "metadata": {},
     "output_type": "execute_result"
    }
   ],
   "source": [
    "df.head()"
   ]
  },
  {
   "cell_type": "code",
   "execution_count": 177,
   "id": "5e4f2831",
   "metadata": {},
   "outputs": [],
   "source": [
    "del df['Data']"
   ]
  },
  {
   "cell_type": "code",
   "execution_count": 178,
   "id": "7eb0935c",
   "metadata": {},
   "outputs": [
    {
     "data": {
      "text/html": [
       "<div>\n",
       "<style scoped>\n",
       "    .dataframe tbody tr th:only-of-type {\n",
       "        vertical-align: middle;\n",
       "    }\n",
       "\n",
       "    .dataframe tbody tr th {\n",
       "        vertical-align: top;\n",
       "    }\n",
       "\n",
       "    .dataframe thead th {\n",
       "        text-align: right;\n",
       "    }\n",
       "</style>\n",
       "<table border=\"1\" class=\"dataframe\">\n",
       "  <thead>\n",
       "    <tr style=\"text-align: right;\">\n",
       "      <th></th>\n",
       "      <th>Date</th>\n",
       "      <th>Province</th>\n",
       "      <th>Country</th>\n",
       "      <th>Confirmed</th>\n",
       "      <th>Deaths</th>\n",
       "      <th>Recovered</th>\n",
       "    </tr>\n",
       "  </thead>\n",
       "  <tbody>\n",
       "    <tr>\n",
       "      <th>0</th>\n",
       "      <td>2020-01-22</td>\n",
       "      <td>Anhui</td>\n",
       "      <td>Mainland China</td>\n",
       "      <td>1.0</td>\n",
       "      <td>0.0</td>\n",
       "      <td>0.0</td>\n",
       "    </tr>\n",
       "    <tr>\n",
       "      <th>1</th>\n",
       "      <td>2020-01-22</td>\n",
       "      <td>Beijing</td>\n",
       "      <td>Mainland China</td>\n",
       "      <td>14.0</td>\n",
       "      <td>0.0</td>\n",
       "      <td>0.0</td>\n",
       "    </tr>\n",
       "    <tr>\n",
       "      <th>2</th>\n",
       "      <td>2020-01-22</td>\n",
       "      <td>Chongqing</td>\n",
       "      <td>Mainland China</td>\n",
       "      <td>6.0</td>\n",
       "      <td>0.0</td>\n",
       "      <td>0.0</td>\n",
       "    </tr>\n",
       "    <tr>\n",
       "      <th>3</th>\n",
       "      <td>2020-01-22</td>\n",
       "      <td>Fujian</td>\n",
       "      <td>Mainland China</td>\n",
       "      <td>1.0</td>\n",
       "      <td>0.0</td>\n",
       "      <td>0.0</td>\n",
       "    </tr>\n",
       "    <tr>\n",
       "      <th>4</th>\n",
       "      <td>2020-01-22</td>\n",
       "      <td>Gansu</td>\n",
       "      <td>Mainland China</td>\n",
       "      <td>0.0</td>\n",
       "      <td>0.0</td>\n",
       "      <td>0.0</td>\n",
       "    </tr>\n",
       "  </tbody>\n",
       "</table>\n",
       "</div>"
      ],
      "text/plain": [
       "        Date   Province         Country  Confirmed  Deaths  Recovered\n",
       "0 2020-01-22      Anhui  Mainland China        1.0     0.0        0.0\n",
       "1 2020-01-22    Beijing  Mainland China       14.0     0.0        0.0\n",
       "2 2020-01-22  Chongqing  Mainland China        6.0     0.0        0.0\n",
       "3 2020-01-22     Fujian  Mainland China        1.0     0.0        0.0\n",
       "4 2020-01-22      Gansu  Mainland China        0.0     0.0        0.0"
      ]
     },
     "execution_count": 178,
     "metadata": {},
     "output_type": "execute_result"
    }
   ],
   "source": [
    "df.head()"
   ]
  },
  {
   "cell_type": "code",
   "execution_count": 180,
   "id": "ab35b1e7",
   "metadata": {},
   "outputs": [
    {
     "data": {
      "text/html": [
       "<div>\n",
       "<style scoped>\n",
       "    .dataframe tbody tr th:only-of-type {\n",
       "        vertical-align: middle;\n",
       "    }\n",
       "\n",
       "    .dataframe tbody tr th {\n",
       "        vertical-align: top;\n",
       "    }\n",
       "\n",
       "    .dataframe thead th {\n",
       "        text-align: right;\n",
       "    }\n",
       "</style>\n",
       "<table border=\"1\" class=\"dataframe\">\n",
       "  <thead>\n",
       "    <tr style=\"text-align: right;\">\n",
       "      <th></th>\n",
       "      <th>Confirmed</th>\n",
       "      <th>Deaths</th>\n",
       "      <th>Recovered</th>\n",
       "    </tr>\n",
       "  </thead>\n",
       "  <tbody>\n",
       "    <tr>\n",
       "      <th>count</th>\n",
       "      <td>3.064290e+05</td>\n",
       "      <td>306429.000000</td>\n",
       "      <td>3.064290e+05</td>\n",
       "    </tr>\n",
       "    <tr>\n",
       "      <th>mean</th>\n",
       "      <td>8.567091e+04</td>\n",
       "      <td>2036.403268</td>\n",
       "      <td>5.042029e+04</td>\n",
       "    </tr>\n",
       "    <tr>\n",
       "      <th>std</th>\n",
       "      <td>2.775516e+05</td>\n",
       "      <td>6410.938048</td>\n",
       "      <td>2.015124e+05</td>\n",
       "    </tr>\n",
       "    <tr>\n",
       "      <th>min</th>\n",
       "      <td>-3.028440e+05</td>\n",
       "      <td>-178.000000</td>\n",
       "      <td>-8.544050e+05</td>\n",
       "    </tr>\n",
       "    <tr>\n",
       "      <th>25%</th>\n",
       "      <td>1.042000e+03</td>\n",
       "      <td>13.000000</td>\n",
       "      <td>1.100000e+01</td>\n",
       "    </tr>\n",
       "    <tr>\n",
       "      <th>50%</th>\n",
       "      <td>1.037500e+04</td>\n",
       "      <td>192.000000</td>\n",
       "      <td>1.751000e+03</td>\n",
       "    </tr>\n",
       "    <tr>\n",
       "      <th>75%</th>\n",
       "      <td>5.075200e+04</td>\n",
       "      <td>1322.000000</td>\n",
       "      <td>2.027000e+04</td>\n",
       "    </tr>\n",
       "    <tr>\n",
       "      <th>max</th>\n",
       "      <td>5.863138e+06</td>\n",
       "      <td>112385.000000</td>\n",
       "      <td>6.399531e+06</td>\n",
       "    </tr>\n",
       "  </tbody>\n",
       "</table>\n",
       "</div>"
      ],
      "text/plain": [
       "          Confirmed         Deaths     Recovered\n",
       "count  3.064290e+05  306429.000000  3.064290e+05\n",
       "mean   8.567091e+04    2036.403268  5.042029e+04\n",
       "std    2.775516e+05    6410.938048  2.015124e+05\n",
       "min   -3.028440e+05    -178.000000 -8.544050e+05\n",
       "25%    1.042000e+03      13.000000  1.100000e+01\n",
       "50%    1.037500e+04     192.000000  1.751000e+03\n",
       "75%    5.075200e+04    1322.000000  2.027000e+04\n",
       "max    5.863138e+06  112385.000000  6.399531e+06"
      ]
     },
     "execution_count": 180,
     "metadata": {},
     "output_type": "execute_result"
    }
   ],
   "source": [
    "df.describe()     # to describe the statistics of the data"
   ]
  },
  {
   "cell_type": "code",
   "execution_count": 181,
   "id": "f33477a3",
   "metadata": {},
   "outputs": [
    {
     "name": "stdout",
     "output_type": "stream",
     "text": [
      "<class 'pandas.core.frame.DataFrame'>\n",
      "RangeIndex: 306429 entries, 0 to 306428\n",
      "Data columns (total 6 columns):\n",
      " #   Column     Non-Null Count   Dtype         \n",
      "---  ------     --------------   -----         \n",
      " 0   Date       306429 non-null  datetime64[ns]\n",
      " 1   Province   228329 non-null  object        \n",
      " 2   Country    306429 non-null  object        \n",
      " 3   Confirmed  306429 non-null  float64       \n",
      " 4   Deaths     306429 non-null  float64       \n",
      " 5   Recovered  306429 non-null  float64       \n",
      "dtypes: datetime64[ns](1), float64(3), object(2)\n",
      "memory usage: 14.0+ MB\n"
     ]
    }
   ],
   "source": [
    "df.info()     # give information about the null entries"
   ]
  },
  {
   "cell_type": "code",
   "execution_count": 184,
   "id": "fda69d8b",
   "metadata": {},
   "outputs": [],
   "source": [
    "df = df.fillna('NA')      # to impute null entries"
   ]
  },
  {
   "cell_type": "code",
   "execution_count": 185,
   "id": "18c416f8",
   "metadata": {},
   "outputs": [
    {
     "name": "stdout",
     "output_type": "stream",
     "text": [
      "<class 'pandas.core.frame.DataFrame'>\n",
      "RangeIndex: 306429 entries, 0 to 306428\n",
      "Data columns (total 6 columns):\n",
      " #   Column     Non-Null Count   Dtype         \n",
      "---  ------     --------------   -----         \n",
      " 0   Date       306429 non-null  datetime64[ns]\n",
      " 1   Province   306429 non-null  object        \n",
      " 2   Country    306429 non-null  object        \n",
      " 3   Confirmed  306429 non-null  float64       \n",
      " 4   Deaths     306429 non-null  float64       \n",
      " 5   Recovered  306429 non-null  float64       \n",
      "dtypes: datetime64[ns](1), float64(3), object(2)\n",
      "memory usage: 14.0+ MB\n"
     ]
    }
   ],
   "source": [
    "df.info()          #now there will be no null value"
   ]
  },
  {
   "cell_type": "code",
   "execution_count": 186,
   "id": "a59ec715",
   "metadata": {},
   "outputs": [
    {
     "data": {
      "text/html": [
       "<div>\n",
       "<style scoped>\n",
       "    .dataframe tbody tr th:only-of-type {\n",
       "        vertical-align: middle;\n",
       "    }\n",
       "\n",
       "    .dataframe tbody tr th {\n",
       "        vertical-align: top;\n",
       "    }\n",
       "\n",
       "    .dataframe thead th {\n",
       "        text-align: right;\n",
       "    }\n",
       "</style>\n",
       "<table border=\"1\" class=\"dataframe\">\n",
       "  <thead>\n",
       "    <tr style=\"text-align: right;\">\n",
       "      <th></th>\n",
       "      <th>Date</th>\n",
       "      <th>Province</th>\n",
       "      <th>Country</th>\n",
       "      <th>Confirmed</th>\n",
       "      <th>Deaths</th>\n",
       "      <th>Recovered</th>\n",
       "    </tr>\n",
       "  </thead>\n",
       "  <tbody>\n",
       "    <tr>\n",
       "      <th>0</th>\n",
       "      <td>2020-01-22</td>\n",
       "      <td>Anhui</td>\n",
       "      <td>Mainland China</td>\n",
       "      <td>1.0</td>\n",
       "      <td>0.0</td>\n",
       "      <td>0.0</td>\n",
       "    </tr>\n",
       "    <tr>\n",
       "      <th>1</th>\n",
       "      <td>2020-01-22</td>\n",
       "      <td>Beijing</td>\n",
       "      <td>Mainland China</td>\n",
       "      <td>14.0</td>\n",
       "      <td>0.0</td>\n",
       "      <td>0.0</td>\n",
       "    </tr>\n",
       "    <tr>\n",
       "      <th>2</th>\n",
       "      <td>2020-01-22</td>\n",
       "      <td>Chongqing</td>\n",
       "      <td>Mainland China</td>\n",
       "      <td>6.0</td>\n",
       "      <td>0.0</td>\n",
       "      <td>0.0</td>\n",
       "    </tr>\n",
       "    <tr>\n",
       "      <th>3</th>\n",
       "      <td>2020-01-22</td>\n",
       "      <td>Fujian</td>\n",
       "      <td>Mainland China</td>\n",
       "      <td>1.0</td>\n",
       "      <td>0.0</td>\n",
       "      <td>0.0</td>\n",
       "    </tr>\n",
       "    <tr>\n",
       "      <th>4</th>\n",
       "      <td>2020-01-22</td>\n",
       "      <td>Gansu</td>\n",
       "      <td>Mainland China</td>\n",
       "      <td>0.0</td>\n",
       "      <td>0.0</td>\n",
       "      <td>0.0</td>\n",
       "    </tr>\n",
       "    <tr>\n",
       "      <th>5</th>\n",
       "      <td>2020-01-22</td>\n",
       "      <td>Guangdong</td>\n",
       "      <td>Mainland China</td>\n",
       "      <td>26.0</td>\n",
       "      <td>0.0</td>\n",
       "      <td>0.0</td>\n",
       "    </tr>\n",
       "    <tr>\n",
       "      <th>6</th>\n",
       "      <td>2020-01-22</td>\n",
       "      <td>Guangxi</td>\n",
       "      <td>Mainland China</td>\n",
       "      <td>2.0</td>\n",
       "      <td>0.0</td>\n",
       "      <td>0.0</td>\n",
       "    </tr>\n",
       "    <tr>\n",
       "      <th>7</th>\n",
       "      <td>2020-01-22</td>\n",
       "      <td>Guizhou</td>\n",
       "      <td>Mainland China</td>\n",
       "      <td>1.0</td>\n",
       "      <td>0.0</td>\n",
       "      <td>0.0</td>\n",
       "    </tr>\n",
       "    <tr>\n",
       "      <th>8</th>\n",
       "      <td>2020-01-22</td>\n",
       "      <td>Hainan</td>\n",
       "      <td>Mainland China</td>\n",
       "      <td>4.0</td>\n",
       "      <td>0.0</td>\n",
       "      <td>0.0</td>\n",
       "    </tr>\n",
       "    <tr>\n",
       "      <th>9</th>\n",
       "      <td>2020-01-22</td>\n",
       "      <td>Hebei</td>\n",
       "      <td>Mainland China</td>\n",
       "      <td>1.0</td>\n",
       "      <td>0.0</td>\n",
       "      <td>0.0</td>\n",
       "    </tr>\n",
       "  </tbody>\n",
       "</table>\n",
       "</div>"
      ],
      "text/plain": [
       "        Date   Province         Country  Confirmed  Deaths  Recovered\n",
       "0 2020-01-22      Anhui  Mainland China        1.0     0.0        0.0\n",
       "1 2020-01-22    Beijing  Mainland China       14.0     0.0        0.0\n",
       "2 2020-01-22  Chongqing  Mainland China        6.0     0.0        0.0\n",
       "3 2020-01-22     Fujian  Mainland China        1.0     0.0        0.0\n",
       "4 2020-01-22      Gansu  Mainland China        0.0     0.0        0.0\n",
       "5 2020-01-22  Guangdong  Mainland China       26.0     0.0        0.0\n",
       "6 2020-01-22    Guangxi  Mainland China        2.0     0.0        0.0\n",
       "7 2020-01-22    Guizhou  Mainland China        1.0     0.0        0.0\n",
       "8 2020-01-22     Hainan  Mainland China        4.0     0.0        0.0\n",
       "9 2020-01-22      Hebei  Mainland China        1.0     0.0        0.0"
      ]
     },
     "execution_count": 186,
     "metadata": {},
     "output_type": "execute_result"
    }
   ],
   "source": [
    "df.head(10)"
   ]
  },
  {
   "cell_type": "code",
   "execution_count": 187,
   "id": "727fa0fa",
   "metadata": {},
   "outputs": [],
   "source": [
    "df2 = df.groupby('Country')[['Country','Confirmed','Deaths','Recovered']].sum().reset_index()"
   ]
  },
  {
   "cell_type": "code",
   "execution_count": 188,
   "id": "10edd596",
   "metadata": {
    "scrolled": true
   },
   "outputs": [
    {
     "data": {
      "text/html": [
       "<div>\n",
       "<style scoped>\n",
       "    .dataframe tbody tr th:only-of-type {\n",
       "        vertical-align: middle;\n",
       "    }\n",
       "\n",
       "    .dataframe tbody tr th {\n",
       "        vertical-align: top;\n",
       "    }\n",
       "\n",
       "    .dataframe thead th {\n",
       "        text-align: right;\n",
       "    }\n",
       "</style>\n",
       "<table border=\"1\" class=\"dataframe\">\n",
       "  <thead>\n",
       "    <tr style=\"text-align: right;\">\n",
       "      <th></th>\n",
       "      <th>Country</th>\n",
       "      <th>Confirmed</th>\n",
       "      <th>Deaths</th>\n",
       "      <th>Recovered</th>\n",
       "    </tr>\n",
       "  </thead>\n",
       "  <tbody>\n",
       "    <tr>\n",
       "      <th>0</th>\n",
       "      <td>Azerbaijan</td>\n",
       "      <td>1.0</td>\n",
       "      <td>0.0</td>\n",
       "      <td>0.0</td>\n",
       "    </tr>\n",
       "    <tr>\n",
       "      <th>1</th>\n",
       "      <td>('St. Martin',)</td>\n",
       "      <td>2.0</td>\n",
       "      <td>0.0</td>\n",
       "      <td>0.0</td>\n",
       "    </tr>\n",
       "    <tr>\n",
       "      <th>2</th>\n",
       "      <td>Afghanistan</td>\n",
       "      <td>17026442.0</td>\n",
       "      <td>669075.0</td>\n",
       "      <td>13464399.0</td>\n",
       "    </tr>\n",
       "    <tr>\n",
       "      <th>3</th>\n",
       "      <td>Albania</td>\n",
       "      <td>19768869.0</td>\n",
       "      <td>375955.0</td>\n",
       "      <td>13945256.0</td>\n",
       "    </tr>\n",
       "    <tr>\n",
       "      <th>4</th>\n",
       "      <td>Algeria</td>\n",
       "      <td>27684358.0</td>\n",
       "      <td>834464.0</td>\n",
       "      <td>18959299.0</td>\n",
       "    </tr>\n",
       "    <tr>\n",
       "      <th>...</th>\n",
       "      <td>...</td>\n",
       "      <td>...</td>\n",
       "      <td>...</td>\n",
       "      <td>...</td>\n",
       "    </tr>\n",
       "    <tr>\n",
       "      <th>224</th>\n",
       "      <td>West Bank and Gaza</td>\n",
       "      <td>41819444.0</td>\n",
       "      <td>440378.0</td>\n",
       "      <td>37003116.0</td>\n",
       "    </tr>\n",
       "    <tr>\n",
       "      <th>225</th>\n",
       "      <td>Yemen</td>\n",
       "      <td>962066.0</td>\n",
       "      <td>237613.0</td>\n",
       "      <td>506523.0</td>\n",
       "    </tr>\n",
       "    <tr>\n",
       "      <th>226</th>\n",
       "      <td>Zambia</td>\n",
       "      <td>13493953.0</td>\n",
       "      <td>205990.0</td>\n",
       "      <td>12625626.0</td>\n",
       "    </tr>\n",
       "    <tr>\n",
       "      <th>227</th>\n",
       "      <td>Zimbabwe</td>\n",
       "      <td>6484581.0</td>\n",
       "      <td>237234.0</td>\n",
       "      <td>5594887.0</td>\n",
       "    </tr>\n",
       "    <tr>\n",
       "      <th>228</th>\n",
       "      <td>occupied Palestinian territory</td>\n",
       "      <td>25.0</td>\n",
       "      <td>0.0</td>\n",
       "      <td>0.0</td>\n",
       "    </tr>\n",
       "  </tbody>\n",
       "</table>\n",
       "<p>229 rows × 4 columns</p>\n",
       "</div>"
      ],
      "text/plain": [
       "                            Country   Confirmed    Deaths   Recovered\n",
       "0                        Azerbaijan         1.0       0.0         0.0\n",
       "1                   ('St. Martin',)         2.0       0.0         0.0\n",
       "2                       Afghanistan  17026442.0  669075.0  13464399.0\n",
       "3                           Albania  19768869.0  375955.0  13945256.0\n",
       "4                           Algeria  27684358.0  834464.0  18959299.0\n",
       "..                              ...         ...       ...         ...\n",
       "224              West Bank and Gaza  41819444.0  440378.0  37003116.0\n",
       "225                           Yemen    962066.0  237613.0    506523.0\n",
       "226                          Zambia  13493953.0  205990.0  12625626.0\n",
       "227                        Zimbabwe   6484581.0  237234.0   5594887.0\n",
       "228  occupied Palestinian territory        25.0       0.0         0.0\n",
       "\n",
       "[229 rows x 4 columns]"
      ]
     },
     "execution_count": 188,
     "metadata": {},
     "output_type": "execute_result"
    }
   ],
   "source": [
    "df2"
   ]
  },
  {
   "cell_type": "code",
   "execution_count": 190,
   "id": "6356ad58",
   "metadata": {},
   "outputs": [],
   "source": [
    "df2 = df.groupby(['Country','Date'])[['Country','Date','Confirmed','Deaths','Recovered']].sum().reset_index()"
   ]
  },
  {
   "cell_type": "code",
   "execution_count": 194,
   "id": "9e62aa87",
   "metadata": {
    "scrolled": true
   },
   "outputs": [
    {
     "data": {
      "text/html": [
       "<div>\n",
       "<style scoped>\n",
       "    .dataframe tbody tr th:only-of-type {\n",
       "        vertical-align: middle;\n",
       "    }\n",
       "\n",
       "    .dataframe tbody tr th {\n",
       "        vertical-align: top;\n",
       "    }\n",
       "\n",
       "    .dataframe thead th {\n",
       "        text-align: right;\n",
       "    }\n",
       "</style>\n",
       "<table border=\"1\" class=\"dataframe\">\n",
       "  <thead>\n",
       "    <tr style=\"text-align: right;\">\n",
       "      <th></th>\n",
       "      <th>Country</th>\n",
       "      <th>Date</th>\n",
       "      <th>Confirmed</th>\n",
       "      <th>Deaths</th>\n",
       "      <th>Recovered</th>\n",
       "    </tr>\n",
       "  </thead>\n",
       "  <tbody>\n",
       "    <tr>\n",
       "      <th>0</th>\n",
       "      <td>Azerbaijan</td>\n",
       "      <td>2020-02-28</td>\n",
       "      <td>1.0</td>\n",
       "      <td>0.0</td>\n",
       "      <td>0.0</td>\n",
       "    </tr>\n",
       "    <tr>\n",
       "      <th>1</th>\n",
       "      <td>('St. Martin',)</td>\n",
       "      <td>2020-03-10</td>\n",
       "      <td>2.0</td>\n",
       "      <td>0.0</td>\n",
       "      <td>0.0</td>\n",
       "    </tr>\n",
       "    <tr>\n",
       "      <th>2</th>\n",
       "      <td>Afghanistan</td>\n",
       "      <td>2020-02-24</td>\n",
       "      <td>1.0</td>\n",
       "      <td>0.0</td>\n",
       "      <td>0.0</td>\n",
       "    </tr>\n",
       "    <tr>\n",
       "      <th>3</th>\n",
       "      <td>Afghanistan</td>\n",
       "      <td>2020-02-25</td>\n",
       "      <td>1.0</td>\n",
       "      <td>0.0</td>\n",
       "      <td>0.0</td>\n",
       "    </tr>\n",
       "    <tr>\n",
       "      <th>4</th>\n",
       "      <td>Afghanistan</td>\n",
       "      <td>2020-02-26</td>\n",
       "      <td>1.0</td>\n",
       "      <td>0.0</td>\n",
       "      <td>0.0</td>\n",
       "    </tr>\n",
       "    <tr>\n",
       "      <th>...</th>\n",
       "      <td>...</td>\n",
       "      <td>...</td>\n",
       "      <td>...</td>\n",
       "      <td>...</td>\n",
       "      <td>...</td>\n",
       "    </tr>\n",
       "    <tr>\n",
       "      <th>1995</th>\n",
       "      <td>Angola</td>\n",
       "      <td>2020-09-07</td>\n",
       "      <td>2981.0</td>\n",
       "      <td>120.0</td>\n",
       "      <td>1215.0</td>\n",
       "    </tr>\n",
       "    <tr>\n",
       "      <th>1996</th>\n",
       "      <td>Angola</td>\n",
       "      <td>2020-09-08</td>\n",
       "      <td>3033.0</td>\n",
       "      <td>124.0</td>\n",
       "      <td>1215.0</td>\n",
       "    </tr>\n",
       "    <tr>\n",
       "      <th>1997</th>\n",
       "      <td>Angola</td>\n",
       "      <td>2020-09-09</td>\n",
       "      <td>3092.0</td>\n",
       "      <td>126.0</td>\n",
       "      <td>1245.0</td>\n",
       "    </tr>\n",
       "    <tr>\n",
       "      <th>1998</th>\n",
       "      <td>Angola</td>\n",
       "      <td>2020-09-10</td>\n",
       "      <td>3217.0</td>\n",
       "      <td>130.0</td>\n",
       "      <td>1277.0</td>\n",
       "    </tr>\n",
       "    <tr>\n",
       "      <th>1999</th>\n",
       "      <td>Angola</td>\n",
       "      <td>2020-09-11</td>\n",
       "      <td>3279.0</td>\n",
       "      <td>131.0</td>\n",
       "      <td>1288.0</td>\n",
       "    </tr>\n",
       "  </tbody>\n",
       "</table>\n",
       "<p>2000 rows × 5 columns</p>\n",
       "</div>"
      ],
      "text/plain": [
       "              Country       Date  Confirmed  Deaths  Recovered\n",
       "0          Azerbaijan 2020-02-28        1.0     0.0        0.0\n",
       "1     ('St. Martin',) 2020-03-10        2.0     0.0        0.0\n",
       "2         Afghanistan 2020-02-24        1.0     0.0        0.0\n",
       "3         Afghanistan 2020-02-25        1.0     0.0        0.0\n",
       "4         Afghanistan 2020-02-26        1.0     0.0        0.0\n",
       "...               ...        ...        ...     ...        ...\n",
       "1995           Angola 2020-09-07     2981.0   120.0     1215.0\n",
       "1996           Angola 2020-09-08     3033.0   124.0     1215.0\n",
       "1997           Angola 2020-09-09     3092.0   126.0     1245.0\n",
       "1998           Angola 2020-09-10     3217.0   130.0     1277.0\n",
       "1999           Angola 2020-09-11     3279.0   131.0     1288.0\n",
       "\n",
       "[2000 rows x 5 columns]"
      ]
     },
     "execution_count": 194,
     "metadata": {},
     "output_type": "execute_result"
    }
   ],
   "source": [
    "df2.head(2000)"
   ]
  },
  {
   "cell_type": "code",
   "execution_count": 195,
   "id": "865540bb",
   "metadata": {},
   "outputs": [],
   "source": [
    "df3 = df2[df2['Confirmed']>100]"
   ]
  },
  {
   "cell_type": "code",
   "execution_count": 196,
   "id": "8b6cfb63",
   "metadata": {},
   "outputs": [
    {
     "data": {
      "text/html": [
       "<div>\n",
       "<style scoped>\n",
       "    .dataframe tbody tr th:only-of-type {\n",
       "        vertical-align: middle;\n",
       "    }\n",
       "\n",
       "    .dataframe tbody tr th {\n",
       "        vertical-align: top;\n",
       "    }\n",
       "\n",
       "    .dataframe thead th {\n",
       "        text-align: right;\n",
       "    }\n",
       "</style>\n",
       "<table border=\"1\" class=\"dataframe\">\n",
       "  <thead>\n",
       "    <tr style=\"text-align: right;\">\n",
       "      <th></th>\n",
       "      <th>Country</th>\n",
       "      <th>Date</th>\n",
       "      <th>Confirmed</th>\n",
       "      <th>Deaths</th>\n",
       "      <th>Recovered</th>\n",
       "    </tr>\n",
       "  </thead>\n",
       "  <tbody>\n",
       "    <tr>\n",
       "      <th>35</th>\n",
       "      <td>Afghanistan</td>\n",
       "      <td>2020-03-28</td>\n",
       "      <td>107.0</td>\n",
       "      <td>4.0</td>\n",
       "      <td>2.0</td>\n",
       "    </tr>\n",
       "    <tr>\n",
       "      <th>36</th>\n",
       "      <td>Afghanistan</td>\n",
       "      <td>2020-03-29</td>\n",
       "      <td>118.0</td>\n",
       "      <td>4.0</td>\n",
       "      <td>2.0</td>\n",
       "    </tr>\n",
       "    <tr>\n",
       "      <th>37</th>\n",
       "      <td>Afghanistan</td>\n",
       "      <td>2020-03-30</td>\n",
       "      <td>146.0</td>\n",
       "      <td>4.0</td>\n",
       "      <td>2.0</td>\n",
       "    </tr>\n",
       "    <tr>\n",
       "      <th>38</th>\n",
       "      <td>Afghanistan</td>\n",
       "      <td>2020-03-31</td>\n",
       "      <td>175.0</td>\n",
       "      <td>4.0</td>\n",
       "      <td>5.0</td>\n",
       "    </tr>\n",
       "    <tr>\n",
       "      <th>39</th>\n",
       "      <td>Afghanistan</td>\n",
       "      <td>2020-04-01</td>\n",
       "      <td>197.0</td>\n",
       "      <td>4.0</td>\n",
       "      <td>5.0</td>\n",
       "    </tr>\n",
       "    <tr>\n",
       "      <th>...</th>\n",
       "      <td>...</td>\n",
       "      <td>...</td>\n",
       "      <td>...</td>\n",
       "      <td>...</td>\n",
       "      <td>...</td>\n",
       "    </tr>\n",
       "    <tr>\n",
       "      <th>87269</th>\n",
       "      <td>Zimbabwe</td>\n",
       "      <td>2021-05-25</td>\n",
       "      <td>38706.0</td>\n",
       "      <td>1587.0</td>\n",
       "      <td>36517.0</td>\n",
       "    </tr>\n",
       "    <tr>\n",
       "      <th>87270</th>\n",
       "      <td>Zimbabwe</td>\n",
       "      <td>2021-05-26</td>\n",
       "      <td>38819.0</td>\n",
       "      <td>1589.0</td>\n",
       "      <td>36531.0</td>\n",
       "    </tr>\n",
       "    <tr>\n",
       "      <th>87271</th>\n",
       "      <td>Zimbabwe</td>\n",
       "      <td>2021-05-27</td>\n",
       "      <td>38854.0</td>\n",
       "      <td>1592.0</td>\n",
       "      <td>36541.0</td>\n",
       "    </tr>\n",
       "    <tr>\n",
       "      <th>87272</th>\n",
       "      <td>Zimbabwe</td>\n",
       "      <td>2021-05-28</td>\n",
       "      <td>38918.0</td>\n",
       "      <td>1592.0</td>\n",
       "      <td>36563.0</td>\n",
       "    </tr>\n",
       "    <tr>\n",
       "      <th>87273</th>\n",
       "      <td>Zimbabwe</td>\n",
       "      <td>2021-05-29</td>\n",
       "      <td>38933.0</td>\n",
       "      <td>1594.0</td>\n",
       "      <td>36578.0</td>\n",
       "    </tr>\n",
       "  </tbody>\n",
       "</table>\n",
       "<p>75055 rows × 5 columns</p>\n",
       "</div>"
      ],
      "text/plain": [
       "           Country       Date  Confirmed  Deaths  Recovered\n",
       "35     Afghanistan 2020-03-28      107.0     4.0        2.0\n",
       "36     Afghanistan 2020-03-29      118.0     4.0        2.0\n",
       "37     Afghanistan 2020-03-30      146.0     4.0        2.0\n",
       "38     Afghanistan 2020-03-31      175.0     4.0        5.0\n",
       "39     Afghanistan 2020-04-01      197.0     4.0        5.0\n",
       "...            ...        ...        ...     ...        ...\n",
       "87269     Zimbabwe 2021-05-25    38706.0  1587.0    36517.0\n",
       "87270     Zimbabwe 2021-05-26    38819.0  1589.0    36531.0\n",
       "87271     Zimbabwe 2021-05-27    38854.0  1592.0    36541.0\n",
       "87272     Zimbabwe 2021-05-28    38918.0  1592.0    36563.0\n",
       "87273     Zimbabwe 2021-05-29    38933.0  1594.0    36578.0\n",
       "\n",
       "[75055 rows x 5 columns]"
      ]
     },
     "execution_count": 196,
     "metadata": {},
     "output_type": "execute_result"
    }
   ],
   "source": [
    "df3"
   ]
  },
  {
   "cell_type": "markdown",
   "id": "430ff03d",
   "metadata": {},
   "source": [
    "# Matplotlib"
   ]
  },
  {
   "cell_type": "code",
   "execution_count": null,
   "id": "4933573c",
   "metadata": {},
   "outputs": [],
   "source": []
  }
 ],
 "metadata": {
  "kernelspec": {
   "display_name": "Python 3 (ipykernel)",
   "language": "python",
   "name": "python3"
  },
  "language_info": {
   "codemirror_mode": {
    "name": "ipython",
    "version": 3
   },
   "file_extension": ".py",
   "mimetype": "text/x-python",
   "name": "python",
   "nbconvert_exporter": "python",
   "pygments_lexer": "ipython3",
   "version": "3.9.7"
  }
 },
 "nbformat": 4,
 "nbformat_minor": 5
}
